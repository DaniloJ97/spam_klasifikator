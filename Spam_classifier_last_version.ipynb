{
  "cells": [
    {
      "cell_type": "markdown",
      "metadata": {
        "id": "view-in-github",
        "colab_type": "text"
      },
      "source": [
        "<a href=\"https://colab.research.google.com/github/DaniloJ97/spam_klasifikator/blob/main/Spam_classifier_last_version.ipynb\" target=\"_parent\"><img src=\"https://colab.research.google.com/assets/colab-badge.svg\" alt=\"Open In Colab\"/></a>"
      ]
    },
    {
      "cell_type": "code",
      "execution_count": null,
      "id": "0bbe9da4",
      "metadata": {
        "id": "0bbe9da4",
        "outputId": "3b8c6579-657d-4d08-c491-d31de8dd948a"
      },
      "outputs": [
        {
          "name": "stderr",
          "output_type": "stream",
          "text": [
            "[nltk_data] Downloading package stopwords to\n",
            "[nltk_data]     /Users/danilojanjusevic/nltk_data...\n",
            "[nltk_data]   Package stopwords is already up-to-date!\n"
          ]
        },
        {
          "data": {
            "text/plain": [
              "True"
            ]
          },
          "execution_count": 316,
          "metadata": {},
          "output_type": "execute_result"
        }
      ],
      "source": [
        "import re\n",
        "import string\n",
        "import nltk\n",
        "import numpy as np\n",
        "import pandas as pd\n",
        "import matplotlib.pyplot as plt\n",
        "import seaborn as sns\n",
        "from nltk.stem.porter import PorterStemmer\n",
        "from nltk.corpus import stopwords\n",
        "from sklearn import svm\n",
        "from sklearn.neighbors import KNeighborsClassifier\n",
        "from sklearn.neural_network import MLPClassifier\n",
        "from sklearn.feature_extraction.text import TfidfVectorizer, TfidfTransformer\n",
        "from sklearn.metrics import precision_score, recall_score, confusion_matrix, plot_confusion_matrix, classification_report, accuracy_score, f1_score, auc\n",
        "from sklearn.model_selection import train_test_split, GridSearchCV\n",
        "from sklearn.metrics import roc_curve\n",
        "from sklearn.metrics import roc_auc_score\n",
        "from gensim.models import Word2Vec\n",
        "from gensim.models import KeyedVectors\n",
        "nltk.download('stopwords')"
      ]
    },
    {
      "cell_type": "code",
      "execution_count": null,
      "id": "1c4f006d",
      "metadata": {
        "id": "1c4f006d"
      },
      "outputs": [],
      "source": [
        "sms = pd.read_csv('spam.csv',encoding='latin-1')"
      ]
    },
    {
      "cell_type": "code",
      "execution_count": null,
      "id": "ca6271e1",
      "metadata": {
        "id": "ca6271e1"
      },
      "outputs": [],
      "source": [
        "to_drop = [\"Unnamed: 2\",\"Unnamed: 3\",\"Unnamed: 4\"]\n",
        "sms = sms.drop(sms[to_drop], axis=1)"
      ]
    },
    {
      "cell_type": "code",
      "execution_count": null,
      "id": "950f7007",
      "metadata": {
        "id": "950f7007",
        "outputId": "9d27a3a7-7578-4557-925f-cd9ea2f2cd1f"
      },
      "outputs": [
        {
          "data": {
            "text/html": [
              "<div>\n",
              "<style scoped>\n",
              "    .dataframe tbody tr th:only-of-type {\n",
              "        vertical-align: middle;\n",
              "    }\n",
              "\n",
              "    .dataframe tbody tr th {\n",
              "        vertical-align: top;\n",
              "    }\n",
              "\n",
              "    .dataframe thead th {\n",
              "        text-align: right;\n",
              "    }\n",
              "</style>\n",
              "<table border=\"1\" class=\"dataframe\">\n",
              "  <thead>\n",
              "    <tr style=\"text-align: right;\">\n",
              "      <th></th>\n",
              "      <th>v1</th>\n",
              "      <th>v2</th>\n",
              "    </tr>\n",
              "  </thead>\n",
              "  <tbody>\n",
              "    <tr>\n",
              "      <th>0</th>\n",
              "      <td>ham</td>\n",
              "      <td>Go until jurong point, crazy.. Available only ...</td>\n",
              "    </tr>\n",
              "    <tr>\n",
              "      <th>1</th>\n",
              "      <td>ham</td>\n",
              "      <td>Ok lar... Joking wif u oni...</td>\n",
              "    </tr>\n",
              "    <tr>\n",
              "      <th>2</th>\n",
              "      <td>spam</td>\n",
              "      <td>Free entry in 2 a wkly comp to win FA Cup fina...</td>\n",
              "    </tr>\n",
              "    <tr>\n",
              "      <th>3</th>\n",
              "      <td>ham</td>\n",
              "      <td>U dun say so early hor... U c already then say...</td>\n",
              "    </tr>\n",
              "    <tr>\n",
              "      <th>4</th>\n",
              "      <td>ham</td>\n",
              "      <td>Nah I don't think he goes to usf, he lives aro...</td>\n",
              "    </tr>\n",
              "    <tr>\n",
              "      <th>...</th>\n",
              "      <td>...</td>\n",
              "      <td>...</td>\n",
              "    </tr>\n",
              "    <tr>\n",
              "      <th>5567</th>\n",
              "      <td>spam</td>\n",
              "      <td>This is the 2nd time we have tried 2 contact u...</td>\n",
              "    </tr>\n",
              "    <tr>\n",
              "      <th>5568</th>\n",
              "      <td>ham</td>\n",
              "      <td>Will Ì_ b going to esplanade fr home?</td>\n",
              "    </tr>\n",
              "    <tr>\n",
              "      <th>5569</th>\n",
              "      <td>ham</td>\n",
              "      <td>Pity, * was in mood for that. So...any other s...</td>\n",
              "    </tr>\n",
              "    <tr>\n",
              "      <th>5570</th>\n",
              "      <td>ham</td>\n",
              "      <td>The guy did some bitching but I acted like i'd...</td>\n",
              "    </tr>\n",
              "    <tr>\n",
              "      <th>5571</th>\n",
              "      <td>ham</td>\n",
              "      <td>Rofl. Its true to its name</td>\n",
              "    </tr>\n",
              "  </tbody>\n",
              "</table>\n",
              "<p>5572 rows × 2 columns</p>\n",
              "</div>"
            ],
            "text/plain": [
              "        v1                                                 v2\n",
              "0      ham  Go until jurong point, crazy.. Available only ...\n",
              "1      ham                      Ok lar... Joking wif u oni...\n",
              "2     spam  Free entry in 2 a wkly comp to win FA Cup fina...\n",
              "3      ham  U dun say so early hor... U c already then say...\n",
              "4      ham  Nah I don't think he goes to usf, he lives aro...\n",
              "...    ...                                                ...\n",
              "5567  spam  This is the 2nd time we have tried 2 contact u...\n",
              "5568   ham              Will Ì_ b going to esplanade fr home?\n",
              "5569   ham  Pity, * was in mood for that. So...any other s...\n",
              "5570   ham  The guy did some bitching but I acted like i'd...\n",
              "5571   ham                         Rofl. Its true to its name\n",
              "\n",
              "[5572 rows x 2 columns]"
            ]
          },
          "execution_count": 171,
          "metadata": {},
          "output_type": "execute_result"
        }
      ],
      "source": [
        "sms"
      ]
    },
    {
      "cell_type": "code",
      "execution_count": null,
      "id": "7527cf4d",
      "metadata": {
        "id": "7527cf4d"
      },
      "outputs": [],
      "source": [
        "sms.columns = ['class','message']\n",
        "sms['class'] = sms['class'].apply(lambda x: 1 if (x=='ham') else 0)"
      ]
    },
    {
      "cell_type": "code",
      "execution_count": null,
      "id": "31d19022",
      "metadata": {
        "id": "31d19022",
        "outputId": "39bbbee7-64c2-42b7-f5da-2425deedd43e"
      },
      "outputs": [
        {
          "data": {
            "text/html": [
              "<div>\n",
              "<style scoped>\n",
              "    .dataframe tbody tr th:only-of-type {\n",
              "        vertical-align: middle;\n",
              "    }\n",
              "\n",
              "    .dataframe tbody tr th {\n",
              "        vertical-align: top;\n",
              "    }\n",
              "\n",
              "    .dataframe thead tr th {\n",
              "        text-align: left;\n",
              "    }\n",
              "\n",
              "    .dataframe thead tr:last-of-type th {\n",
              "        text-align: right;\n",
              "    }\n",
              "</style>\n",
              "<table border=\"1\" class=\"dataframe\">\n",
              "  <thead>\n",
              "    <tr>\n",
              "      <th></th>\n",
              "      <th colspan=\"4\" halign=\"left\">message</th>\n",
              "    </tr>\n",
              "    <tr>\n",
              "      <th></th>\n",
              "      <th>count</th>\n",
              "      <th>unique</th>\n",
              "      <th>top</th>\n",
              "      <th>freq</th>\n",
              "    </tr>\n",
              "    <tr>\n",
              "      <th>class</th>\n",
              "      <th></th>\n",
              "      <th></th>\n",
              "      <th></th>\n",
              "      <th></th>\n",
              "    </tr>\n",
              "  </thead>\n",
              "  <tbody>\n",
              "    <tr>\n",
              "      <th>0</th>\n",
              "      <td>747</td>\n",
              "      <td>653</td>\n",
              "      <td>Please call our customer service representativ...</td>\n",
              "      <td>4</td>\n",
              "    </tr>\n",
              "    <tr>\n",
              "      <th>1</th>\n",
              "      <td>4825</td>\n",
              "      <td>4516</td>\n",
              "      <td>Sorry, I'll call later</td>\n",
              "      <td>30</td>\n",
              "    </tr>\n",
              "  </tbody>\n",
              "</table>\n",
              "</div>"
            ],
            "text/plain": [
              "      message                                                               \n",
              "        count unique                                                top freq\n",
              "class                                                                       \n",
              "0         747    653  Please call our customer service representativ...    4\n",
              "1        4825   4516                             Sorry, I'll call later   30"
            ]
          },
          "execution_count": 173,
          "metadata": {},
          "output_type": "execute_result"
        }
      ],
      "source": [
        "sms.groupby('class').describe()"
      ]
    },
    {
      "cell_type": "code",
      "execution_count": null,
      "id": "cca12458",
      "metadata": {
        "id": "cca12458",
        "outputId": "acfea565-e1a7-4dfb-bbe8-e5c372fd6bcf"
      },
      "outputs": [
        {
          "data": {
            "text/plain": [
              "'Please call our customer service representative on FREEPHONE 0808 145 4742 between 9am-11pm as you have WON a guaranteed å£1000 cash or å£5000 prize!'"
            ]
          },
          "execution_count": 174,
          "metadata": {},
          "output_type": "execute_result"
        }
      ],
      "source": [
        "sms.groupby('class').describe().iloc[0]['message'].top"
      ]
    },
    {
      "cell_type": "code",
      "execution_count": null,
      "id": "97fda1ce",
      "metadata": {
        "id": "97fda1ce"
      },
      "outputs": [],
      "source": [
        "sms_grouped = sms.groupby('class').agg('count').reset_index()"
      ]
    },
    {
      "cell_type": "code",
      "execution_count": null,
      "id": "384c187b",
      "metadata": {
        "id": "384c187b",
        "outputId": "ac6d50d5-2199-4667-a33d-892036245b2b"
      },
      "outputs": [
        {
          "data": {
            "text/plain": [
              "<seaborn.axisgrid.FacetGrid at 0x7fe66a002610>"
            ]
          },
          "execution_count": 176,
          "metadata": {},
          "output_type": "execute_result"
        },
        {
          "data": {
            "image/png": "[encoded data removed]",
            "text/plain": [
              "<Figure size 360x360 with 1 Axes>"
            ]
          },
          "metadata": {
            "needs_background": "light"
          },
          "output_type": "display_data"
        }
      ],
      "source": [
        "sns.catplot(x='class',y='message',kind='bar',data=sms_grouped)"
      ]
    },
    {
      "cell_type": "code",
      "execution_count": null,
      "id": "eeec74f7",
      "metadata": {
        "id": "eeec74f7"
      },
      "outputs": [],
      "source": [
        "sms['message_length'] = sms['message'].apply(lambda x: len(x))"
      ]
    },
    {
      "cell_type": "code",
      "execution_count": null,
      "id": "7017f99c",
      "metadata": {
        "id": "7017f99c",
        "outputId": "a9645238-6fec-4f6a-c656-23ed8f4929a6"
      },
      "outputs": [
        {
          "data": {
            "text/html": [
              "<div>\n",
              "<style scoped>\n",
              "    .dataframe tbody tr th:only-of-type {\n",
              "        vertical-align: middle;\n",
              "    }\n",
              "\n",
              "    .dataframe tbody tr th {\n",
              "        vertical-align: top;\n",
              "    }\n",
              "\n",
              "    .dataframe thead th {\n",
              "        text-align: right;\n",
              "    }\n",
              "</style>\n",
              "<table border=\"1\" class=\"dataframe\">\n",
              "  <thead>\n",
              "    <tr style=\"text-align: right;\">\n",
              "      <th></th>\n",
              "      <th>class</th>\n",
              "      <th>message_length</th>\n",
              "    </tr>\n",
              "  </thead>\n",
              "  <tbody>\n",
              "    <tr>\n",
              "      <th>count</th>\n",
              "      <td>5572.000000</td>\n",
              "      <td>5572.000000</td>\n",
              "    </tr>\n",
              "    <tr>\n",
              "      <th>mean</th>\n",
              "      <td>0.865937</td>\n",
              "      <td>80.118808</td>\n",
              "    </tr>\n",
              "    <tr>\n",
              "      <th>std</th>\n",
              "      <td>0.340751</td>\n",
              "      <td>59.690841</td>\n",
              "    </tr>\n",
              "    <tr>\n",
              "      <th>min</th>\n",
              "      <td>0.000000</td>\n",
              "      <td>2.000000</td>\n",
              "    </tr>\n",
              "    <tr>\n",
              "      <th>25%</th>\n",
              "      <td>1.000000</td>\n",
              "      <td>36.000000</td>\n",
              "    </tr>\n",
              "    <tr>\n",
              "      <th>50%</th>\n",
              "      <td>1.000000</td>\n",
              "      <td>61.000000</td>\n",
              "    </tr>\n",
              "    <tr>\n",
              "      <th>75%</th>\n",
              "      <td>1.000000</td>\n",
              "      <td>121.000000</td>\n",
              "    </tr>\n",
              "    <tr>\n",
              "      <th>max</th>\n",
              "      <td>1.000000</td>\n",
              "      <td>910.000000</td>\n",
              "    </tr>\n",
              "  </tbody>\n",
              "</table>\n",
              "</div>"
            ],
            "text/plain": [
              "             class  message_length\n",
              "count  5572.000000     5572.000000\n",
              "mean      0.865937       80.118808\n",
              "std       0.340751       59.690841\n",
              "min       0.000000        2.000000\n",
              "25%       1.000000       36.000000\n",
              "50%       1.000000       61.000000\n",
              "75%       1.000000      121.000000\n",
              "max       1.000000      910.000000"
            ]
          },
          "execution_count": 178,
          "metadata": {},
          "output_type": "execute_result"
        }
      ],
      "source": [
        "sms.describe()"
      ]
    },
    {
      "cell_type": "code",
      "execution_count": null,
      "id": "60f466f1",
      "metadata": {
        "id": "60f466f1",
        "outputId": "63bc1918-975e-4266-a016-3cc37dc04247"
      },
      "outputs": [
        {
          "data": {
            "text/plain": [
              "<matplotlib.legend.Legend at 0x7fe66a6a83a0>"
            ]
          },
          "execution_count": 179,
          "metadata": {},
          "output_type": "execute_result"
        },
        {
          "data": {
            "image/png": "[encoded data removed]",
            "text/plain": [
              "<Figure size 864x576 with 1 Axes>"
            ]
          },
          "metadata": {
            "needs_background": "light"
          },
          "output_type": "display_data"
        }
      ],
      "source": [
        "plt.figure(figsize=(12, 8))\n",
        "sms[sms['class']==0].message_length.plot(kind='hist',label='spam',alpha=0.6)\n",
        "sms[sms['class']==1].message_length.plot(kind='hist',label='ham',bins=30,alpha=0.6)\n",
        "plt.legend()"
      ]
    },
    {
      "cell_type": "code",
      "execution_count": null,
      "id": "888ebec2",
      "metadata": {
        "id": "888ebec2"
      },
      "outputs": [],
      "source": [
        "sms_ham = sms[sms['class']==1]\n",
        "sms_spam = sms[sms['class']==0]"
      ]
    },
    {
      "cell_type": "code",
      "execution_count": null,
      "id": "70430488",
      "metadata": {
        "id": "70430488",
        "outputId": "3040bea0-7e40-4f82-fedb-efa7f8de8167"
      },
      "outputs": [
        {
          "data": {
            "text/plain": [
              "21"
            ]
          },
          "execution_count": 181,
          "metadata": {},
          "output_type": "execute_result"
        }
      ],
      "source": [
        "len(sms_spam[sms_spam.message.str.contains('http')])"
      ]
    },
    {
      "cell_type": "code",
      "execution_count": null,
      "id": "2ec3b8b4",
      "metadata": {
        "id": "2ec3b8b4",
        "outputId": "e75db4fd-d323-4bc9-ff7f-7d0baba0afe1"
      },
      "outputs": [
        {
          "data": {
            "text/plain": [
              "0"
            ]
          },
          "execution_count": 182,
          "metadata": {},
          "output_type": "execute_result"
        }
      ],
      "source": [
        "len(sms_ham[sms_ham.message.str.contains('http')])"
      ]
    },
    {
      "cell_type": "code",
      "execution_count": null,
      "id": "98566819",
      "metadata": {
        "id": "98566819",
        "outputId": "e73c9032-fd85-4254-d568-91ae69eadb29"
      },
      "outputs": [
        {
          "data": {
            "text/plain": [
              "6"
            ]
          },
          "execution_count": 183,
          "metadata": {},
          "output_type": "execute_result"
        }
      ],
      "source": [
        "len(sms_spam[sms_spam.message.str.contains(r'\\b[A-Za-z0-9._%+-]+@[A-Za-z0-9.-]+\\.[A-Z|a-z]{2,}\\b',regex=True)])"
      ]
    },
    {
      "cell_type": "code",
      "execution_count": null,
      "id": "4c8940bd",
      "metadata": {
        "id": "4c8940bd",
        "outputId": "99490137-c75a-434d-c127-a722ae04c7ae"
      },
      "outputs": [
        {
          "data": {
            "text/plain": [
              "1"
            ]
          },
          "execution_count": 184,
          "metadata": {},
          "output_type": "execute_result"
        }
      ],
      "source": [
        "len(sms_ham[sms_ham.message.str.contains(r'\\b[A-Za-z0-9._%+-]+@[A-Za-z0-9.-]+\\.[A-Z|a-z]{2,}\\b',regex=True)])"
      ]
    },
    {
      "cell_type": "code",
      "execution_count": null,
      "id": "40f6e12e",
      "metadata": {
        "id": "40f6e12e",
        "outputId": "c8201b3b-bb03-4b67-ee69-884b44243041"
      },
      "outputs": [
        {
          "data": {
            "text/plain": [
              "708"
            ]
          },
          "execution_count": 185,
          "metadata": {},
          "output_type": "execute_result"
        }
      ],
      "source": [
        "len(sms_spam[sms_spam.message.str.contains(r\"[-+]?(?:\\d*\\.\\d+|\\d+)\",regex=True)])"
      ]
    },
    {
      "cell_type": "code",
      "execution_count": null,
      "id": "1ddfc83a",
      "metadata": {
        "id": "1ddfc83a",
        "outputId": "134e638f-b8e5-4a2b-e43c-ce83e8bef4f4"
      },
      "outputs": [
        {
          "data": {
            "text/html": [
              "<div>\n",
              "<style scoped>\n",
              "    .dataframe tbody tr th:only-of-type {\n",
              "        vertical-align: middle;\n",
              "    }\n",
              "\n",
              "    .dataframe tbody tr th {\n",
              "        vertical-align: top;\n",
              "    }\n",
              "\n",
              "    .dataframe thead th {\n",
              "        text-align: right;\n",
              "    }\n",
              "</style>\n",
              "<table border=\"1\" class=\"dataframe\">\n",
              "  <thead>\n",
              "    <tr style=\"text-align: right;\">\n",
              "      <th></th>\n",
              "      <th>class</th>\n",
              "      <th>message</th>\n",
              "      <th>message_length</th>\n",
              "    </tr>\n",
              "  </thead>\n",
              "  <tbody>\n",
              "    <tr>\n",
              "      <th>2</th>\n",
              "      <td>0</td>\n",
              "      <td>Free entry in 2 a wkly comp to win FA Cup fina...</td>\n",
              "      <td>155</td>\n",
              "    </tr>\n",
              "    <tr>\n",
              "      <th>5</th>\n",
              "      <td>0</td>\n",
              "      <td>FreeMsg Hey there darling it's been 3 week's n...</td>\n",
              "      <td>148</td>\n",
              "    </tr>\n",
              "    <tr>\n",
              "      <th>8</th>\n",
              "      <td>0</td>\n",
              "      <td>WINNER!! As a valued network customer you have...</td>\n",
              "      <td>158</td>\n",
              "    </tr>\n",
              "    <tr>\n",
              "      <th>9</th>\n",
              "      <td>0</td>\n",
              "      <td>Had your mobile 11 months or more? U R entitle...</td>\n",
              "      <td>154</td>\n",
              "    </tr>\n",
              "    <tr>\n",
              "      <th>11</th>\n",
              "      <td>0</td>\n",
              "      <td>SIX chances to win CASH! From 100 to 20,000 po...</td>\n",
              "      <td>136</td>\n",
              "    </tr>\n",
              "    <tr>\n",
              "      <th>...</th>\n",
              "      <td>...</td>\n",
              "      <td>...</td>\n",
              "      <td>...</td>\n",
              "    </tr>\n",
              "    <tr>\n",
              "      <th>5537</th>\n",
              "      <td>0</td>\n",
              "      <td>Want explicit SEX in 30 secs? Ring 02073162414...</td>\n",
              "      <td>90</td>\n",
              "    </tr>\n",
              "    <tr>\n",
              "      <th>5540</th>\n",
              "      <td>0</td>\n",
              "      <td>ASKED 3MOBILE IF 0870 CHATLINES INCLU IN FREE ...</td>\n",
              "      <td>160</td>\n",
              "    </tr>\n",
              "    <tr>\n",
              "      <th>5547</th>\n",
              "      <td>0</td>\n",
              "      <td>Had your contract mobile 11 Mnths? Latest Moto...</td>\n",
              "      <td>160</td>\n",
              "    </tr>\n",
              "    <tr>\n",
              "      <th>5566</th>\n",
              "      <td>0</td>\n",
              "      <td>REMINDER FROM O2: To get 2.50 pounds free call...</td>\n",
              "      <td>147</td>\n",
              "    </tr>\n",
              "    <tr>\n",
              "      <th>5567</th>\n",
              "      <td>0</td>\n",
              "      <td>This is the 2nd time we have tried 2 contact u...</td>\n",
              "      <td>161</td>\n",
              "    </tr>\n",
              "  </tbody>\n",
              "</table>\n",
              "<p>708 rows × 3 columns</p>\n",
              "</div>"
            ],
            "text/plain": [
              "      class                                            message  message_length\n",
              "2         0  Free entry in 2 a wkly comp to win FA Cup fina...             155\n",
              "5         0  FreeMsg Hey there darling it's been 3 week's n...             148\n",
              "8         0  WINNER!! As a valued network customer you have...             158\n",
              "9         0  Had your mobile 11 months or more? U R entitle...             154\n",
              "11        0  SIX chances to win CASH! From 100 to 20,000 po...             136\n",
              "...     ...                                                ...             ...\n",
              "5537      0  Want explicit SEX in 30 secs? Ring 02073162414...              90\n",
              "5540      0  ASKED 3MOBILE IF 0870 CHATLINES INCLU IN FREE ...             160\n",
              "5547      0  Had your contract mobile 11 Mnths? Latest Moto...             160\n",
              "5566      0  REMINDER FROM O2: To get 2.50 pounds free call...             147\n",
              "5567      0  This is the 2nd time we have tried 2 contact u...             161\n",
              "\n",
              "[708 rows x 3 columns]"
            ]
          },
          "execution_count": 186,
          "metadata": {},
          "output_type": "execute_result"
        }
      ],
      "source": [
        "sms_spam[sms_spam.message.str.contains(r\"[-+]?(?:\\d*\\.\\d+|\\d+)\",regex=True)]"
      ]
    },
    {
      "cell_type": "code",
      "execution_count": null,
      "id": "7be23b2e",
      "metadata": {
        "id": "7be23b2e",
        "outputId": "4359f91c-5892-4d3f-f522-a72ac1ae691a"
      },
      "outputs": [
        {
          "data": {
            "text/plain": [
              "748"
            ]
          },
          "execution_count": 187,
          "metadata": {},
          "output_type": "execute_result"
        }
      ],
      "source": [
        "len(sms_ham[sms_ham.message.str.contains(r\"[-+]?(?:\\d*\\.\\d+|\\d+)\",regex=True)])"
      ]
    },
    {
      "cell_type": "code",
      "execution_count": null,
      "id": "06326de4",
      "metadata": {
        "id": "06326de4",
        "outputId": "b7b8f2b9-bfc6-40da-9a45-8d21ca18018e"
      },
      "outputs": [
        {
          "data": {
            "text/plain": [
              "253"
            ]
          },
          "execution_count": 188,
          "metadata": {},
          "output_type": "execute_result"
        }
      ],
      "source": [
        "len(sms_spam[sms_spam.message.str.contains(\"£\",regex=True)])"
      ]
    },
    {
      "cell_type": "code",
      "execution_count": null,
      "id": "45e04f94",
      "metadata": {
        "id": "45e04f94",
        "outputId": "d0ce1893-4af8-4c4f-cf51-0ec75029fdf7"
      },
      "outputs": [
        {
          "data": {
            "text/plain": [
              "4"
            ]
          },
          "execution_count": 189,
          "metadata": {},
          "output_type": "execute_result"
        }
      ],
      "source": [
        "len(sms_ham[sms_ham.message.str.contains(\"£\",regex=True)])"
      ]
    },
    {
      "cell_type": "code",
      "execution_count": null,
      "id": "9883283c",
      "metadata": {
        "id": "9883283c",
        "outputId": "db43c568-f52c-46a4-d7a3-db86dd2af9a5"
      },
      "outputs": [
        {
          "data": {
            "text/plain": [
              "4"
            ]
          },
          "execution_count": 190,
          "metadata": {},
          "output_type": "execute_result"
        }
      ],
      "source": [
        "len(sms_spam[sms_spam.message.str.contains(\"\\$\",regex=True)])"
      ]
    },
    {
      "cell_type": "code",
      "execution_count": null,
      "id": "fa3c6a6e",
      "metadata": {
        "id": "fa3c6a6e",
        "outputId": "e65870de-4788-4a03-86f9-6239f9735284"
      },
      "outputs": [
        {
          "data": {
            "text/html": [
              "<div>\n",
              "<style scoped>\n",
              "    .dataframe tbody tr th:only-of-type {\n",
              "        vertical-align: middle;\n",
              "    }\n",
              "\n",
              "    .dataframe tbody tr th {\n",
              "        vertical-align: top;\n",
              "    }\n",
              "\n",
              "    .dataframe thead th {\n",
              "        text-align: right;\n",
              "    }\n",
              "</style>\n",
              "<table border=\"1\" class=\"dataframe\">\n",
              "  <thead>\n",
              "    <tr style=\"text-align: right;\">\n",
              "      <th></th>\n",
              "      <th>class</th>\n",
              "      <th>message</th>\n",
              "      <th>message_length</th>\n",
              "    </tr>\n",
              "  </thead>\n",
              "  <tbody>\n",
              "    <tr>\n",
              "      <th>60</th>\n",
              "      <td>1</td>\n",
              "      <td>Your gonna have to pick up a $1 burger for you...</td>\n",
              "      <td>108</td>\n",
              "    </tr>\n",
              "    <tr>\n",
              "      <th>177</th>\n",
              "      <td>1</td>\n",
              "      <td>Turns out my friends are staying for the whole...</td>\n",
              "      <td>146</td>\n",
              "    </tr>\n",
              "    <tr>\n",
              "      <th>837</th>\n",
              "      <td>1</td>\n",
              "      <td>Sir, I have been late in paying rent for the p...</td>\n",
              "      <td>372</td>\n",
              "    </tr>\n",
              "    <tr>\n",
              "      <th>1289</th>\n",
              "      <td>1</td>\n",
              "      <td>Hey...Great deal...Farm tour 9am to 5pm $95/pa...</td>\n",
              "      <td>70</td>\n",
              "    </tr>\n",
              "    <tr>\n",
              "      <th>1618</th>\n",
              "      <td>1</td>\n",
              "      <td>The 2 oz guy is being kinda flaky but one frie...</td>\n",
              "      <td>115</td>\n",
              "    </tr>\n",
              "    <tr>\n",
              "      <th>1765</th>\n",
              "      <td>1</td>\n",
              "      <td>Hi this is yijue... It's regarding the 3230 te...</td>\n",
              "      <td>121</td>\n",
              "    </tr>\n",
              "    <tr>\n",
              "      <th>2278</th>\n",
              "      <td>1</td>\n",
              "      <td>Hmm...Bad news...Hype park plaza $700 studio t...</td>\n",
              "      <td>78</td>\n",
              "    </tr>\n",
              "    <tr>\n",
              "      <th>2379</th>\n",
              "      <td>1</td>\n",
              "      <td>Good evening Sir, hope you are having a nice d...</td>\n",
              "      <td>482</td>\n",
              "    </tr>\n",
              "    <tr>\n",
              "      <th>2592</th>\n",
              "      <td>1</td>\n",
              "      <td>My friend just got here and says he's upping h...</td>\n",
              "      <td>117</td>\n",
              "    </tr>\n",
              "    <tr>\n",
              "      <th>2618</th>\n",
              "      <td>1</td>\n",
              "      <td>Hey pple...$700 or $900 for 5 nights...Excelle...</td>\n",
              "      <td>81</td>\n",
              "    </tr>\n",
              "    <tr>\n",
              "      <th>3548</th>\n",
              "      <td>1</td>\n",
              "      <td>I got like $ &amp;lt;#&amp;gt; , I can get some more l...</td>\n",
              "      <td>85</td>\n",
              "    </tr>\n",
              "    <tr>\n",
              "      <th>3882</th>\n",
              "      <td>1</td>\n",
              "      <td>Gumby's has a special where a  &amp;lt;#&amp;gt; \\ che...</td>\n",
              "      <td>96</td>\n",
              "    </tr>\n",
              "    <tr>\n",
              "      <th>4760</th>\n",
              "      <td>1</td>\n",
              "      <td>It's Ì© only $140 ard...Ìä rest all ard $180 a...</td>\n",
              "      <td>93</td>\n",
              "    </tr>\n",
              "    <tr>\n",
              "      <th>5260</th>\n",
              "      <td>1</td>\n",
              "      <td>If anyone calls for a treadmill say you'll buy...</td>\n",
              "      <td>127</td>\n",
              "    </tr>\n",
              "  </tbody>\n",
              "</table>\n",
              "</div>"
            ],
            "text/plain": [
              "      class                                            message  message_length\n",
              "60        1  Your gonna have to pick up a $1 burger for you...             108\n",
              "177       1  Turns out my friends are staying for the whole...             146\n",
              "837       1  Sir, I have been late in paying rent for the p...             372\n",
              "1289      1  Hey...Great deal...Farm tour 9am to 5pm $95/pa...              70\n",
              "1618      1  The 2 oz guy is being kinda flaky but one frie...             115\n",
              "1765      1  Hi this is yijue... It's regarding the 3230 te...             121\n",
              "2278      1  Hmm...Bad news...Hype park plaza $700 studio t...              78\n",
              "2379      1  Good evening Sir, hope you are having a nice d...             482\n",
              "2592      1  My friend just got here and says he's upping h...             117\n",
              "2618      1  Hey pple...$700 or $900 for 5 nights...Excelle...              81\n",
              "3548      1  I got like $ &lt;#&gt; , I can get some more l...              85\n",
              "3882      1  Gumby's has a special where a  &lt;#&gt; \\ che...              96\n",
              "4760      1  It's Ì© only $140 ard...Ìä rest all ard $180 a...              93\n",
              "5260      1  If anyone calls for a treadmill say you'll buy...             127"
            ]
          },
          "execution_count": 191,
          "metadata": {},
          "output_type": "execute_result"
        }
      ],
      "source": [
        "sms_ham[sms_ham.message.str.contains(\"\\$\",regex=True)]"
      ]
    },
    {
      "cell_type": "code",
      "execution_count": null,
      "id": "d22c0a7e",
      "metadata": {
        "id": "d22c0a7e",
        "outputId": "1f530563-3e90-4e11-ceca-ca6eecd9d921"
      },
      "outputs": [
        {
          "data": {
            "text/plain": [
              "6"
            ]
          },
          "execution_count": 192,
          "metadata": {},
          "output_type": "execute_result"
        }
      ],
      "source": [
        "len(sms_spam[sms_spam.message.str.contains(r'\\b[A-Za-z0-9._%+-]+@[A-Za-z0-9.-]+\\.[A-Z|a-z]{2,}\\b',regex=True)])"
      ]
    },
    {
      "cell_type": "code",
      "execution_count": null,
      "id": "8db37135",
      "metadata": {
        "id": "8db37135"
      },
      "outputs": [],
      "source": [
        "def replace_http_url(x):\n",
        "    words = x.replace('https','http')\n",
        "    words = x.split()\n",
        "    \n",
        "    words = [word if(not word.startswith('http')) else 'httpPrepared' for word in words]\n",
        "    \n",
        "    return ' '.join(words)"
      ]
    },
    {
      "cell_type": "code",
      "execution_count": null,
      "id": "cf92345e",
      "metadata": {
        "id": "cf92345e"
      },
      "outputs": [],
      "source": [
        "def replace_email(x):\n",
        "    words = x.split()\n",
        "    \n",
        "    regex = r'\\b[A-Za-z0-9._%+-]+@[A-Za-z0-9.-]+\\.[A-Z|a-z]{2,}\\b'\n",
        "    \n",
        "    words = [word if(not re.fullmatch(regex, word)) else \"emailPrepared\" for word in words]\n",
        "    \n",
        "    return \" \".join(words)"
      ]
    },
    {
      "cell_type": "code",
      "execution_count": null,
      "id": "9bf4b30d",
      "metadata": {
        "id": "9bf4b30d"
      },
      "outputs": [],
      "source": [
        "def replace_numbers(x):\n",
        "    words = re.sub(r\"[-+]?(?:\\d*\\.\\d+|\\d+)\", \" numberPrepared \", x)\n",
        "    \n",
        "    return words"
      ]
    },
    {
      "cell_type": "code",
      "execution_count": null,
      "id": "165feafc",
      "metadata": {
        "id": "165feafc"
      },
      "outputs": [],
      "source": [
        "def replace_currencies(x):\n",
        "    \n",
        "    words = x.replace('$','currencyPrepared').replace('£','currencyPrepared').replace('€','currencyPrepared')\n",
        "    \n",
        "    return words"
      ]
    },
    {
      "cell_type": "code",
      "execution_count": null,
      "id": "86f67c6c",
      "metadata": {
        "id": "86f67c6c"
      },
      "outputs": [],
      "source": [
        "def remove_punctation(x):\n",
        "    rx = '[' + re.escape(string.punctuation) + ']'\n",
        "    words = re.sub(rx, ' ', x)\n",
        "    return words"
      ]
    },
    {
      "cell_type": "code",
      "execution_count": null,
      "id": "93a9cdb4",
      "metadata": {
        "id": "93a9cdb4"
      },
      "outputs": [],
      "source": [
        "def remove_stop_words(x):\n",
        "    words = x.split()\n",
        "    \n",
        "    words = ' '.join([word for word in words if word not in \n",
        "    stopwords.words('english')])\n",
        "    return words"
      ]
    },
    {
      "cell_type": "code",
      "execution_count": null,
      "id": "f54e60fb",
      "metadata": {
        "id": "f54e60fb"
      },
      "outputs": [],
      "source": [
        "def stem_words(x):\n",
        "    words = x.split()\n",
        "    \n",
        "    ps = PorterStemmer()\n",
        "    \n",
        "    words = [ps.stem(word) for word in words]\n",
        "    \n",
        "    return ' '.join(words)"
      ]
    },
    {
      "cell_type": "code",
      "execution_count": null,
      "id": "c1e7e5b6",
      "metadata": {
        "id": "c1e7e5b6"
      },
      "outputs": [],
      "source": [
        "def prepare_and_normalize_data(x):\n",
        "    data = x.lower()\n",
        "    data = remove_stop_words(data)\n",
        "    data = replace_http_url(data)\n",
        "    data = replace_email(data)\n",
        "    data = replace_numbers(data)\n",
        "    data = replace_currencies(data)\n",
        "    data = remove_punctation(data)\n",
        "    data = stem_words(data)\n",
        "    \n",
        "    return data\n",
        "    "
      ]
    },
    {
      "cell_type": "code",
      "execution_count": null,
      "id": "fd698a90",
      "metadata": {
        "id": "fd698a90"
      },
      "outputs": [],
      "source": [
        "sms['normalized_message'] = sms['message'].apply(prepare_and_normalize_data)"
      ]
    },
    {
      "cell_type": "code",
      "execution_count": null,
      "id": "f06f0fae",
      "metadata": {
        "id": "f06f0fae",
        "outputId": "d3e31e14-7ff9-4fc7-df35-0b535bc3245a"
      },
      "outputs": [
        {
          "data": {
            "text/html": [
              "<div>\n",
              "<style scoped>\n",
              "    .dataframe tbody tr th:only-of-type {\n",
              "        vertical-align: middle;\n",
              "    }\n",
              "\n",
              "    .dataframe tbody tr th {\n",
              "        vertical-align: top;\n",
              "    }\n",
              "\n",
              "    .dataframe thead th {\n",
              "        text-align: right;\n",
              "    }\n",
              "</style>\n",
              "<table border=\"1\" class=\"dataframe\">\n",
              "  <thead>\n",
              "    <tr style=\"text-align: right;\">\n",
              "      <th></th>\n",
              "      <th>class</th>\n",
              "      <th>message</th>\n",
              "      <th>message_length</th>\n",
              "      <th>normalized_message</th>\n",
              "    </tr>\n",
              "  </thead>\n",
              "  <tbody>\n",
              "    <tr>\n",
              "      <th>0</th>\n",
              "      <td>1</td>\n",
              "      <td>Go until jurong point, crazy.. Available only ...</td>\n",
              "      <td>111</td>\n",
              "      <td>go jurong point crazi avail bugi n great world...</td>\n",
              "    </tr>\n",
              "    <tr>\n",
              "      <th>1</th>\n",
              "      <td>1</td>\n",
              "      <td>Ok lar... Joking wif u oni...</td>\n",
              "      <td>29</td>\n",
              "      <td>ok lar joke wif u oni</td>\n",
              "    </tr>\n",
              "    <tr>\n",
              "      <th>2</th>\n",
              "      <td>0</td>\n",
              "      <td>Free entry in 2 a wkly comp to win FA Cup fina...</td>\n",
              "      <td>155</td>\n",
              "      <td>free entri numberprepar wkli comp win fa cup f...</td>\n",
              "    </tr>\n",
              "    <tr>\n",
              "      <th>3</th>\n",
              "      <td>1</td>\n",
              "      <td>U dun say so early hor... U c already then say...</td>\n",
              "      <td>49</td>\n",
              "      <td>u dun say earli hor u c alreadi say</td>\n",
              "    </tr>\n",
              "    <tr>\n",
              "      <th>4</th>\n",
              "      <td>1</td>\n",
              "      <td>Nah I don't think he goes to usf, he lives aro...</td>\n",
              "      <td>61</td>\n",
              "      <td>nah think goe usf live around though</td>\n",
              "    </tr>\n",
              "    <tr>\n",
              "      <th>...</th>\n",
              "      <td>...</td>\n",
              "      <td>...</td>\n",
              "      <td>...</td>\n",
              "      <td>...</td>\n",
              "    </tr>\n",
              "    <tr>\n",
              "      <th>5567</th>\n",
              "      <td>0</td>\n",
              "      <td>This is the 2nd time we have tried 2 contact u...</td>\n",
              "      <td>161</td>\n",
              "      <td>numberprepar nd time tri numberprepar contact ...</td>\n",
              "    </tr>\n",
              "    <tr>\n",
              "      <th>5568</th>\n",
              "      <td>1</td>\n",
              "      <td>Will Ì_ b going to esplanade fr home?</td>\n",
              "      <td>37</td>\n",
              "      <td>ì b go esplanad fr home</td>\n",
              "    </tr>\n",
              "    <tr>\n",
              "      <th>5569</th>\n",
              "      <td>1</td>\n",
              "      <td>Pity, * was in mood for that. So...any other s...</td>\n",
              "      <td>57</td>\n",
              "      <td>piti mood that so ani suggest</td>\n",
              "    </tr>\n",
              "    <tr>\n",
              "      <th>5570</th>\n",
              "      <td>1</td>\n",
              "      <td>The guy did some bitching but I acted like i'd...</td>\n",
              "      <td>125</td>\n",
              "      <td>guy bitch act like i d interest buy someth els...</td>\n",
              "    </tr>\n",
              "    <tr>\n",
              "      <th>5571</th>\n",
              "      <td>1</td>\n",
              "      <td>Rofl. Its true to its name</td>\n",
              "      <td>26</td>\n",
              "      <td>rofl true name</td>\n",
              "    </tr>\n",
              "  </tbody>\n",
              "</table>\n",
              "<p>5572 rows × 4 columns</p>\n",
              "</div>"
            ],
            "text/plain": [
              "      class                                            message  \\\n",
              "0         1  Go until jurong point, crazy.. Available only ...   \n",
              "1         1                      Ok lar... Joking wif u oni...   \n",
              "2         0  Free entry in 2 a wkly comp to win FA Cup fina...   \n",
              "3         1  U dun say so early hor... U c already then say...   \n",
              "4         1  Nah I don't think he goes to usf, he lives aro...   \n",
              "...     ...                                                ...   \n",
              "5567      0  This is the 2nd time we have tried 2 contact u...   \n",
              "5568      1              Will Ì_ b going to esplanade fr home?   \n",
              "5569      1  Pity, * was in mood for that. So...any other s...   \n",
              "5570      1  The guy did some bitching but I acted like i'd...   \n",
              "5571      1                         Rofl. Its true to its name   \n",
              "\n",
              "      message_length                                 normalized_message  \n",
              "0                111  go jurong point crazi avail bugi n great world...  \n",
              "1                 29                              ok lar joke wif u oni  \n",
              "2                155  free entri numberprepar wkli comp win fa cup f...  \n",
              "3                 49                u dun say earli hor u c alreadi say  \n",
              "4                 61               nah think goe usf live around though  \n",
              "...              ...                                                ...  \n",
              "5567             161  numberprepar nd time tri numberprepar contact ...  \n",
              "5568              37                            ì b go esplanad fr home  \n",
              "5569              57                      piti mood that so ani suggest  \n",
              "5570             125  guy bitch act like i d interest buy someth els...  \n",
              "5571              26                                     rofl true name  \n",
              "\n",
              "[5572 rows x 4 columns]"
            ]
          },
          "execution_count": 202,
          "metadata": {},
          "output_type": "execute_result"
        }
      ],
      "source": [
        "sms"
      ]
    },
    {
      "cell_type": "code",
      "execution_count": null,
      "id": "aa1502c1",
      "metadata": {
        "id": "aa1502c1"
      },
      "outputs": [],
      "source": [
        "tf = TfidfVectorizer()"
      ]
    },
    {
      "cell_type": "code",
      "execution_count": null,
      "id": "4efc866b",
      "metadata": {
        "id": "4efc866b"
      },
      "outputs": [],
      "source": [
        "X_train, X_test, y_train, y_test = train_test_split(sms['normalized_message'], sms['class'], test_size=0.2, random_state=1)"
      ]
    },
    {
      "cell_type": "code",
      "execution_count": null,
      "id": "5d877721",
      "metadata": {
        "id": "5d877721",
        "outputId": "db69db9c-aa27-4b4d-a61f-6330a9b5dfd5"
      },
      "outputs": [
        {
          "data": {
            "text/plain": [
              "(4457,)"
            ]
          },
          "execution_count": 38,
          "metadata": {},
          "output_type": "execute_result"
        }
      ],
      "source": [
        "X_train.shape"
      ]
    },
    {
      "cell_type": "code",
      "execution_count": null,
      "id": "7933b8cb",
      "metadata": {
        "id": "7933b8cb"
      },
      "outputs": [],
      "source": [
        "vectors = tf.fit_transform(X_train)"
      ]
    },
    {
      "cell_type": "code",
      "execution_count": null,
      "id": "f8a10a11",
      "metadata": {
        "id": "f8a10a11"
      },
      "outputs": [],
      "source": [
        "X_train_tfidf = vectors.toarray()"
      ]
    },
    {
      "cell_type": "code",
      "execution_count": null,
      "id": "7fcd747e",
      "metadata": {
        "id": "7fcd747e",
        "outputId": "9feff3da-4881-4221-ef1b-ae465cf755ee"
      },
      "outputs": [
        {
          "data": {
            "text/plain": [
              "array([[0., 0., 0., ..., 0., 0., 0.],\n",
              "       [0., 0., 0., ..., 0., 0., 0.],\n",
              "       [0., 0., 0., ..., 0., 0., 0.],\n",
              "       ...,\n",
              "       [0., 0., 0., ..., 0., 0., 0.],\n",
              "       [0., 0., 0., ..., 0., 0., 0.],\n",
              "       [0., 0., 0., ..., 0., 0., 0.]])"
            ]
          },
          "execution_count": 41,
          "metadata": {},
          "output_type": "execute_result"
        }
      ],
      "source": [
        "X_train_tfidf"
      ]
    },
    {
      "cell_type": "code",
      "execution_count": null,
      "id": "f5693491",
      "metadata": {
        "id": "f5693491"
      },
      "outputs": [],
      "source": [
        "#tfidf_transformer = TfidfTransformer()\n",
        "#tfidf_transformer.fit(X_train_dtm)\n",
        "#X_train_tfidf = tfidf_transformer.transform(X_train_dtm)"
      ]
    },
    {
      "cell_type": "code",
      "execution_count": null,
      "id": "97d751cf",
      "metadata": {
        "id": "97d751cf",
        "outputId": "0dec94b4-69b2-44cd-f551-91ee4d107290"
      },
      "outputs": [
        {
          "data": {
            "text/plain": [
              "(4457, 5711)"
            ]
          },
          "execution_count": 43,
          "metadata": {},
          "output_type": "execute_result"
        }
      ],
      "source": [
        "X_train_tfidf.shape"
      ]
    },
    {
      "cell_type": "code",
      "execution_count": null,
      "id": "7d629da5",
      "metadata": {
        "id": "7d629da5"
      },
      "outputs": [],
      "source": [
        "X_test_tfidf = tf.transform(X_test)"
      ]
    },
    {
      "cell_type": "code",
      "execution_count": null,
      "id": "00043466",
      "metadata": {
        "id": "00043466"
      },
      "outputs": [],
      "source": [
        "X_test_tfidf = X_test_tfidf.toarray()"
      ]
    },
    {
      "cell_type": "code",
      "execution_count": null,
      "id": "d91d97df",
      "metadata": {
        "id": "d91d97df"
      },
      "outputs": [],
      "source": [
        "filename = 'GoogleNews-vectors-negative300.bin'\n",
        "w2v = KeyedVectors.load_word2vec_format(filename, binary=True)"
      ]
    },
    {
      "cell_type": "code",
      "execution_count": null,
      "id": "43f02163",
      "metadata": {
        "id": "43f02163"
      },
      "outputs": [],
      "source": [
        "def prepare_and_normalize_data_v2(x):\n",
        "    data = x.lower()\n",
        "    #data = remove_stop_words(data)\n",
        "    data = replace_http_url(data)\n",
        "    data = replace_email(data)\n",
        "    data = replace_numbers(data)\n",
        "    data = replace_currencies(data)\n",
        "    data = remove_punctation(data)\n",
        "    #data = stem_words(data)\n",
        "    \n",
        "    return data"
      ]
    },
    {
      "cell_type": "code",
      "execution_count": null,
      "id": "d3b56875",
      "metadata": {
        "id": "d3b56875"
      },
      "outputs": [],
      "source": [
        "sms['prepared_v2'] = sms.message.apply(prepare_and_normalize_data_v2)"
      ]
    },
    {
      "cell_type": "code",
      "execution_count": null,
      "id": "14637e1e",
      "metadata": {
        "id": "14637e1e"
      },
      "outputs": [],
      "source": [
        "sms['for_w2v'] = sms.prepared_v2.apply(lambda x: x.split())"
      ]
    },
    {
      "cell_type": "code",
      "execution_count": null,
      "id": "9d7036d5",
      "metadata": {
        "id": "9d7036d5"
      },
      "outputs": [],
      "source": [
        "def words_to_vectors(words):\n",
        "    sms_vect = np.zeros(300)\n",
        "    \n",
        "    for word in words:\n",
        "        try:\n",
        "            word_vect = w2v.get_vector(word)\n",
        "            sms_vect = sms_vect + word_vect\n",
        "        except:\n",
        "            #print(traceback.print_exc())\n",
        "            continue\n",
        "    \n",
        "    return sms_vect\n",
        "    "
      ]
    },
    {
      "cell_type": "code",
      "execution_count": null,
      "id": "327f0e32",
      "metadata": {
        "id": "327f0e32"
      },
      "outputs": [],
      "source": [
        "sms['sms_vect'] = sms.for_w2v.apply(words_to_vectors)"
      ]
    },
    {
      "cell_type": "code",
      "execution_count": null,
      "id": "7466b7e1",
      "metadata": {
        "id": "7466b7e1",
        "outputId": "d1829ed8-b0f9-47df-b61c-39b9c73a887c"
      },
      "outputs": [
        {
          "data": {
            "text/html": [
              "<div>\n",
              "<style scoped>\n",
              "    .dataframe tbody tr th:only-of-type {\n",
              "        vertical-align: middle;\n",
              "    }\n",
              "\n",
              "    .dataframe tbody tr th {\n",
              "        vertical-align: top;\n",
              "    }\n",
              "\n",
              "    .dataframe thead th {\n",
              "        text-align: right;\n",
              "    }\n",
              "</style>\n",
              "<table border=\"1\" class=\"dataframe\">\n",
              "  <thead>\n",
              "    <tr style=\"text-align: right;\">\n",
              "      <th></th>\n",
              "      <th>class</th>\n",
              "      <th>message</th>\n",
              "      <th>message_length</th>\n",
              "      <th>normalized_message</th>\n",
              "      <th>prepared_v2</th>\n",
              "      <th>for_w2v</th>\n",
              "      <th>sms_vect</th>\n",
              "    </tr>\n",
              "  </thead>\n",
              "  <tbody>\n",
              "    <tr>\n",
              "      <th>0</th>\n",
              "      <td>1</td>\n",
              "      <td>Go until jurong point, crazy.. Available only ...</td>\n",
              "      <td>111</td>\n",
              "      <td>go jurong point crazi avail bugi n great world...</td>\n",
              "      <td>go until jurong point  crazy   available only ...</td>\n",
              "      <td>[go, until, jurong, point, crazy, available, o...</td>\n",
              "      <td>[-0.0166015625, 0.69622802734375, 0.5478515625...</td>\n",
              "    </tr>\n",
              "    <tr>\n",
              "      <th>1</th>\n",
              "      <td>1</td>\n",
              "      <td>Ok lar... Joking wif u oni...</td>\n",
              "      <td>29</td>\n",
              "      <td>ok lar joke wif u oni</td>\n",
              "      <td>ok lar    joking wif u oni</td>\n",
              "      <td>[ok, lar, joking, wif, u, oni]</td>\n",
              "      <td>[-0.3794097900390625, 0.4822998046875, 0.36566...</td>\n",
              "    </tr>\n",
              "    <tr>\n",
              "      <th>2</th>\n",
              "      <td>0</td>\n",
              "      <td>Free entry in 2 a wkly comp to win FA Cup fina...</td>\n",
              "      <td>155</td>\n",
              "      <td>free entri numberprepar wkli comp win fa cup f...</td>\n",
              "      <td>free entry in  numberPrepared  a wkly comp to ...</td>\n",
              "      <td>[free, entry, in, numberPrepared, a, wkly, com...</td>\n",
              "      <td>[-1.4829330444335938, 0.7525634765625, -1.2535...</td>\n",
              "    </tr>\n",
              "    <tr>\n",
              "      <th>3</th>\n",
              "      <td>1</td>\n",
              "      <td>U dun say so early hor... U c already then say...</td>\n",
              "      <td>49</td>\n",
              "      <td>u dun say earli hor u c alreadi say</td>\n",
              "      <td>u dun say so early hor    u c already then say</td>\n",
              "      <td>[u, dun, say, so, early, hor, u, c, already, t...</td>\n",
              "      <td>[-0.60357666015625, 0.19818115234375, 1.083099...</td>\n",
              "    </tr>\n",
              "    <tr>\n",
              "      <th>4</th>\n",
              "      <td>1</td>\n",
              "      <td>Nah I don't think he goes to usf, he lives aro...</td>\n",
              "      <td>61</td>\n",
              "      <td>nah think goe usf live around though</td>\n",
              "      <td>nah i don t think he goes to usf  he lives aro...</td>\n",
              "      <td>[nah, i, don, t, think, he, goes, to, usf, he,...</td>\n",
              "      <td>[-0.113525390625, 0.688995361328125, -0.127319...</td>\n",
              "    </tr>\n",
              "    <tr>\n",
              "      <th>...</th>\n",
              "      <td>...</td>\n",
              "      <td>...</td>\n",
              "      <td>...</td>\n",
              "      <td>...</td>\n",
              "      <td>...</td>\n",
              "      <td>...</td>\n",
              "      <td>...</td>\n",
              "    </tr>\n",
              "    <tr>\n",
              "      <th>5567</th>\n",
              "      <td>0</td>\n",
              "      <td>This is the 2nd time we have tried 2 contact u...</td>\n",
              "      <td>161</td>\n",
              "      <td>numberprepar nd time tri numberprepar contact ...</td>\n",
              "      <td>this is the  numberPrepared nd time we have tr...</td>\n",
              "      <td>[this, is, the, numberPrepared, nd, time, we, ...</td>\n",
              "      <td>[0.04071044921875, 1.381216049194336, 1.462753...</td>\n",
              "    </tr>\n",
              "    <tr>\n",
              "      <th>5568</th>\n",
              "      <td>1</td>\n",
              "      <td>Will Ì_ b going to esplanade fr home?</td>\n",
              "      <td>37</td>\n",
              "      <td>ì b go esplanad fr home</td>\n",
              "      <td>will ì  b going to esplanade fr home</td>\n",
              "      <td>[will, ì, b, going, to, esplanade, fr, home]</td>\n",
              "      <td>[-0.1829833984375, 0.566162109375, 0.714244842...</td>\n",
              "    </tr>\n",
              "    <tr>\n",
              "      <th>5569</th>\n",
              "      <td>1</td>\n",
              "      <td>Pity, * was in mood for that. So...any other s...</td>\n",
              "      <td>57</td>\n",
              "      <td>piti mood that so ani suggest</td>\n",
              "      <td>pity    was in mood for that  so   any other s...</td>\n",
              "      <td>[pity, was, in, mood, for, that, so, any, othe...</td>\n",
              "      <td>[0.05413818359375, 0.31451416015625, 0.5879821...</td>\n",
              "    </tr>\n",
              "    <tr>\n",
              "      <th>5570</th>\n",
              "      <td>1</td>\n",
              "      <td>The guy did some bitching but I acted like i'd...</td>\n",
              "      <td>125</td>\n",
              "      <td>guy bitch act like i d interest buy someth els...</td>\n",
              "      <td>the guy did some bitching but i acted like i d...</td>\n",
              "      <td>[the, guy, did, some, bitching, but, i, acted,...</td>\n",
              "      <td>[1.27178955078125, 1.0802135467529297, 0.56307...</td>\n",
              "    </tr>\n",
              "    <tr>\n",
              "      <th>5571</th>\n",
              "      <td>1</td>\n",
              "      <td>Rofl. Its true to its name</td>\n",
              "      <td>26</td>\n",
              "      <td>rofl true name</td>\n",
              "      <td>rofl  its true to its name</td>\n",
              "      <td>[rofl, its, true, to, its, name]</td>\n",
              "      <td>[0.359130859375, 0.637420654296875, 0.55664062...</td>\n",
              "    </tr>\n",
              "  </tbody>\n",
              "</table>\n",
              "<p>5572 rows × 7 columns</p>\n",
              "</div>"
            ],
            "text/plain": [
              "      class                                            message  \\\n",
              "0         1  Go until jurong point, crazy.. Available only ...   \n",
              "1         1                      Ok lar... Joking wif u oni...   \n",
              "2         0  Free entry in 2 a wkly comp to win FA Cup fina...   \n",
              "3         1  U dun say so early hor... U c already then say...   \n",
              "4         1  Nah I don't think he goes to usf, he lives aro...   \n",
              "...     ...                                                ...   \n",
              "5567      0  This is the 2nd time we have tried 2 contact u...   \n",
              "5568      1              Will Ì_ b going to esplanade fr home?   \n",
              "5569      1  Pity, * was in mood for that. So...any other s...   \n",
              "5570      1  The guy did some bitching but I acted like i'd...   \n",
              "5571      1                         Rofl. Its true to its name   \n",
              "\n",
              "      message_length                                 normalized_message  \\\n",
              "0                111  go jurong point crazi avail bugi n great world...   \n",
              "1                 29                              ok lar joke wif u oni   \n",
              "2                155  free entri numberprepar wkli comp win fa cup f...   \n",
              "3                 49                u dun say earli hor u c alreadi say   \n",
              "4                 61               nah think goe usf live around though   \n",
              "...              ...                                                ...   \n",
              "5567             161  numberprepar nd time tri numberprepar contact ...   \n",
              "5568              37                            ì b go esplanad fr home   \n",
              "5569              57                      piti mood that so ani suggest   \n",
              "5570             125  guy bitch act like i d interest buy someth els...   \n",
              "5571              26                                     rofl true name   \n",
              "\n",
              "                                            prepared_v2  \\\n",
              "0     go until jurong point  crazy   available only ...   \n",
              "1                         ok lar    joking wif u oni      \n",
              "2     free entry in  numberPrepared  a wkly comp to ...   \n",
              "3     u dun say so early hor    u c already then say      \n",
              "4     nah i don t think he goes to usf  he lives aro...   \n",
              "...                                                 ...   \n",
              "5567  this is the  numberPrepared nd time we have tr...   \n",
              "5568              will ì  b going to esplanade fr home    \n",
              "5569  pity    was in mood for that  so   any other s...   \n",
              "5570  the guy did some bitching but i acted like i d...   \n",
              "5571                         rofl  its true to its name   \n",
              "\n",
              "                                                for_w2v  \\\n",
              "0     [go, until, jurong, point, crazy, available, o...   \n",
              "1                        [ok, lar, joking, wif, u, oni]   \n",
              "2     [free, entry, in, numberPrepared, a, wkly, com...   \n",
              "3     [u, dun, say, so, early, hor, u, c, already, t...   \n",
              "4     [nah, i, don, t, think, he, goes, to, usf, he,...   \n",
              "...                                                 ...   \n",
              "5567  [this, is, the, numberPrepared, nd, time, we, ...   \n",
              "5568       [will, ì, b, going, to, esplanade, fr, home]   \n",
              "5569  [pity, was, in, mood, for, that, so, any, othe...   \n",
              "5570  [the, guy, did, some, bitching, but, i, acted,...   \n",
              "5571                   [rofl, its, true, to, its, name]   \n",
              "\n",
              "                                               sms_vect  \n",
              "0     [-0.0166015625, 0.69622802734375, 0.5478515625...  \n",
              "1     [-0.3794097900390625, 0.4822998046875, 0.36566...  \n",
              "2     [-1.4829330444335938, 0.7525634765625, -1.2535...  \n",
              "3     [-0.60357666015625, 0.19818115234375, 1.083099...  \n",
              "4     [-0.113525390625, 0.688995361328125, -0.127319...  \n",
              "...                                                 ...  \n",
              "5567  [0.04071044921875, 1.381216049194336, 1.462753...  \n",
              "5568  [-0.1829833984375, 0.566162109375, 0.714244842...  \n",
              "5569  [0.05413818359375, 0.31451416015625, 0.5879821...  \n",
              "5570  [1.27178955078125, 1.0802135467529297, 0.56307...  \n",
              "5571  [0.359130859375, 0.637420654296875, 0.55664062...  \n",
              "\n",
              "[5572 rows x 7 columns]"
            ]
          },
          "execution_count": 52,
          "metadata": {},
          "output_type": "execute_result"
        }
      ],
      "source": [
        "sms"
      ]
    },
    {
      "cell_type": "code",
      "execution_count": null,
      "id": "20d6b409",
      "metadata": {
        "id": "20d6b409"
      },
      "outputs": [],
      "source": [
        "X_train_w2v, X_test_w2v, y_train_w2v, y_test_w2v = train_test_split(sms['sms_vect'], sms['class'], test_size=0.2, random_state=1)"
      ]
    },
    {
      "cell_type": "code",
      "execution_count": null,
      "id": "96597c0d",
      "metadata": {
        "id": "96597c0d"
      },
      "outputs": [],
      "source": [
        "X_w2v = np.array(sms.sms_vect.apply(lambda x: x.tolist()).tolist())"
      ]
    },
    {
      "cell_type": "code",
      "execution_count": null,
      "id": "fc4a0392",
      "metadata": {
        "id": "fc4a0392",
        "outputId": "68818842-85fd-4935-9a23-d84592ea9163"
      },
      "outputs": [
        {
          "data": {
            "text/plain": [
              "array([[-0.01660156,  0.69622803,  0.54785156, ..., -1.34747314,\n",
              "        -0.58264542, -0.06845093],\n",
              "       [-0.37940979,  0.4822998 ,  0.36566162, ..., -0.68515015,\n",
              "        -0.43725586,  0.65527344],\n",
              "       [-1.48293304,  0.75256348, -1.2535038 , ..., -2.39918518,\n",
              "        -2.24602509,  1.46713638],\n",
              "       ...,\n",
              "       [ 0.05413818,  0.31451416,  0.58798218, ..., -0.32907104,\n",
              "         0.15338135, -0.23619843],\n",
              "       [ 1.27178955,  1.08021355,  0.5630722 , ..., -1.38085938,\n",
              "        -0.03852081, -1.30883789],\n",
              "       [ 0.35913086,  0.63742065,  0.55664062, ...,  0.13427734,\n",
              "        -0.41300964,  0.06222534]])"
            ]
          },
          "execution_count": 55,
          "metadata": {},
          "output_type": "execute_result"
        }
      ],
      "source": [
        "X_w2v"
      ]
    },
    {
      "cell_type": "code",
      "execution_count": null,
      "id": "17a12abe",
      "metadata": {
        "id": "17a12abe"
      },
      "outputs": [],
      "source": [
        "X_train_w2v, X_test_w2v, y_train_w2v, y_test_w2v = train_test_split(X_w2v, sms['class'], test_size=0.2, random_state=1)"
      ]
    },
    {
      "cell_type": "code",
      "execution_count": null,
      "id": "819ff258",
      "metadata": {
        "id": "819ff258",
        "outputId": "68b0d734-361b-4fbe-ab58-06057eee0d3f"
      },
      "outputs": [
        {
          "name": "stdout",
          "output_type": "stream",
          "text": [
            "Fitting 5 folds for each of 12 candidates, totalling 60 fits\n",
            "[CV 1/5] END ........C=0.1, gamma=1, kernel=rbf;, score=0.939 total time=  18.4s\n",
            "[CV 2/5] END ........C=0.1, gamma=1, kernel=rbf;, score=0.941 total time=  18.2s\n",
            "[CV 3/5] END ........C=0.1, gamma=1, kernel=rbf;, score=0.958 total time=  19.6s\n",
            "[CV 4/5] END ........C=0.1, gamma=1, kernel=rbf;, score=0.952 total time=  18.6s\n",
            "[CV 5/5] END ........C=0.1, gamma=1, kernel=rbf;, score=0.941 total time=  17.2s\n",
            "[CV 1/5] END ......C=0.1, gamma=0.1, kernel=rbf;, score=0.885 total time=  17.2s\n",
            "[CV 2/5] END ......C=0.1, gamma=0.1, kernel=rbf;, score=0.885 total time=  18.9s\n",
            "[CV 3/5] END ......C=0.1, gamma=0.1, kernel=rbf;, score=0.883 total time=  17.8s\n",
            "[CV 4/5] END ......C=0.1, gamma=0.1, kernel=rbf;, score=0.893 total time=  15.8s\n",
            "[CV 5/5] END ......C=0.1, gamma=0.1, kernel=rbf;, score=0.884 total time=  20.1s\n",
            "[CV 1/5] END .....C=0.1, gamma=0.01, kernel=rbf;, score=0.863 total time=  19.5s\n",
            "[CV 2/5] END .....C=0.1, gamma=0.01, kernel=rbf;, score=0.863 total time=  20.8s\n",
            "[CV 3/5] END .....C=0.1, gamma=0.01, kernel=rbf;, score=0.864 total time=  19.7s\n",
            "[CV 4/5] END .....C=0.1, gamma=0.01, kernel=rbf;, score=0.864 total time=  19.1s\n",
            "[CV 5/5] END .....C=0.1, gamma=0.01, kernel=rbf;, score=0.863 total time=  20.6s\n",
            "[CV 1/5] END ..........C=1, gamma=1, kernel=rbf;, score=0.976 total time=  19.9s\n",
            "[CV 2/5] END ..........C=1, gamma=1, kernel=rbf;, score=0.980 total time=  18.5s\n",
            "[CV 3/5] END ..........C=1, gamma=1, kernel=rbf;, score=0.981 total time=  17.4s\n",
            "[CV 4/5] END ..........C=1, gamma=1, kernel=rbf;, score=0.984 total time=  20.1s\n",
            "[CV 5/5] END ..........C=1, gamma=1, kernel=rbf;, score=0.984 total time=  19.6s\n",
            "[CV 1/5] END ........C=1, gamma=0.1, kernel=rbf;, score=0.973 total time=  12.7s\n",
            "[CV 2/5] END ........C=1, gamma=0.1, kernel=rbf;, score=0.965 total time=  12.5s\n",
            "[CV 3/5] END ........C=1, gamma=0.1, kernel=rbf;, score=0.974 total time=  13.1s\n",
            "[CV 4/5] END ........C=1, gamma=0.1, kernel=rbf;, score=0.976 total time=  13.7s\n",
            "[CV 5/5] END ........C=1, gamma=0.1, kernel=rbf;, score=0.978 total time=  13.5s\n",
            "[CV 1/5] END .......C=1, gamma=0.01, kernel=rbf;, score=0.900 total time=  19.7s\n",
            "[CV 2/5] END .......C=1, gamma=0.01, kernel=rbf;, score=0.900 total time=  15.9s\n",
            "[CV 3/5] END .......C=1, gamma=0.01, kernel=rbf;, score=0.912 total time=  18.7s\n",
            "[CV 4/5] END .......C=1, gamma=0.01, kernel=rbf;, score=0.910 total time=  20.0s\n",
            "[CV 5/5] END .......C=1, gamma=0.01, kernel=rbf;, score=0.900 total time=  17.9s\n",
            "[CV 1/5] END .........C=10, gamma=1, kernel=rbf;, score=0.978 total time=  19.8s\n",
            "[CV 2/5] END .........C=10, gamma=1, kernel=rbf;, score=0.988 total time=  22.6s\n",
            "[CV 3/5] END .........C=10, gamma=1, kernel=rbf;, score=0.982 total time=  23.4s\n",
            "[CV 4/5] END .........C=10, gamma=1, kernel=rbf;, score=0.987 total time=  23.3s\n",
            "[CV 5/5] END .........C=10, gamma=1, kernel=rbf;, score=0.990 total time=  23.4s\n",
            "[CV 1/5] END .......C=10, gamma=0.1, kernel=rbf;, score=0.979 total time=  11.8s\n",
            "[CV 2/5] END .......C=10, gamma=0.1, kernel=rbf;, score=0.984 total time=  13.2s\n",
            "[CV 3/5] END .......C=10, gamma=0.1, kernel=rbf;, score=0.984 total time=  12.6s\n",
            "[CV 4/5] END .......C=10, gamma=0.1, kernel=rbf;, score=0.989 total time=  11.7s\n",
            "[CV 5/5] END .......C=10, gamma=0.1, kernel=rbf;, score=0.993 total time=  11.2s\n",
            "[CV 1/5] END ......C=10, gamma=0.01, kernel=rbf;, score=0.974 total time=  10.1s\n",
            "[CV 2/5] END ......C=10, gamma=0.01, kernel=rbf;, score=0.966 total time=  10.7s\n",
            "[CV 3/5] END ......C=10, gamma=0.01, kernel=rbf;, score=0.975 total time=  11.3s\n",
            "[CV 4/5] END ......C=10, gamma=0.01, kernel=rbf;, score=0.978 total time=  11.7s\n",
            "[CV 5/5] END ......C=10, gamma=0.01, kernel=rbf;, score=0.979 total time=  12.6s\n",
            "[CV 1/5] END ........C=100, gamma=1, kernel=rbf;, score=0.978 total time=  21.4s\n",
            "[CV 2/5] END ........C=100, gamma=1, kernel=rbf;, score=0.988 total time=  22.4s\n",
            "[CV 3/5] END ........C=100, gamma=1, kernel=rbf;, score=0.982 total time=  20.6s\n",
            "[CV 4/5] END ........C=100, gamma=1, kernel=rbf;, score=0.987 total time=  21.1s\n",
            "[CV 5/5] END ........C=100, gamma=1, kernel=rbf;, score=0.990 total time=  24.7s\n",
            "[CV 1/5] END ......C=100, gamma=0.1, kernel=rbf;, score=0.978 total time=  12.8s\n",
            "[CV 2/5] END ......C=100, gamma=0.1, kernel=rbf;, score=0.983 total time=  10.7s\n",
            "[CV 3/5] END ......C=100, gamma=0.1, kernel=rbf;, score=0.983 total time=  10.9s\n",
            "[CV 4/5] END ......C=100, gamma=0.1, kernel=rbf;, score=0.990 total time=  11.3s\n",
            "[CV 5/5] END ......C=100, gamma=0.1, kernel=rbf;, score=0.992 total time=  12.4s\n",
            "[CV 1/5] END .....C=100, gamma=0.01, kernel=rbf;, score=0.979 total time=  10.0s\n",
            "[CV 2/5] END .....C=100, gamma=0.01, kernel=rbf;, score=0.983 total time=  10.4s\n",
            "[CV 3/5] END .....C=100, gamma=0.01, kernel=rbf;, score=0.984 total time=  11.9s\n",
            "[CV 4/5] END .....C=100, gamma=0.01, kernel=rbf;, score=0.989 total time=  10.8s\n",
            "[CV 5/5] END .....C=100, gamma=0.01, kernel=rbf;, score=0.994 total time=  10.7s\n"
          ]
        },
        {
          "data": {
            "text/plain": [
              "GridSearchCV(estimator=SVC(),\n",
              "             param_grid={'C': [0.1, 1, 10, 100], 'gamma': [1, 0.1, 0.01],\n",
              "                         'kernel': ['rbf']},\n",
              "             verbose=3)"
            ]
          },
          "execution_count": 57,
          "metadata": {},
          "output_type": "execute_result"
        }
      ],
      "source": [
        "param_grid = {'C': [0.1, 1, 10, 100],\n",
        "              'gamma': [1, 0.1, 0.01],\n",
        "              'kernel': ['rbf']}\n",
        " \n",
        "grid = GridSearchCV(svm.SVC(), param_grid, refit = True, verbose = 3)\n",
        "grid.fit(X_train_tfidf,y_train)"
      ]
    },
    {
      "cell_type": "code",
      "execution_count": null,
      "id": "99779cbe",
      "metadata": {
        "id": "99779cbe",
        "outputId": "c62abcc2-2c12-4c5b-fcd8-3419bade62bb"
      },
      "outputs": [
        {
          "name": "stdout",
          "output_type": "stream",
          "text": [
            "{'C': 100, 'gamma': 0.01, 'kernel': 'rbf'}\n"
          ]
        }
      ],
      "source": [
        "print(grid.best_params_)"
      ]
    },
    {
      "cell_type": "code",
      "execution_count": null,
      "id": "3ce18e89",
      "metadata": {
        "id": "3ce18e89",
        "outputId": "c729aa9d-e8e7-4ac1-d072-2fd53e58fb9a"
      },
      "outputs": [
        {
          "name": "stdout",
          "output_type": "stream",
          "text": [
            "SVC(C=100, gamma=0.01)\n"
          ]
        }
      ],
      "source": [
        "print(grid.best_estimator_)"
      ]
    },
    {
      "cell_type": "code",
      "execution_count": null,
      "id": "277a2ae1",
      "metadata": {
        "id": "277a2ae1"
      },
      "outputs": [],
      "source": [
        "cv_results = pd.DataFrame(grid.cv_results_)[['params','mean_test_score']]"
      ]
    },
    {
      "cell_type": "code",
      "execution_count": null,
      "id": "e44b265b",
      "metadata": {
        "id": "e44b265b",
        "outputId": "687cf4d3-78f8-46ff-ef0f-b02ac19efe54"
      },
      "outputs": [
        {
          "data": {
            "text/html": [
              "<div>\n",
              "<style scoped>\n",
              "    .dataframe tbody tr th:only-of-type {\n",
              "        vertical-align: middle;\n",
              "    }\n",
              "\n",
              "    .dataframe tbody tr th {\n",
              "        vertical-align: top;\n",
              "    }\n",
              "\n",
              "    .dataframe thead th {\n",
              "        text-align: right;\n",
              "    }\n",
              "</style>\n",
              "<table border=\"1\" class=\"dataframe\">\n",
              "  <thead>\n",
              "    <tr style=\"text-align: right;\">\n",
              "      <th></th>\n",
              "      <th>params</th>\n",
              "      <th>mean_test_score</th>\n",
              "    </tr>\n",
              "  </thead>\n",
              "  <tbody>\n",
              "    <tr>\n",
              "      <th>11</th>\n",
              "      <td>{'C': 100, 'gamma': 0.01, 'kernel': 'rbf'}</td>\n",
              "      <td>0.985867</td>\n",
              "    </tr>\n",
              "    <tr>\n",
              "      <th>7</th>\n",
              "      <td>{'C': 10, 'gamma': 0.1, 'kernel': 'rbf'}</td>\n",
              "      <td>0.985867</td>\n",
              "    </tr>\n",
              "    <tr>\n",
              "      <th>10</th>\n",
              "      <td>{'C': 100, 'gamma': 0.1, 'kernel': 'rbf'}</td>\n",
              "      <td>0.985194</td>\n",
              "    </tr>\n",
              "    <tr>\n",
              "      <th>6</th>\n",
              "      <td>{'C': 10, 'gamma': 1, 'kernel': 'rbf'}</td>\n",
              "      <td>0.984744</td>\n",
              "    </tr>\n",
              "    <tr>\n",
              "      <th>9</th>\n",
              "      <td>{'C': 100, 'gamma': 1, 'kernel': 'rbf'}</td>\n",
              "      <td>0.984744</td>\n",
              "    </tr>\n",
              "    <tr>\n",
              "      <th>3</th>\n",
              "      <td>{'C': 1, 'gamma': 1, 'kernel': 'rbf'}</td>\n",
              "      <td>0.981155</td>\n",
              "    </tr>\n",
              "    <tr>\n",
              "      <th>8</th>\n",
              "      <td>{'C': 10, 'gamma': 0.01, 'kernel': 'rbf'}</td>\n",
              "      <td>0.974424</td>\n",
              "    </tr>\n",
              "    <tr>\n",
              "      <th>4</th>\n",
              "      <td>{'C': 1, 'gamma': 0.1, 'kernel': 'rbf'}</td>\n",
              "      <td>0.973302</td>\n",
              "    </tr>\n",
              "    <tr>\n",
              "      <th>0</th>\n",
              "      <td>{'C': 0.1, 'gamma': 1, 'kernel': 'rbf'}</td>\n",
              "      <td>0.946155</td>\n",
              "    </tr>\n",
              "    <tr>\n",
              "      <th>5</th>\n",
              "      <td>{'C': 1, 'gamma': 0.01, 'kernel': 'rbf'}</td>\n",
              "      <td>0.904646</td>\n",
              "    </tr>\n",
              "    <tr>\n",
              "      <th>1</th>\n",
              "      <td>{'C': 0.1, 'gamma': 0.1, 'kernel': 'rbf'}</td>\n",
              "      <td>0.886023</td>\n",
              "    </tr>\n",
              "    <tr>\n",
              "      <th>2</th>\n",
              "      <td>{'C': 0.1, 'gamma': 0.01, 'kernel': 'rbf'}</td>\n",
              "      <td>0.863586</td>\n",
              "    </tr>\n",
              "  </tbody>\n",
              "</table>\n",
              "</div>"
            ],
            "text/plain": [
              "                                        params  mean_test_score\n",
              "11  {'C': 100, 'gamma': 0.01, 'kernel': 'rbf'}         0.985867\n",
              "7     {'C': 10, 'gamma': 0.1, 'kernel': 'rbf'}         0.985867\n",
              "10   {'C': 100, 'gamma': 0.1, 'kernel': 'rbf'}         0.985194\n",
              "6       {'C': 10, 'gamma': 1, 'kernel': 'rbf'}         0.984744\n",
              "9      {'C': 100, 'gamma': 1, 'kernel': 'rbf'}         0.984744\n",
              "3        {'C': 1, 'gamma': 1, 'kernel': 'rbf'}         0.981155\n",
              "8    {'C': 10, 'gamma': 0.01, 'kernel': 'rbf'}         0.974424\n",
              "4      {'C': 1, 'gamma': 0.1, 'kernel': 'rbf'}         0.973302\n",
              "0      {'C': 0.1, 'gamma': 1, 'kernel': 'rbf'}         0.946155\n",
              "5     {'C': 1, 'gamma': 0.01, 'kernel': 'rbf'}         0.904646\n",
              "1    {'C': 0.1, 'gamma': 0.1, 'kernel': 'rbf'}         0.886023\n",
              "2   {'C': 0.1, 'gamma': 0.01, 'kernel': 'rbf'}         0.863586"
            ]
          },
          "execution_count": 61,
          "metadata": {},
          "output_type": "execute_result"
        }
      ],
      "source": [
        "cv_results.sort_values(by='mean_test_score',ascending=False)"
      ]
    },
    {
      "cell_type": "code",
      "execution_count": null,
      "id": "ca5ba304",
      "metadata": {
        "id": "ca5ba304"
      },
      "outputs": [],
      "source": [
        "svm_predicted = grid.predict(X_test_tfidf)"
      ]
    },
    {
      "cell_type": "code",
      "execution_count": null,
      "id": "267c96de",
      "metadata": {
        "id": "267c96de",
        "outputId": "95912088-278a-4f57-a45d-216064570ee9"
      },
      "outputs": [
        {
          "data": {
            "text/plain": [
              "0.9910313901345291"
            ]
          },
          "execution_count": 143,
          "metadata": {},
          "output_type": "execute_result"
        }
      ],
      "source": [
        "accuracy_score(y_test,svm_predicted)"
      ]
    },
    {
      "cell_type": "code",
      "execution_count": null,
      "id": "e218335c",
      "metadata": {
        "id": "e218335c",
        "outputId": "66faf6fd-c9a3-4850-9649-f7ac3256ffeb"
      },
      "outputs": [
        {
          "data": {
            "text/plain": [
              "0.963768115942029"
            ]
          },
          "execution_count": 144,
          "metadata": {},
          "output_type": "execute_result"
        }
      ],
      "source": [
        "f1_score(y_test,svm_predicted, pos_label=0)"
      ]
    },
    {
      "cell_type": "code",
      "execution_count": null,
      "id": "e57161b5",
      "metadata": {
        "id": "e57161b5",
        "outputId": "c2fbd1b4-8f69-4493-f4ce-89e0127717e1"
      },
      "outputs": [
        {
          "data": {
            "text/plain": [
              "0.9708029197080292"
            ]
          },
          "execution_count": 145,
          "metadata": {},
          "output_type": "execute_result"
        }
      ],
      "source": [
        "precision_score(y_test,svm_predicted, pos_label=0)"
      ]
    },
    {
      "cell_type": "code",
      "execution_count": null,
      "id": "0e25906f",
      "metadata": {
        "id": "0e25906f",
        "outputId": "f6c41af8-0691-4e58-cfda-be4496cde5d7"
      },
      "outputs": [
        {
          "data": {
            "text/plain": [
              "0.9568345323741008"
            ]
          },
          "execution_count": 146,
          "metadata": {},
          "output_type": "execute_result"
        }
      ],
      "source": [
        "recall_score(y_test,svm_predicted, pos_label=0)"
      ]
    },
    {
      "cell_type": "code",
      "execution_count": null,
      "id": "22a21e7b",
      "metadata": {
        "id": "22a21e7b",
        "outputId": "363138e5-3ff8-4d94-8180-bbcf3728824c"
      },
      "outputs": [
        {
          "data": {
            "text/plain": [
              "<sklearn.metrics._plot.confusion_matrix.ConfusionMatrixDisplay at 0x7fe6a6212130>"
            ]
          },
          "execution_count": 66,
          "metadata": {},
          "output_type": "execute_result"
        },
        {
          "data": {
            "image/png": "[encoded data removed]",
            "text/plain": [
              "<Figure size 432x288 with 2 Axes>"
            ]
          },
          "metadata": {
            "needs_background": "light"
          },
          "output_type": "display_data"
        }
      ],
      "source": [
        "plot_confusion_matrix(grid,X_test_tfidf,y_test)"
      ]
    },
    {
      "cell_type": "code",
      "execution_count": null,
      "id": "5ed16ce2",
      "metadata": {
        "id": "5ed16ce2",
        "outputId": "d9e8a4b4-f859-480e-b4e7-abbc39670862"
      },
      "outputs": [
        {
          "name": "stdout",
          "output_type": "stream",
          "text": [
            "Fitting 5 folds for each of 12 candidates, totalling 60 fits\n"
          ]
        },
        {
          "name": "stderr",
          "output_type": "stream",
          "text": [
            "/Users/danilojanjusevic/opt/anaconda3/lib/python3.9/site-packages/sklearn/neural_network/_multilayer_perceptron.py:614: ConvergenceWarning: Stochastic Optimizer: Maximum iterations (200) reached and the optimization hasn't converged yet.\n",
            "  warnings.warn(\n"
          ]
        },
        {
          "name": "stdout",
          "output_type": "stream",
          "text": [
            "[CV 1/5] END activation=tanh, hidden_layer_sizes=(10, 20), solver=sgd;, score=0.953 total time=  13.9s\n"
          ]
        },
        {
          "name": "stderr",
          "output_type": "stream",
          "text": [
            "/Users/danilojanjusevic/opt/anaconda3/lib/python3.9/site-packages/sklearn/neural_network/_multilayer_perceptron.py:614: ConvergenceWarning: Stochastic Optimizer: Maximum iterations (200) reached and the optimization hasn't converged yet.\n",
            "  warnings.warn(\n"
          ]
        },
        {
          "name": "stdout",
          "output_type": "stream",
          "text": [
            "[CV 2/5] END activation=tanh, hidden_layer_sizes=(10, 20), solver=sgd;, score=0.947 total time=  15.3s\n"
          ]
        },
        {
          "name": "stderr",
          "output_type": "stream",
          "text": [
            "/Users/danilojanjusevic/opt/anaconda3/lib/python3.9/site-packages/sklearn/neural_network/_multilayer_perceptron.py:614: ConvergenceWarning: Stochastic Optimizer: Maximum iterations (200) reached and the optimization hasn't converged yet.\n",
            "  warnings.warn(\n"
          ]
        },
        {
          "name": "stdout",
          "output_type": "stream",
          "text": [
            "[CV 3/5] END activation=tanh, hidden_layer_sizes=(10, 20), solver=sgd;, score=0.963 total time=  14.9s\n"
          ]
        },
        {
          "name": "stderr",
          "output_type": "stream",
          "text": [
            "/Users/danilojanjusevic/opt/anaconda3/lib/python3.9/site-packages/sklearn/neural_network/_multilayer_perceptron.py:614: ConvergenceWarning: Stochastic Optimizer: Maximum iterations (200) reached and the optimization hasn't converged yet.\n",
            "  warnings.warn(\n"
          ]
        },
        {
          "name": "stdout",
          "output_type": "stream",
          "text": [
            "[CV 4/5] END activation=tanh, hidden_layer_sizes=(10, 20), solver=sgd;, score=0.962 total time=  15.4s\n"
          ]
        },
        {
          "name": "stderr",
          "output_type": "stream",
          "text": [
            "/Users/danilojanjusevic/opt/anaconda3/lib/python3.9/site-packages/sklearn/neural_network/_multilayer_perceptron.py:614: ConvergenceWarning: Stochastic Optimizer: Maximum iterations (200) reached and the optimization hasn't converged yet.\n",
            "  warnings.warn(\n"
          ]
        },
        {
          "name": "stdout",
          "output_type": "stream",
          "text": [
            "[CV 5/5] END activation=tanh, hidden_layer_sizes=(10, 20), solver=sgd;, score=0.942 total time=  16.0s\n",
            "[CV 1/5] END activation=tanh, hidden_layer_sizes=(10, 20), solver=adam;, score=0.973 total time=   4.8s\n",
            "[CV 2/5] END activation=tanh, hidden_layer_sizes=(10, 20), solver=adam;, score=0.985 total time=   4.9s\n",
            "[CV 3/5] END activation=tanh, hidden_layer_sizes=(10, 20), solver=adam;, score=0.979 total time=   5.2s\n",
            "[CV 4/5] END activation=tanh, hidden_layer_sizes=(10, 20), solver=adam;, score=0.984 total time=   6.4s\n",
            "[CV 5/5] END activation=tanh, hidden_layer_sizes=(10, 20), solver=adam;, score=0.989 total time=   4.4s\n"
          ]
        },
        {
          "name": "stderr",
          "output_type": "stream",
          "text": [
            "/Users/danilojanjusevic/opt/anaconda3/lib/python3.9/site-packages/sklearn/neural_network/_multilayer_perceptron.py:614: ConvergenceWarning: Stochastic Optimizer: Maximum iterations (200) reached and the optimization hasn't converged yet.\n",
            "  warnings.warn(\n"
          ]
        },
        {
          "name": "stdout",
          "output_type": "stream",
          "text": [
            "[CV 1/5] END activation=tanh, hidden_layer_sizes=(10, 10), solver=sgd;, score=0.950 total time=  15.8s\n"
          ]
        },
        {
          "name": "stderr",
          "output_type": "stream",
          "text": [
            "/Users/danilojanjusevic/opt/anaconda3/lib/python3.9/site-packages/sklearn/neural_network/_multilayer_perceptron.py:614: ConvergenceWarning: Stochastic Optimizer: Maximum iterations (200) reached and the optimization hasn't converged yet.\n",
            "  warnings.warn(\n"
          ]
        },
        {
          "name": "stdout",
          "output_type": "stream",
          "text": [
            "[CV 2/5] END activation=tanh, hidden_layer_sizes=(10, 10), solver=sgd;, score=0.946 total time=  16.1s\n"
          ]
        },
        {
          "name": "stderr",
          "output_type": "stream",
          "text": [
            "/Users/danilojanjusevic/opt/anaconda3/lib/python3.9/site-packages/sklearn/neural_network/_multilayer_perceptron.py:614: ConvergenceWarning: Stochastic Optimizer: Maximum iterations (200) reached and the optimization hasn't converged yet.\n",
            "  warnings.warn(\n"
          ]
        },
        {
          "name": "stdout",
          "output_type": "stream",
          "text": [
            "[CV 3/5] END activation=tanh, hidden_layer_sizes=(10, 10), solver=sgd;, score=0.965 total time=  16.5s\n"
          ]
        },
        {
          "name": "stderr",
          "output_type": "stream",
          "text": [
            "/Users/danilojanjusevic/opt/anaconda3/lib/python3.9/site-packages/sklearn/neural_network/_multilayer_perceptron.py:614: ConvergenceWarning: Stochastic Optimizer: Maximum iterations (200) reached and the optimization hasn't converged yet.\n",
            "  warnings.warn(\n"
          ]
        },
        {
          "name": "stdout",
          "output_type": "stream",
          "text": [
            "[CV 4/5] END activation=tanh, hidden_layer_sizes=(10, 10), solver=sgd;, score=0.963 total time=  13.7s\n"
          ]
        },
        {
          "name": "stderr",
          "output_type": "stream",
          "text": [
            "/Users/danilojanjusevic/opt/anaconda3/lib/python3.9/site-packages/sklearn/neural_network/_multilayer_perceptron.py:614: ConvergenceWarning: Stochastic Optimizer: Maximum iterations (200) reached and the optimization hasn't converged yet.\n",
            "  warnings.warn(\n"
          ]
        },
        {
          "name": "stdout",
          "output_type": "stream",
          "text": [
            "[CV 5/5] END activation=tanh, hidden_layer_sizes=(10, 10), solver=sgd;, score=0.962 total time=  13.5s\n",
            "[CV 1/5] END activation=tanh, hidden_layer_sizes=(10, 10), solver=adam;, score=0.973 total time=   5.6s\n",
            "[CV 2/5] END activation=tanh, hidden_layer_sizes=(10, 10), solver=adam;, score=0.984 total time=   5.1s\n",
            "[CV 3/5] END activation=tanh, hidden_layer_sizes=(10, 10), solver=adam;, score=0.979 total time=   4.8s\n",
            "[CV 4/5] END activation=tanh, hidden_layer_sizes=(10, 10), solver=adam;, score=0.985 total time=   5.7s\n",
            "[CV 5/5] END activation=tanh, hidden_layer_sizes=(10, 10), solver=adam;, score=0.988 total time=   5.0s\n"
          ]
        },
        {
          "name": "stderr",
          "output_type": "stream",
          "text": [
            "/Users/danilojanjusevic/opt/anaconda3/lib/python3.9/site-packages/sklearn/neural_network/_multilayer_perceptron.py:614: ConvergenceWarning: Stochastic Optimizer: Maximum iterations (200) reached and the optimization hasn't converged yet.\n",
            "  warnings.warn(\n"
          ]
        },
        {
          "name": "stdout",
          "output_type": "stream",
          "text": [
            "[CV 1/5] END activation=tanh, hidden_layer_sizes=(10,), solver=sgd;, score=0.929 total time=  12.6s\n"
          ]
        },
        {
          "name": "stderr",
          "output_type": "stream",
          "text": [
            "/Users/danilojanjusevic/opt/anaconda3/lib/python3.9/site-packages/sklearn/neural_network/_multilayer_perceptron.py:614: ConvergenceWarning: Stochastic Optimizer: Maximum iterations (200) reached and the optimization hasn't converged yet.\n",
            "  warnings.warn(\n"
          ]
        },
        {
          "name": "stdout",
          "output_type": "stream",
          "text": [
            "[CV 2/5] END activation=tanh, hidden_layer_sizes=(10,), solver=sgd;, score=0.879 total time=  11.8s\n"
          ]
        },
        {
          "name": "stderr",
          "output_type": "stream",
          "text": [
            "/Users/danilojanjusevic/opt/anaconda3/lib/python3.9/site-packages/sklearn/neural_network/_multilayer_perceptron.py:614: ConvergenceWarning: Stochastic Optimizer: Maximum iterations (200) reached and the optimization hasn't converged yet.\n",
            "  warnings.warn(\n"
          ]
        },
        {
          "name": "stdout",
          "output_type": "stream",
          "text": [
            "[CV 3/5] END activation=tanh, hidden_layer_sizes=(10,), solver=sgd;, score=0.925 total time=  13.5s\n"
          ]
        },
        {
          "name": "stderr",
          "output_type": "stream",
          "text": [
            "/Users/danilojanjusevic/opt/anaconda3/lib/python3.9/site-packages/sklearn/neural_network/_multilayer_perceptron.py:614: ConvergenceWarning: Stochastic Optimizer: Maximum iterations (200) reached and the optimization hasn't converged yet.\n",
            "  warnings.warn(\n"
          ]
        },
        {
          "name": "stdout",
          "output_type": "stream",
          "text": [
            "[CV 4/5] END activation=tanh, hidden_layer_sizes=(10,), solver=sgd;, score=0.933 total time=  13.8s\n"
          ]
        },
        {
          "name": "stderr",
          "output_type": "stream",
          "text": [
            "/Users/danilojanjusevic/opt/anaconda3/lib/python3.9/site-packages/sklearn/neural_network/_multilayer_perceptron.py:614: ConvergenceWarning: Stochastic Optimizer: Maximum iterations (200) reached and the optimization hasn't converged yet.\n",
            "  warnings.warn(\n"
          ]
        },
        {
          "name": "stdout",
          "output_type": "stream",
          "text": [
            "[CV 5/5] END activation=tanh, hidden_layer_sizes=(10,), solver=sgd;, score=0.915 total time=  12.1s\n",
            "[CV 1/5] END activation=tanh, hidden_layer_sizes=(10,), solver=adam;, score=0.974 total time=   7.1s\n",
            "[CV 2/5] END activation=tanh, hidden_layer_sizes=(10,), solver=adam;, score=0.983 total time=   7.2s\n",
            "[CV 3/5] END activation=tanh, hidden_layer_sizes=(10,), solver=adam;, score=0.981 total time=   8.6s\n",
            "[CV 4/5] END activation=tanh, hidden_layer_sizes=(10,), solver=adam;, score=0.985 total time=   8.1s\n",
            "[CV 5/5] END activation=tanh, hidden_layer_sizes=(10,), solver=adam;, score=0.987 total time=   7.7s\n"
          ]
        },
        {
          "name": "stderr",
          "output_type": "stream",
          "text": [
            "/Users/danilojanjusevic/opt/anaconda3/lib/python3.9/site-packages/sklearn/neural_network/_multilayer_perceptron.py:614: ConvergenceWarning: Stochastic Optimizer: Maximum iterations (200) reached and the optimization hasn't converged yet.\n",
            "  warnings.warn(\n"
          ]
        },
        {
          "name": "stdout",
          "output_type": "stream",
          "text": [
            "[CV 1/5] END activation=relu, hidden_layer_sizes=(10, 20), solver=sgd;, score=0.952 total time=  12.8s\n"
          ]
        },
        {
          "name": "stderr",
          "output_type": "stream",
          "text": [
            "/Users/danilojanjusevic/opt/anaconda3/lib/python3.9/site-packages/sklearn/neural_network/_multilayer_perceptron.py:614: ConvergenceWarning: Stochastic Optimizer: Maximum iterations (200) reached and the optimization hasn't converged yet.\n",
            "  warnings.warn(\n"
          ]
        },
        {
          "name": "stdout",
          "output_type": "stream",
          "text": [
            "[CV 2/5] END activation=relu, hidden_layer_sizes=(10, 20), solver=sgd;, score=0.936 total time=  15.4s\n"
          ]
        },
        {
          "name": "stderr",
          "output_type": "stream",
          "text": [
            "/Users/danilojanjusevic/opt/anaconda3/lib/python3.9/site-packages/sklearn/neural_network/_multilayer_perceptron.py:614: ConvergenceWarning: Stochastic Optimizer: Maximum iterations (200) reached and the optimization hasn't converged yet.\n",
            "  warnings.warn(\n"
          ]
        },
        {
          "name": "stdout",
          "output_type": "stream",
          "text": [
            "[CV 3/5] END activation=relu, hidden_layer_sizes=(10, 20), solver=sgd;, score=0.864 total time=  14.5s\n"
          ]
        },
        {
          "name": "stderr",
          "output_type": "stream",
          "text": [
            "/Users/danilojanjusevic/opt/anaconda3/lib/python3.9/site-packages/sklearn/neural_network/_multilayer_perceptron.py:614: ConvergenceWarning: Stochastic Optimizer: Maximum iterations (200) reached and the optimization hasn't converged yet.\n",
            "  warnings.warn(\n"
          ]
        },
        {
          "name": "stdout",
          "output_type": "stream",
          "text": [
            "[CV 4/5] END activation=relu, hidden_layer_sizes=(10, 20), solver=sgd;, score=0.929 total time=  14.5s\n"
          ]
        },
        {
          "name": "stderr",
          "output_type": "stream",
          "text": [
            "/Users/danilojanjusevic/opt/anaconda3/lib/python3.9/site-packages/sklearn/neural_network/_multilayer_perceptron.py:614: ConvergenceWarning: Stochastic Optimizer: Maximum iterations (200) reached and the optimization hasn't converged yet.\n",
            "  warnings.warn(\n"
          ]
        },
        {
          "name": "stdout",
          "output_type": "stream",
          "text": [
            "[CV 5/5] END activation=relu, hidden_layer_sizes=(10, 20), solver=sgd;, score=0.863 total time=  14.6s\n",
            "[CV 1/5] END activation=relu, hidden_layer_sizes=(10, 20), solver=adam;, score=0.973 total time=   5.6s\n",
            "[CV 2/5] END activation=relu, hidden_layer_sizes=(10, 20), solver=adam;, score=0.988 total time=   4.6s\n",
            "[CV 3/5] END activation=relu, hidden_layer_sizes=(10, 20), solver=adam;, score=0.981 total time=   4.9s\n",
            "[CV 4/5] END activation=relu, hidden_layer_sizes=(10, 20), solver=adam;, score=0.983 total time=   4.8s\n",
            "[CV 5/5] END activation=relu, hidden_layer_sizes=(10, 20), solver=adam;, score=0.989 total time=   5.0s\n"
          ]
        },
        {
          "name": "stderr",
          "output_type": "stream",
          "text": [
            "/Users/danilojanjusevic/opt/anaconda3/lib/python3.9/site-packages/sklearn/neural_network/_multilayer_perceptron.py:614: ConvergenceWarning: Stochastic Optimizer: Maximum iterations (200) reached and the optimization hasn't converged yet.\n",
            "  warnings.warn(\n"
          ]
        },
        {
          "name": "stdout",
          "output_type": "stream",
          "text": [
            "[CV 1/5] END activation=relu, hidden_layer_sizes=(10, 10), solver=sgd;, score=0.948 total time=  13.4s\n"
          ]
        },
        {
          "name": "stderr",
          "output_type": "stream",
          "text": [
            "/Users/danilojanjusevic/opt/anaconda3/lib/python3.9/site-packages/sklearn/neural_network/_multilayer_perceptron.py:614: ConvergenceWarning: Stochastic Optimizer: Maximum iterations (200) reached and the optimization hasn't converged yet.\n",
            "  warnings.warn(\n"
          ]
        },
        {
          "name": "stdout",
          "output_type": "stream",
          "text": [
            "[CV 2/5] END activation=relu, hidden_layer_sizes=(10, 10), solver=sgd;, score=0.862 total time=  14.9s\n",
            "[CV 3/5] END activation=relu, hidden_layer_sizes=(10, 10), solver=sgd;, score=0.864 total time=   7.3s\n"
          ]
        },
        {
          "name": "stderr",
          "output_type": "stream",
          "text": [
            "/Users/danilojanjusevic/opt/anaconda3/lib/python3.9/site-packages/sklearn/neural_network/_multilayer_perceptron.py:614: ConvergenceWarning: Stochastic Optimizer: Maximum iterations (200) reached and the optimization hasn't converged yet.\n",
            "  warnings.warn(\n"
          ]
        },
        {
          "name": "stdout",
          "output_type": "stream",
          "text": [
            "[CV 4/5] END activation=relu, hidden_layer_sizes=(10, 10), solver=sgd;, score=0.935 total time=  15.6s\n"
          ]
        },
        {
          "name": "stderr",
          "output_type": "stream",
          "text": [
            "/Users/danilojanjusevic/opt/anaconda3/lib/python3.9/site-packages/sklearn/neural_network/_multilayer_perceptron.py:614: ConvergenceWarning: Stochastic Optimizer: Maximum iterations (200) reached and the optimization hasn't converged yet.\n",
            "  warnings.warn(\n"
          ]
        },
        {
          "name": "stdout",
          "output_type": "stream",
          "text": [
            "[CV 5/5] END activation=relu, hidden_layer_sizes=(10, 10), solver=sgd;, score=0.863 total time=  14.5s\n",
            "[CV 1/5] END activation=relu, hidden_layer_sizes=(10, 10), solver=adam;, score=0.973 total time=   7.1s\n",
            "[CV 2/5] END activation=relu, hidden_layer_sizes=(10, 10), solver=adam;, score=0.989 total time=   5.9s\n",
            "[CV 3/5] END activation=relu, hidden_layer_sizes=(10, 10), solver=adam;, score=0.982 total time=   4.3s\n",
            "[CV 4/5] END activation=relu, hidden_layer_sizes=(10, 10), solver=adam;, score=0.987 total time=   6.4s\n",
            "[CV 5/5] END activation=relu, hidden_layer_sizes=(10, 10), solver=adam;, score=0.987 total time=   4.9s\n"
          ]
        },
        {
          "name": "stderr",
          "output_type": "stream",
          "text": [
            "/Users/danilojanjusevic/opt/anaconda3/lib/python3.9/site-packages/sklearn/neural_network/_multilayer_perceptron.py:614: ConvergenceWarning: Stochastic Optimizer: Maximum iterations (200) reached and the optimization hasn't converged yet.\n",
            "  warnings.warn(\n"
          ]
        },
        {
          "name": "stdout",
          "output_type": "stream",
          "text": [
            "[CV 1/5] END activation=relu, hidden_layer_sizes=(10,), solver=sgd;, score=0.863 total time=  11.5s\n"
          ]
        },
        {
          "name": "stderr",
          "output_type": "stream",
          "text": [
            "/Users/danilojanjusevic/opt/anaconda3/lib/python3.9/site-packages/sklearn/neural_network/_multilayer_perceptron.py:614: ConvergenceWarning: Stochastic Optimizer: Maximum iterations (200) reached and the optimization hasn't converged yet.\n",
            "  warnings.warn(\n"
          ]
        },
        {
          "name": "stdout",
          "output_type": "stream",
          "text": [
            "[CV 2/5] END activation=relu, hidden_layer_sizes=(10,), solver=sgd;, score=0.876 total time=  11.7s\n"
          ]
        },
        {
          "name": "stderr",
          "output_type": "stream",
          "text": [
            "/Users/danilojanjusevic/opt/anaconda3/lib/python3.9/site-packages/sklearn/neural_network/_multilayer_perceptron.py:614: ConvergenceWarning: Stochastic Optimizer: Maximum iterations (200) reached and the optimization hasn't converged yet.\n",
            "  warnings.warn(\n"
          ]
        },
        {
          "name": "stdout",
          "output_type": "stream",
          "text": [
            "[CV 3/5] END activation=relu, hidden_layer_sizes=(10,), solver=sgd;, score=0.864 total time=  11.7s\n"
          ]
        },
        {
          "name": "stderr",
          "output_type": "stream",
          "text": [
            "/Users/danilojanjusevic/opt/anaconda3/lib/python3.9/site-packages/sklearn/neural_network/_multilayer_perceptron.py:614: ConvergenceWarning: Stochastic Optimizer: Maximum iterations (200) reached and the optimization hasn't converged yet.\n",
            "  warnings.warn(\n"
          ]
        },
        {
          "name": "stdout",
          "output_type": "stream",
          "text": [
            "[CV 4/5] END activation=relu, hidden_layer_sizes=(10,), solver=sgd;, score=0.864 total time=  11.5s\n"
          ]
        },
        {
          "name": "stderr",
          "output_type": "stream",
          "text": [
            "/Users/danilojanjusevic/opt/anaconda3/lib/python3.9/site-packages/sklearn/neural_network/_multilayer_perceptron.py:614: ConvergenceWarning: Stochastic Optimizer: Maximum iterations (200) reached and the optimization hasn't converged yet.\n",
            "  warnings.warn(\n"
          ]
        },
        {
          "name": "stdout",
          "output_type": "stream",
          "text": [
            "[CV 5/5] END activation=relu, hidden_layer_sizes=(10,), solver=sgd;, score=0.863 total time=  11.7s\n",
            "[CV 1/5] END activation=relu, hidden_layer_sizes=(10,), solver=adam;, score=0.974 total time=   6.6s\n",
            "[CV 2/5] END activation=relu, hidden_layer_sizes=(10,), solver=adam;, score=0.990 total time=   7.2s\n",
            "[CV 3/5] END activation=relu, hidden_layer_sizes=(10,), solver=adam;, score=0.985 total time=   7.2s\n",
            "[CV 4/5] END activation=relu, hidden_layer_sizes=(10,), solver=adam;, score=0.988 total time=   8.0s\n",
            "[CV 5/5] END activation=relu, hidden_layer_sizes=(10,), solver=adam;, score=0.988 total time=   6.6s\n"
          ]
        },
        {
          "data": {
            "text/plain": [
              "GridSearchCV(estimator=MLPClassifier(),\n",
              "             param_grid={'activation': ['tanh', 'relu'],\n",
              "                         'hidden_layer_sizes': [(10, 20), (10, 10), (10,)],\n",
              "                         'solver': ['sgd', 'adam']},\n",
              "             verbose=3)"
            ]
          },
          "execution_count": 67,
          "metadata": {},
          "output_type": "execute_result"
        }
      ],
      "source": [
        "parameter_space = {\n",
        "    'hidden_layer_sizes': [(10,20), (10,10), (10,)],\n",
        "    'activation': ['tanh', 'relu'],\n",
        "    'solver': ['sgd', 'adam'],\n",
        "}\n",
        "grid_mlp = GridSearchCV(MLPClassifier(), parameter_space, refit = True, verbose = 3)\n",
        "grid_mlp.fit(X_train_tfidf,y_train)"
      ]
    },
    {
      "cell_type": "code",
      "execution_count": null,
      "id": "28602e32",
      "metadata": {
        "id": "28602e32",
        "outputId": "bf11dc76-9676-42f4-9a31-b66594ef67a3"
      },
      "outputs": [
        {
          "data": {
            "text/plain": [
              "{'activation': 'relu', 'hidden_layer_sizes': (10,), 'solver': 'adam'}"
            ]
          },
          "execution_count": 68,
          "metadata": {},
          "output_type": "execute_result"
        }
      ],
      "source": [
        "grid_mlp.best_params_"
      ]
    },
    {
      "cell_type": "code",
      "execution_count": null,
      "id": "66932121",
      "metadata": {
        "id": "66932121",
        "outputId": "a978d6c5-10ba-4458-887c-99971f75e1de"
      },
      "outputs": [
        {
          "data": {
            "text/plain": [
              "MLPClassifier(hidden_layer_sizes=(10,))"
            ]
          },
          "execution_count": 69,
          "metadata": {},
          "output_type": "execute_result"
        }
      ],
      "source": [
        "grid_mlp.best_estimator_"
      ]
    },
    {
      "cell_type": "code",
      "execution_count": null,
      "id": "513d38c2",
      "metadata": {
        "id": "513d38c2"
      },
      "outputs": [],
      "source": [
        "cv_results_mlp = pd.DataFrame(grid_mlp.cv_results_)[['params','mean_test_score']]"
      ]
    },
    {
      "cell_type": "code",
      "execution_count": null,
      "id": "df47d86d",
      "metadata": {
        "id": "df47d86d"
      },
      "outputs": [],
      "source": [
        "def change_field_names(x):\n",
        "    params = {}\n",
        "    params['a'] = x['activation']\n",
        "    params['hls'] = x['hidden_layer_sizes']\n",
        "    params['solver'] = x['solver']\n",
        "    return params"
      ]
    },
    {
      "cell_type": "code",
      "execution_count": null,
      "id": "2f235ea4",
      "metadata": {
        "id": "2f235ea4"
      },
      "outputs": [],
      "source": [
        "cv_results_mlp['parameters'] = cv_results_mlp['params'].apply(change_field_names)"
      ]
    },
    {
      "cell_type": "code",
      "execution_count": null,
      "id": "41a9792a",
      "metadata": {
        "id": "41a9792a",
        "outputId": "4a0b8ade-2772-45bf-bb4b-76d057af5400"
      },
      "outputs": [
        {
          "data": {
            "text/html": [
              "<div>\n",
              "<style scoped>\n",
              "    .dataframe tbody tr th:only-of-type {\n",
              "        vertical-align: middle;\n",
              "    }\n",
              "\n",
              "    .dataframe tbody tr th {\n",
              "        vertical-align: top;\n",
              "    }\n",
              "\n",
              "    .dataframe thead th {\n",
              "        text-align: right;\n",
              "    }\n",
              "</style>\n",
              "<table border=\"1\" class=\"dataframe\">\n",
              "  <thead>\n",
              "    <tr style=\"text-align: right;\">\n",
              "      <th></th>\n",
              "      <th>parameters</th>\n",
              "      <th>mean_test_score</th>\n",
              "    </tr>\n",
              "  </thead>\n",
              "  <tbody>\n",
              "    <tr>\n",
              "      <th>11</th>\n",
              "      <td>{'a': 'relu', 'hls': (10,), 'solver': 'adam'}</td>\n",
              "      <td>0.984969</td>\n",
              "    </tr>\n",
              "    <tr>\n",
              "      <th>9</th>\n",
              "      <td>{'a': 'relu', 'hls': (10, 10), 'solver': 'adam'}</td>\n",
              "      <td>0.983398</td>\n",
              "    </tr>\n",
              "    <tr>\n",
              "      <th>7</th>\n",
              "      <td>{'a': 'relu', 'hls': (10, 20), 'solver': 'adam'}</td>\n",
              "      <td>0.982725</td>\n",
              "    </tr>\n",
              "    <tr>\n",
              "      <th>5</th>\n",
              "      <td>{'a': 'tanh', 'hls': (10,), 'solver': 'adam'}</td>\n",
              "      <td>0.982052</td>\n",
              "    </tr>\n",
              "    <tr>\n",
              "      <th>1</th>\n",
              "      <td>{'a': 'tanh', 'hls': (10, 20), 'solver': 'adam'}</td>\n",
              "      <td>0.982052</td>\n",
              "    </tr>\n",
              "    <tr>\n",
              "      <th>3</th>\n",
              "      <td>{'a': 'tanh', 'hls': (10, 10), 'solver': 'adam'}</td>\n",
              "      <td>0.981828</td>\n",
              "    </tr>\n",
              "    <tr>\n",
              "      <th>2</th>\n",
              "      <td>{'a': 'tanh', 'hls': (10, 10), 'solver': 'sgd'}</td>\n",
              "      <td>0.957150</td>\n",
              "    </tr>\n",
              "    <tr>\n",
              "      <th>0</th>\n",
              "      <td>{'a': 'tanh', 'hls': (10, 20), 'solver': 'sgd'}</td>\n",
              "      <td>0.953333</td>\n",
              "    </tr>\n",
              "    <tr>\n",
              "      <th>4</th>\n",
              "      <td>{'a': 'tanh', 'hls': (10,), 'solver': 'sgd'}</td>\n",
              "      <td>0.916092</td>\n",
              "    </tr>\n",
              "    <tr>\n",
              "      <th>6</th>\n",
              "      <td>{'a': 'relu', 'hls': (10, 20), 'solver': 'sgd'}</td>\n",
              "      <td>0.908892</td>\n",
              "    </tr>\n",
              "    <tr>\n",
              "      <th>8</th>\n",
              "      <td>{'a': 'relu', 'hls': (10, 10), 'solver': 'sgd'}</td>\n",
              "      <td>0.894543</td>\n",
              "    </tr>\n",
              "    <tr>\n",
              "      <th>10</th>\n",
              "      <td>{'a': 'relu', 'hls': (10,), 'solver': 'sgd'}</td>\n",
              "      <td>0.866052</td>\n",
              "    </tr>\n",
              "  </tbody>\n",
              "</table>\n",
              "</div>"
            ],
            "text/plain": [
              "                                          parameters  mean_test_score\n",
              "11     {'a': 'relu', 'hls': (10,), 'solver': 'adam'}         0.984969\n",
              "9   {'a': 'relu', 'hls': (10, 10), 'solver': 'adam'}         0.983398\n",
              "7   {'a': 'relu', 'hls': (10, 20), 'solver': 'adam'}         0.982725\n",
              "5      {'a': 'tanh', 'hls': (10,), 'solver': 'adam'}         0.982052\n",
              "1   {'a': 'tanh', 'hls': (10, 20), 'solver': 'adam'}         0.982052\n",
              "3   {'a': 'tanh', 'hls': (10, 10), 'solver': 'adam'}         0.981828\n",
              "2    {'a': 'tanh', 'hls': (10, 10), 'solver': 'sgd'}         0.957150\n",
              "0    {'a': 'tanh', 'hls': (10, 20), 'solver': 'sgd'}         0.953333\n",
              "4       {'a': 'tanh', 'hls': (10,), 'solver': 'sgd'}         0.916092\n",
              "6    {'a': 'relu', 'hls': (10, 20), 'solver': 'sgd'}         0.908892\n",
              "8    {'a': 'relu', 'hls': (10, 10), 'solver': 'sgd'}         0.894543\n",
              "10      {'a': 'relu', 'hls': (10,), 'solver': 'sgd'}         0.866052"
            ]
          },
          "execution_count": 73,
          "metadata": {},
          "output_type": "execute_result"
        }
      ],
      "source": [
        "cv_results_mlp[['parameters','mean_test_score']].sort_values(by='mean_test_score',ascending=False)"
      ]
    },
    {
      "cell_type": "code",
      "execution_count": null,
      "id": "ac4e6bb4",
      "metadata": {
        "id": "ac4e6bb4"
      },
      "outputs": [],
      "source": [
        "mlp_predicted = grid_mlp.predict(X_test_tfidf)"
      ]
    },
    {
      "cell_type": "code",
      "execution_count": null,
      "id": "2e885550",
      "metadata": {
        "id": "2e885550",
        "outputId": "bc24ab92-be29-4b7e-842d-7f29b52e2d63"
      },
      "outputs": [
        {
          "data": {
            "text/plain": [
              "0.9928251121076234"
            ]
          },
          "execution_count": 76,
          "metadata": {},
          "output_type": "execute_result"
        }
      ],
      "source": [
        "accuracy_score(y_test,mlp_predicted)"
      ]
    },
    {
      "cell_type": "code",
      "execution_count": null,
      "id": "ed4d91ed",
      "metadata": {
        "id": "ed4d91ed",
        "outputId": "d431a406-20df-4620-a71b-8aea5204a246"
      },
      "outputs": [
        {
          "data": {
            "text/plain": [
              "0.9703703703703704"
            ]
          },
          "execution_count": 149,
          "metadata": {},
          "output_type": "execute_result"
        }
      ],
      "source": [
        "f1_score(y_test,mlp_predicted,pos_label=0)"
      ]
    },
    {
      "cell_type": "code",
      "execution_count": null,
      "id": "7c656d20",
      "metadata": {
        "id": "7c656d20",
        "outputId": "0e76cecf-8d70-4d79-d699-c8e995c38d08"
      },
      "outputs": [
        {
          "data": {
            "text/plain": [
              "1.0"
            ]
          },
          "execution_count": 150,
          "metadata": {},
          "output_type": "execute_result"
        }
      ],
      "source": [
        "precision_score(y_test,mlp_predicted,pos_label=0)"
      ]
    },
    {
      "cell_type": "code",
      "execution_count": null,
      "id": "c44f75a7",
      "metadata": {
        "id": "c44f75a7",
        "outputId": "b5a68fec-377f-49a1-f850-41a1f2ba2ec8"
      },
      "outputs": [
        {
          "data": {
            "text/plain": [
              "0.9424460431654677"
            ]
          },
          "execution_count": 151,
          "metadata": {},
          "output_type": "execute_result"
        }
      ],
      "source": [
        "recall_score(y_test,mlp_predicted,pos_label=0)"
      ]
    },
    {
      "cell_type": "code",
      "execution_count": null,
      "id": "cdc92e70",
      "metadata": {
        "id": "cdc92e70",
        "outputId": "4734aecf-2f13-40d7-b3d0-d264ed9ff95c"
      },
      "outputs": [
        {
          "data": {
            "text/plain": [
              "<sklearn.metrics._plot.confusion_matrix.ConfusionMatrixDisplay at 0x7fe68a598430>"
            ]
          },
          "execution_count": 79,
          "metadata": {},
          "output_type": "execute_result"
        },
        {
          "data": {
            "image/png": "[encoded data removed]",
            "text/plain": [
              "<Figure size 432x288 with 2 Axes>"
            ]
          },
          "metadata": {
            "needs_background": "light"
          },
          "output_type": "display_data"
        }
      ],
      "source": [
        "plot_confusion_matrix(grid_mlp,X_test_tfidf,y_test)"
      ]
    },
    {
      "cell_type": "code",
      "execution_count": null,
      "id": "a1c0ab60",
      "metadata": {
        "id": "a1c0ab60",
        "outputId": "0a5c2728-1857-4860-bcbc-45e785cea89b"
      },
      "outputs": [
        {
          "name": "stdout",
          "output_type": "stream",
          "text": [
            "Fitting 5 folds for each of 14 candidates, totalling 70 fits\n",
            "[CV 1/5] END .....................n_neighbors=3;, score=0.924 total time=   0.4s\n",
            "[CV 2/5] END .....................n_neighbors=3;, score=0.928 total time=   0.3s\n",
            "[CV 3/5] END .....................n_neighbors=3;, score=0.951 total time=   0.3s\n",
            "[CV 4/5] END .....................n_neighbors=3;, score=0.925 total time=   0.3s\n",
            "[CV 5/5] END .....................n_neighbors=3;, score=0.929 total time=   0.3s\n",
            "[CV 1/5] END .....................n_neighbors=5;, score=0.923 total time=   0.3s\n",
            "[CV 2/5] END .....................n_neighbors=5;, score=0.918 total time=   0.3s\n",
            "[CV 3/5] END .....................n_neighbors=5;, score=0.937 total time=   0.3s\n",
            "[CV 4/5] END .....................n_neighbors=5;, score=0.953 total time=   0.3s\n",
            "[CV 5/5] END .....................n_neighbors=5;, score=0.924 total time=   0.3s\n",
            "[CV 1/5] END .....................n_neighbors=7;, score=0.909 total time=   0.3s\n",
            "[CV 2/5] END .....................n_neighbors=7;, score=0.938 total time=   0.3s\n",
            "[CV 3/5] END .....................n_neighbors=7;, score=0.927 total time=   0.3s\n",
            "[CV 4/5] END .....................n_neighbors=7;, score=0.949 total time=   0.4s\n",
            "[CV 5/5] END .....................n_neighbors=7;, score=0.955 total time=   0.3s\n",
            "[CV 1/5] END .....................n_neighbors=9;, score=0.926 total time=   0.3s\n",
            "[CV 2/5] END .....................n_neighbors=9;, score=0.974 total time=   0.4s\n",
            "[CV 3/5] END .....................n_neighbors=9;, score=0.943 total time=   0.3s\n",
            "[CV 4/5] END .....................n_neighbors=9;, score=0.982 total time=   0.3s\n",
            "[CV 5/5] END .....................n_neighbors=9;, score=0.956 total time=   0.3s\n",
            "[CV 1/5] END ....................n_neighbors=11;, score=0.928 total time=   0.3s\n",
            "[CV 2/5] END ....................n_neighbors=11;, score=0.980 total time=   0.3s\n",
            "[CV 3/5] END ....................n_neighbors=11;, score=0.972 total time=   0.3s\n",
            "[CV 4/5] END ....................n_neighbors=11;, score=0.981 total time=   0.3s\n",
            "[CV 5/5] END ....................n_neighbors=11;, score=0.976 total time=   0.3s\n",
            "[CV 1/5] END ....................n_neighbors=13;, score=0.960 total time=   0.4s\n",
            "[CV 2/5] END ....................n_neighbors=13;, score=0.981 total time=   0.3s\n",
            "[CV 3/5] END ....................n_neighbors=13;, score=0.975 total time=   0.3s\n",
            "[CV 4/5] END ....................n_neighbors=13;, score=0.979 total time=   0.3s\n",
            "[CV 5/5] END ....................n_neighbors=13;, score=0.982 total time=   0.3s\n",
            "[CV 1/5] END ....................n_neighbors=15;, score=0.973 total time=   0.3s\n",
            "[CV 2/5] END ....................n_neighbors=15;, score=0.982 total time=   0.3s\n",
            "[CV 3/5] END ....................n_neighbors=15;, score=0.976 total time=   0.4s\n",
            "[CV 4/5] END ....................n_neighbors=15;, score=0.981 total time=   0.4s\n",
            "[CV 5/5] END ....................n_neighbors=15;, score=0.980 total time=   0.4s\n",
            "[CV 1/5] END ....................n_neighbors=17;, score=0.970 total time=   0.4s\n",
            "[CV 2/5] END ....................n_neighbors=17;, score=0.983 total time=   0.3s\n",
            "[CV 3/5] END ....................n_neighbors=17;, score=0.978 total time=   0.3s\n",
            "[CV 4/5] END ....................n_neighbors=17;, score=0.976 total time=   0.3s\n",
            "[CV 5/5] END ....................n_neighbors=17;, score=0.980 total time=   0.3s\n",
            "[CV 1/5] END ....................n_neighbors=19;, score=0.971 total time=   0.3s\n",
            "[CV 2/5] END ....................n_neighbors=19;, score=0.984 total time=   0.4s\n",
            "[CV 3/5] END ....................n_neighbors=19;, score=0.976 total time=   0.4s\n",
            "[CV 4/5] END ....................n_neighbors=19;, score=0.974 total time=   0.4s\n",
            "[CV 5/5] END ....................n_neighbors=19;, score=0.975 total time=   0.4s\n",
            "[CV 1/5] END ....................n_neighbors=21;, score=0.969 total time=   0.4s\n",
            "[CV 2/5] END ....................n_neighbors=21;, score=0.985 total time=   0.4s\n",
            "[CV 3/5] END ....................n_neighbors=21;, score=0.972 total time=   0.4s\n",
            "[CV 4/5] END ....................n_neighbors=21;, score=0.976 total time=   0.4s\n",
            "[CV 5/5] END ....................n_neighbors=21;, score=0.978 total time=   0.4s\n",
            "[CV 1/5] END ....................n_neighbors=23;, score=0.966 total time=   0.4s\n",
            "[CV 2/5] END ....................n_neighbors=23;, score=0.984 total time=   0.4s\n",
            "[CV 3/5] END ....................n_neighbors=23;, score=0.975 total time=   0.4s\n",
            "[CV 4/5] END ....................n_neighbors=23;, score=0.975 total time=   0.4s\n",
            "[CV 5/5] END ....................n_neighbors=23;, score=0.973 total time=   0.4s\n",
            "[CV 1/5] END ....................n_neighbors=25;, score=0.964 total time=   0.4s\n",
            "[CV 2/5] END ....................n_neighbors=25;, score=0.981 total time=   0.4s\n",
            "[CV 3/5] END ....................n_neighbors=25;, score=0.973 total time=   0.4s\n",
            "[CV 4/5] END ....................n_neighbors=25;, score=0.976 total time=   0.4s\n",
            "[CV 5/5] END ....................n_neighbors=25;, score=0.971 total time=   0.4s\n",
            "[CV 1/5] END ....................n_neighbors=27;, score=0.964 total time=   0.4s\n",
            "[CV 2/5] END ....................n_neighbors=27;, score=0.980 total time=   0.4s\n",
            "[CV 3/5] END ....................n_neighbors=27;, score=0.974 total time=   0.4s\n",
            "[CV 4/5] END ....................n_neighbors=27;, score=0.976 total time=   0.4s\n",
            "[CV 5/5] END ....................n_neighbors=27;, score=0.970 total time=   0.4s\n",
            "[CV 1/5] END ....................n_neighbors=29;, score=0.964 total time=   0.4s\n",
            "[CV 2/5] END ....................n_neighbors=29;, score=0.980 total time=   0.4s\n",
            "[CV 3/5] END ....................n_neighbors=29;, score=0.974 total time=   0.4s\n",
            "[CV 4/5] END ....................n_neighbors=29;, score=0.976 total time=   0.4s\n",
            "[CV 5/5] END ....................n_neighbors=29;, score=0.971 total time=   0.4s\n"
          ]
        },
        {
          "data": {
            "text/plain": [
              "GridSearchCV(estimator=KNeighborsClassifier(),\n",
              "             param_grid={'n_neighbors': [3, 5, 7, 9, 11, 13, 15, 17, 19, 21, 23,\n",
              "                                         25, 27, 29]},\n",
              "             verbose=3)"
            ]
          },
          "execution_count": 80,
          "metadata": {},
          "output_type": "execute_result"
        }
      ],
      "source": [
        "k_range = [3, 5, 7, 9, 11, 13, 15, 17, 19, 21, 23, 25, 27, 29]\n",
        "param_grid = dict(n_neighbors=k_range)\n",
        "\n",
        "grid_knn = GridSearchCV(KNeighborsClassifier(), param_grid, refit = True, verbose = 3)\n",
        "grid_knn.fit(X_train_tfidf,y_train)"
      ]
    },
    {
      "cell_type": "code",
      "execution_count": null,
      "id": "a6be24ec",
      "metadata": {
        "id": "a6be24ec",
        "outputId": "e289c13e-e48a-4b7c-bcdc-b5704cde53cd"
      },
      "outputs": [
        {
          "data": {
            "text/plain": [
              "{'n_neighbors': 15}"
            ]
          },
          "execution_count": 81,
          "metadata": {},
          "output_type": "execute_result"
        }
      ],
      "source": [
        "grid_knn.best_params_"
      ]
    },
    {
      "cell_type": "code",
      "execution_count": null,
      "id": "0413d1f6",
      "metadata": {
        "id": "0413d1f6",
        "outputId": "90808aec-2fad-4bc5-fdf0-63ba6a0a1a99"
      },
      "outputs": [
        {
          "data": {
            "text/plain": [
              "KNeighborsClassifier(n_neighbors=15)"
            ]
          },
          "execution_count": 82,
          "metadata": {},
          "output_type": "execute_result"
        }
      ],
      "source": [
        "grid_knn.best_estimator_"
      ]
    },
    {
      "cell_type": "code",
      "execution_count": null,
      "id": "d3855e37",
      "metadata": {
        "id": "d3855e37"
      },
      "outputs": [],
      "source": [
        "cv_results_knn = pd.DataFrame(grid_knn.cv_results_)[['params','mean_test_score']]"
      ]
    },
    {
      "cell_type": "code",
      "execution_count": null,
      "id": "98e4f48a",
      "metadata": {
        "id": "98e4f48a",
        "outputId": "b66f82fc-3ea3-4721-dca8-affbf2c1edd0"
      },
      "outputs": [
        {
          "data": {
            "text/html": [
              "<div>\n",
              "<style scoped>\n",
              "    .dataframe tbody tr th:only-of-type {\n",
              "        vertical-align: middle;\n",
              "    }\n",
              "\n",
              "    .dataframe tbody tr th {\n",
              "        vertical-align: top;\n",
              "    }\n",
              "\n",
              "    .dataframe thead th {\n",
              "        text-align: right;\n",
              "    }\n",
              "</style>\n",
              "<table border=\"1\" class=\"dataframe\">\n",
              "  <thead>\n",
              "    <tr style=\"text-align: right;\">\n",
              "      <th></th>\n",
              "      <th>params</th>\n",
              "      <th>mean_test_score</th>\n",
              "    </tr>\n",
              "  </thead>\n",
              "  <tbody>\n",
              "    <tr>\n",
              "      <th>6</th>\n",
              "      <td>{'n_neighbors': 15}</td>\n",
              "      <td>0.978461</td>\n",
              "    </tr>\n",
              "    <tr>\n",
              "      <th>7</th>\n",
              "      <td>{'n_neighbors': 17}</td>\n",
              "      <td>0.977339</td>\n",
              "    </tr>\n",
              "    <tr>\n",
              "      <th>8</th>\n",
              "      <td>{'n_neighbors': 19}</td>\n",
              "      <td>0.976217</td>\n",
              "    </tr>\n",
              "    <tr>\n",
              "      <th>9</th>\n",
              "      <td>{'n_neighbors': 21}</td>\n",
              "      <td>0.975992</td>\n",
              "    </tr>\n",
              "    <tr>\n",
              "      <th>5</th>\n",
              "      <td>{'n_neighbors': 13}</td>\n",
              "      <td>0.975322</td>\n",
              "    </tr>\n",
              "    <tr>\n",
              "      <th>10</th>\n",
              "      <td>{'n_neighbors': 23}</td>\n",
              "      <td>0.974871</td>\n",
              "    </tr>\n",
              "    <tr>\n",
              "      <th>13</th>\n",
              "      <td>{'n_neighbors': 29}</td>\n",
              "      <td>0.973077</td>\n",
              "    </tr>\n",
              "    <tr>\n",
              "      <th>11</th>\n",
              "      <td>{'n_neighbors': 25}</td>\n",
              "      <td>0.973076</td>\n",
              "    </tr>\n",
              "    <tr>\n",
              "      <th>12</th>\n",
              "      <td>{'n_neighbors': 27}</td>\n",
              "      <td>0.972852</td>\n",
              "    </tr>\n",
              "    <tr>\n",
              "      <th>4</th>\n",
              "      <td>{'n_neighbors': 11}</td>\n",
              "      <td>0.967473</td>\n",
              "    </tr>\n",
              "    <tr>\n",
              "      <th>3</th>\n",
              "      <td>{'n_neighbors': 9}</td>\n",
              "      <td>0.956251</td>\n",
              "    </tr>\n",
              "    <tr>\n",
              "      <th>2</th>\n",
              "      <td>{'n_neighbors': 7}</td>\n",
              "      <td>0.935837</td>\n",
              "    </tr>\n",
              "    <tr>\n",
              "      <th>0</th>\n",
              "      <td>{'n_neighbors': 3}</td>\n",
              "      <td>0.931346</td>\n",
              "    </tr>\n",
              "    <tr>\n",
              "      <th>1</th>\n",
              "      <td>{'n_neighbors': 5}</td>\n",
              "      <td>0.930900</td>\n",
              "    </tr>\n",
              "  </tbody>\n",
              "</table>\n",
              "</div>"
            ],
            "text/plain": [
              "                 params  mean_test_score\n",
              "6   {'n_neighbors': 15}         0.978461\n",
              "7   {'n_neighbors': 17}         0.977339\n",
              "8   {'n_neighbors': 19}         0.976217\n",
              "9   {'n_neighbors': 21}         0.975992\n",
              "5   {'n_neighbors': 13}         0.975322\n",
              "10  {'n_neighbors': 23}         0.974871\n",
              "13  {'n_neighbors': 29}         0.973077\n",
              "11  {'n_neighbors': 25}         0.973076\n",
              "12  {'n_neighbors': 27}         0.972852\n",
              "4   {'n_neighbors': 11}         0.967473\n",
              "3    {'n_neighbors': 9}         0.956251\n",
              "2    {'n_neighbors': 7}         0.935837\n",
              "0    {'n_neighbors': 3}         0.931346\n",
              "1    {'n_neighbors': 5}         0.930900"
            ]
          },
          "execution_count": 84,
          "metadata": {},
          "output_type": "execute_result"
        }
      ],
      "source": [
        "cv_results_knn.sort_values(by='mean_test_score',ascending=False)"
      ]
    },
    {
      "cell_type": "code",
      "execution_count": null,
      "id": "1cc4caa3",
      "metadata": {
        "id": "1cc4caa3"
      },
      "outputs": [],
      "source": [
        "knn_predicted = grid_knn.predict(X_test_tfidf)"
      ]
    },
    {
      "cell_type": "code",
      "execution_count": null,
      "id": "6ffe3a5d",
      "metadata": {
        "id": "6ffe3a5d",
        "outputId": "a39702e7-bf2b-43bc-e2c5-48d225cc5738"
      },
      "outputs": [
        {
          "data": {
            "text/plain": [
              "0.9802690582959641"
            ]
          },
          "execution_count": 86,
          "metadata": {},
          "output_type": "execute_result"
        }
      ],
      "source": [
        "accuracy_score(y_test,knn_predicted)"
      ]
    },
    {
      "cell_type": "code",
      "execution_count": null,
      "id": "64047142",
      "metadata": {
        "id": "64047142",
        "outputId": "2b95eacd-f6b0-4315-d8c4-5171251cec20"
      },
      "outputs": [
        {
          "data": {
            "text/plain": [
              "0.9191176470588236"
            ]
          },
          "execution_count": 152,
          "metadata": {},
          "output_type": "execute_result"
        }
      ],
      "source": [
        "f1_score(y_test,knn_predicted, pos_label=0)"
      ]
    },
    {
      "cell_type": "code",
      "execution_count": null,
      "id": "d0a3ecae",
      "metadata": {
        "id": "d0a3ecae",
        "outputId": "23bff0ff-5221-4949-a5a8-6267fd5d7b3b"
      },
      "outputs": [
        {
          "data": {
            "text/plain": [
              "0.9398496240601504"
            ]
          },
          "execution_count": 153,
          "metadata": {},
          "output_type": "execute_result"
        }
      ],
      "source": [
        "precision_score(y_test,knn_predicted, pos_label=0)"
      ]
    },
    {
      "cell_type": "code",
      "execution_count": null,
      "id": "85d2fa4f",
      "metadata": {
        "id": "85d2fa4f",
        "outputId": "0eae7681-51ac-4c2f-b2b4-7a19efc62517"
      },
      "outputs": [
        {
          "data": {
            "text/plain": [
              "0.8992805755395683"
            ]
          },
          "execution_count": 154,
          "metadata": {},
          "output_type": "execute_result"
        }
      ],
      "source": [
        "recall_score(y_test,knn_predicted, pos_label=0)"
      ]
    },
    {
      "cell_type": "code",
      "execution_count": null,
      "id": "3733ed46",
      "metadata": {
        "id": "3733ed46",
        "outputId": "b4703bd3-9a33-4eb3-9edc-61729c1854f7"
      },
      "outputs": [
        {
          "data": {
            "text/plain": [
              "<sklearn.metrics._plot.confusion_matrix.ConfusionMatrixDisplay at 0x7fe7b62318e0>"
            ]
          },
          "execution_count": 88,
          "metadata": {},
          "output_type": "execute_result"
        },
        {
          "data": {
            "image/png": "[encoded data removed]",
            "text/plain": [
              "<Figure size 432x288 with 2 Axes>"
            ]
          },
          "metadata": {
            "needs_background": "light"
          },
          "output_type": "display_data"
        }
      ],
      "source": [
        "plot_confusion_matrix(grid_knn,X_test_tfidf,y_test)"
      ]
    },
    {
      "cell_type": "code",
      "execution_count": null,
      "id": "efe44bca",
      "metadata": {
        "id": "efe44bca",
        "outputId": "637ae204-734e-4146-8f5d-a0a3600eeba9"
      },
      "outputs": [
        {
          "name": "stdout",
          "output_type": "stream",
          "text": [
            "Fitting 5 folds for each of 12 candidates, totalling 60 fits\n",
            "[CV 1/5] END ....................C=0.1, gamma=1;, score=0.863 total time=   2.9s\n",
            "[CV 2/5] END ....................C=0.1, gamma=1;, score=0.863 total time=   2.7s\n",
            "[CV 3/5] END ....................C=0.1, gamma=1;, score=0.864 total time=   2.6s\n",
            "[CV 4/5] END ....................C=0.1, gamma=1;, score=0.864 total time=   2.0s\n",
            "[CV 5/5] END ....................C=0.1, gamma=1;, score=0.863 total time=   2.0s\n",
            "[CV 1/5] END ..................C=0.1, gamma=0.1;, score=0.863 total time=   2.4s\n",
            "[CV 2/5] END ..................C=0.1, gamma=0.1;, score=0.863 total time=   2.2s\n",
            "[CV 3/5] END ..................C=0.1, gamma=0.1;, score=0.864 total time=   1.8s\n",
            "[CV 4/5] END ..................C=0.1, gamma=0.1;, score=0.864 total time=   1.8s\n",
            "[CV 5/5] END ..................C=0.1, gamma=0.1;, score=0.863 total time=   1.8s\n",
            "[CV 1/5] END .................C=0.1, gamma=0.01;, score=0.914 total time=   0.8s\n",
            "[CV 2/5] END .................C=0.1, gamma=0.01;, score=0.919 total time=   0.8s\n",
            "[CV 3/5] END .................C=0.1, gamma=0.01;, score=0.926 total time=   0.6s\n",
            "[CV 4/5] END .................C=0.1, gamma=0.01;, score=0.929 total time=   0.6s\n",
            "[CV 5/5] END .................C=0.1, gamma=0.01;, score=0.926 total time=   0.7s\n",
            "[CV 1/5] END ......................C=1, gamma=1;, score=0.896 total time=   2.4s\n",
            "[CV 2/5] END ......................C=1, gamma=1;, score=0.902 total time=   2.3s\n",
            "[CV 3/5] END ......................C=1, gamma=1;, score=0.909 total time=   2.1s\n",
            "[CV 4/5] END ......................C=1, gamma=1;, score=0.906 total time=   2.2s\n",
            "[CV 5/5] END ......................C=1, gamma=1;, score=0.902 total time=   2.1s\n",
            "[CV 1/5] END ....................C=1, gamma=0.1;, score=0.899 total time=   2.2s\n",
            "[CV 2/5] END ....................C=1, gamma=0.1;, score=0.908 total time=   2.2s\n",
            "[CV 3/5] END ....................C=1, gamma=0.1;, score=0.912 total time=   1.9s\n",
            "[CV 4/5] END ....................C=1, gamma=0.1;, score=0.908 total time=   2.0s\n",
            "[CV 5/5] END ....................C=1, gamma=0.1;, score=0.903 total time=   2.0s\n",
            "[CV 1/5] END ...................C=1, gamma=0.01;, score=0.972 total time=   0.6s\n",
            "[CV 2/5] END ...................C=1, gamma=0.01;, score=0.978 total time=   0.7s\n",
            "[CV 3/5] END ...................C=1, gamma=0.01;, score=0.974 total time=   0.5s\n",
            "[CV 4/5] END ...................C=1, gamma=0.01;, score=0.984 total time=   0.6s\n",
            "[CV 5/5] END ...................C=1, gamma=0.01;, score=0.987 total time=   0.5s\n",
            "[CV 1/5] END .....................C=10, gamma=1;, score=0.896 total time=   2.4s\n",
            "[CV 2/5] END .....................C=10, gamma=1;, score=0.902 total time=   2.3s\n",
            "[CV 3/5] END .....................C=10, gamma=1;, score=0.909 total time=   2.0s\n",
            "[CV 4/5] END .....................C=10, gamma=1;, score=0.906 total time=   2.0s\n",
            "[CV 5/5] END .....................C=10, gamma=1;, score=0.902 total time=   2.0s\n",
            "[CV 1/5] END ...................C=10, gamma=0.1;, score=0.901 total time=   2.6s\n",
            "[CV 2/5] END ...................C=10, gamma=0.1;, score=0.914 total time=   2.6s\n",
            "[CV 3/5] END ...................C=10, gamma=0.1;, score=0.916 total time=   2.1s\n",
            "[CV 4/5] END ...................C=10, gamma=0.1;, score=0.911 total time=   2.5s\n",
            "[CV 5/5] END ...................C=10, gamma=0.1;, score=0.907 total time=   2.6s\n",
            "[CV 1/5] END ..................C=10, gamma=0.01;, score=0.974 total time=   0.7s\n",
            "[CV 2/5] END ..................C=10, gamma=0.01;, score=0.979 total time=   0.7s\n",
            "[CV 3/5] END ..................C=10, gamma=0.01;, score=0.978 total time=   0.6s\n",
            "[CV 4/5] END ..................C=10, gamma=0.01;, score=0.984 total time=   0.7s\n",
            "[CV 5/5] END ..................C=10, gamma=0.01;, score=0.985 total time=   0.7s\n",
            "[CV 1/5] END ....................C=100, gamma=1;, score=0.896 total time=   2.6s\n",
            "[CV 2/5] END ....................C=100, gamma=1;, score=0.902 total time=   2.7s\n",
            "[CV 3/5] END ....................C=100, gamma=1;, score=0.909 total time=   2.3s\n",
            "[CV 4/5] END ....................C=100, gamma=1;, score=0.906 total time=   2.4s\n",
            "[CV 5/5] END ....................C=100, gamma=1;, score=0.902 total time=   2.5s\n",
            "[CV 1/5] END ..................C=100, gamma=0.1;, score=0.901 total time=   3.0s\n",
            "[CV 2/5] END ..................C=100, gamma=0.1;, score=0.914 total time=   2.6s\n",
            "[CV 3/5] END ..................C=100, gamma=0.1;, score=0.916 total time=   2.2s\n",
            "[CV 4/5] END ..................C=100, gamma=0.1;, score=0.911 total time=   2.2s\n",
            "[CV 5/5] END ..................C=100, gamma=0.1;, score=0.907 total time=   2.4s\n",
            "[CV 1/5] END .................C=100, gamma=0.01;, score=0.975 total time=   0.7s\n",
            "[CV 2/5] END .................C=100, gamma=0.01;, score=0.979 total time=   0.7s\n",
            "[CV 3/5] END .................C=100, gamma=0.01;, score=0.978 total time=   0.6s\n",
            "[CV 4/5] END .................C=100, gamma=0.01;, score=0.984 total time=   0.6s\n",
            "[CV 5/5] END .................C=100, gamma=0.01;, score=0.984 total time=   0.6s\n"
          ]
        },
        {
          "data": {
            "text/plain": [
              "GridSearchCV(estimator=SVC(),\n",
              "             param_grid={'C': [0.1, 1, 10, 100], 'gamma': [1, 0.1, 0.01]},\n",
              "             verbose=3)"
            ]
          },
          "execution_count": 89,
          "metadata": {},
          "output_type": "execute_result"
        }
      ],
      "source": [
        "param_grid = {'C': [0.1, 1, 10, 100],\n",
        "              'gamma': [1, 0.1, 0.01]}\n",
        " \n",
        "grid_svm_w2v = GridSearchCV(svm.SVC(kernel='rbf'), param_grid, refit = True, verbose = 3)\n",
        "grid_svm_w2v.fit(X_train_w2v,y_train_w2v)"
      ]
    },
    {
      "cell_type": "code",
      "execution_count": null,
      "id": "f17c706c",
      "metadata": {
        "id": "f17c706c",
        "outputId": "c658dbdb-8fc8-42d6-a27c-ebac6982f508"
      },
      "outputs": [
        {
          "data": {
            "text/plain": [
              "{'C': 10, 'gamma': 0.01}"
            ]
          },
          "execution_count": 90,
          "metadata": {},
          "output_type": "execute_result"
        }
      ],
      "source": [
        "grid_svm_w2v.best_params_"
      ]
    },
    {
      "cell_type": "code",
      "execution_count": null,
      "id": "8acba8e7",
      "metadata": {
        "id": "8acba8e7",
        "outputId": "da24c5c2-a1d1-4551-cf22-54627fa8e590"
      },
      "outputs": [
        {
          "data": {
            "text/plain": [
              "SVC(C=10, gamma=0.01)"
            ]
          },
          "execution_count": 91,
          "metadata": {},
          "output_type": "execute_result"
        }
      ],
      "source": [
        "grid_svm_w2v.best_estimator_"
      ]
    },
    {
      "cell_type": "code",
      "execution_count": null,
      "id": "ec099ee4",
      "metadata": {
        "id": "ec099ee4",
        "outputId": "2bbf0e7e-8cc0-414f-8a78-520461de9684"
      },
      "outputs": [
        {
          "data": {
            "text/html": [
              "<div>\n",
              "<style scoped>\n",
              "    .dataframe tbody tr th:only-of-type {\n",
              "        vertical-align: middle;\n",
              "    }\n",
              "\n",
              "    .dataframe tbody tr th {\n",
              "        vertical-align: top;\n",
              "    }\n",
              "\n",
              "    .dataframe thead th {\n",
              "        text-align: right;\n",
              "    }\n",
              "</style>\n",
              "<table border=\"1\" class=\"dataframe\">\n",
              "  <thead>\n",
              "    <tr style=\"text-align: right;\">\n",
              "      <th></th>\n",
              "      <th>params</th>\n",
              "      <th>mean_test_score</th>\n",
              "    </tr>\n",
              "  </thead>\n",
              "  <tbody>\n",
              "    <tr>\n",
              "      <th>8</th>\n",
              "      <td>{'C': 10, 'gamma': 0.01}</td>\n",
              "      <td>0.980033</td>\n",
              "    </tr>\n",
              "    <tr>\n",
              "      <th>11</th>\n",
              "      <td>{'C': 100, 'gamma': 0.01}</td>\n",
              "      <td>0.980033</td>\n",
              "    </tr>\n",
              "    <tr>\n",
              "      <th>5</th>\n",
              "      <td>{'C': 1, 'gamma': 0.01}</td>\n",
              "      <td>0.978911</td>\n",
              "    </tr>\n",
              "    <tr>\n",
              "      <th>2</th>\n",
              "      <td>{'C': 0.1, 'gamma': 0.01}</td>\n",
              "      <td>0.922821</td>\n",
              "    </tr>\n",
              "    <tr>\n",
              "      <th>7</th>\n",
              "      <td>{'C': 10, 'gamma': 0.1}</td>\n",
              "      <td>0.909806</td>\n",
              "    </tr>\n",
              "    <tr>\n",
              "      <th>10</th>\n",
              "      <td>{'C': 100, 'gamma': 0.1}</td>\n",
              "      <td>0.909806</td>\n",
              "    </tr>\n",
              "    <tr>\n",
              "      <th>4</th>\n",
              "      <td>{'C': 1, 'gamma': 0.1}</td>\n",
              "      <td>0.906216</td>\n",
              "    </tr>\n",
              "    <tr>\n",
              "      <th>3</th>\n",
              "      <td>{'C': 1, 'gamma': 1}</td>\n",
              "      <td>0.903076</td>\n",
              "    </tr>\n",
              "    <tr>\n",
              "      <th>6</th>\n",
              "      <td>{'C': 10, 'gamma': 1}</td>\n",
              "      <td>0.903076</td>\n",
              "    </tr>\n",
              "    <tr>\n",
              "      <th>9</th>\n",
              "      <td>{'C': 100, 'gamma': 1}</td>\n",
              "      <td>0.903076</td>\n",
              "    </tr>\n",
              "    <tr>\n",
              "      <th>0</th>\n",
              "      <td>{'C': 0.1, 'gamma': 1}</td>\n",
              "      <td>0.863586</td>\n",
              "    </tr>\n",
              "    <tr>\n",
              "      <th>1</th>\n",
              "      <td>{'C': 0.1, 'gamma': 0.1}</td>\n",
              "      <td>0.863586</td>\n",
              "    </tr>\n",
              "  </tbody>\n",
              "</table>\n",
              "</div>"
            ],
            "text/plain": [
              "                       params  mean_test_score\n",
              "8    {'C': 10, 'gamma': 0.01}         0.980033\n",
              "11  {'C': 100, 'gamma': 0.01}         0.980033\n",
              "5     {'C': 1, 'gamma': 0.01}         0.978911\n",
              "2   {'C': 0.1, 'gamma': 0.01}         0.922821\n",
              "7     {'C': 10, 'gamma': 0.1}         0.909806\n",
              "10   {'C': 100, 'gamma': 0.1}         0.909806\n",
              "4      {'C': 1, 'gamma': 0.1}         0.906216\n",
              "3        {'C': 1, 'gamma': 1}         0.903076\n",
              "6       {'C': 10, 'gamma': 1}         0.903076\n",
              "9      {'C': 100, 'gamma': 1}         0.903076\n",
              "0      {'C': 0.1, 'gamma': 1}         0.863586\n",
              "1    {'C': 0.1, 'gamma': 0.1}         0.863586"
            ]
          },
          "execution_count": 92,
          "metadata": {},
          "output_type": "execute_result"
        }
      ],
      "source": [
        "cv_results_svm_w2v = pd.DataFrame(grid_svm_w2v.cv_results_)[['params','mean_test_score']]\n",
        "cv_results_svm_w2v.sort_values(by='mean_test_score',ascending=False)"
      ]
    },
    {
      "cell_type": "code",
      "execution_count": null,
      "id": "78759363",
      "metadata": {
        "id": "78759363"
      },
      "outputs": [],
      "source": [
        "svm_predicted_w2v = grid_svm_w2v.predict(X_test_w2v)"
      ]
    },
    {
      "cell_type": "code",
      "execution_count": null,
      "id": "b67cb8b0",
      "metadata": {
        "id": "b67cb8b0",
        "outputId": "fb05a9d6-e9b9-4037-fab5-d0ffcc7f256f"
      },
      "outputs": [
        {
          "data": {
            "text/plain": [
              "0.989237668161435"
            ]
          },
          "execution_count": 95,
          "metadata": {},
          "output_type": "execute_result"
        }
      ],
      "source": [
        "accuracy_score(y_test,svm_predicted_w2v)"
      ]
    },
    {
      "cell_type": "code",
      "execution_count": null,
      "id": "6463b852",
      "metadata": {
        "id": "6463b852",
        "outputId": "afc3cc6a-8ac0-4d55-8b2a-f6fc39819e94"
      },
      "outputs": [
        {
          "data": {
            "text/plain": [
              "0.9558823529411764"
            ]
          },
          "execution_count": 155,
          "metadata": {},
          "output_type": "execute_result"
        }
      ],
      "source": [
        "f1_score(y_test,svm_predicted_w2v, pos_label=0)"
      ]
    },
    {
      "cell_type": "code",
      "execution_count": null,
      "id": "6d06ed86",
      "metadata": {
        "id": "6d06ed86",
        "outputId": "5288ef29-3f57-4283-eddd-6bb41ad4b257"
      },
      "outputs": [
        {
          "data": {
            "text/plain": [
              "0.9774436090225563"
            ]
          },
          "execution_count": 156,
          "metadata": {},
          "output_type": "execute_result"
        }
      ],
      "source": [
        "precision_score(y_test,svm_predicted_w2v, pos_label=0)"
      ]
    },
    {
      "cell_type": "code",
      "execution_count": null,
      "id": "8ff1e0c9",
      "metadata": {
        "id": "8ff1e0c9",
        "outputId": "75134101-e625-460f-e535-2361d0505bb0"
      },
      "outputs": [
        {
          "data": {
            "text/plain": [
              "0.935251798561151"
            ]
          },
          "execution_count": 157,
          "metadata": {},
          "output_type": "execute_result"
        }
      ],
      "source": [
        "recall_score(y_test,svm_predicted_w2v, pos_label=0)"
      ]
    },
    {
      "cell_type": "code",
      "execution_count": null,
      "id": "a4938100",
      "metadata": {
        "id": "a4938100",
        "outputId": "a30627c9-42bb-4e58-ea07-06fbb7c477b2"
      },
      "outputs": [
        {
          "data": {
            "text/plain": [
              "<sklearn.metrics._plot.confusion_matrix.ConfusionMatrixDisplay at 0x7fe66969fc40>"
            ]
          },
          "execution_count": 97,
          "metadata": {},
          "output_type": "execute_result"
        },
        {
          "data": {
            "image/png": "[encoded data removed]",
            "text/plain": [
              "<Figure size 432x288 with 2 Axes>"
            ]
          },
          "metadata": {
            "needs_background": "light"
          },
          "output_type": "display_data"
        }
      ],
      "source": [
        "plot_confusion_matrix(grid_svm_w2v, X_test_w2v, y_test_w2v)"
      ]
    },
    {
      "cell_type": "code",
      "execution_count": null,
      "id": "16562fc2",
      "metadata": {
        "id": "16562fc2",
        "outputId": "dd3ee4a8-28e4-4964-f680-91f0f183855f"
      },
      "outputs": [
        {
          "name": "stdout",
          "output_type": "stream",
          "text": [
            "Fitting 5 folds for each of 12 candidates, totalling 60 fits\n"
          ]
        },
        {
          "name": "stderr",
          "output_type": "stream",
          "text": [
            "/Users/danilojanjusevic/opt/anaconda3/lib/python3.9/site-packages/sklearn/neural_network/_multilayer_perceptron.py:614: ConvergenceWarning: Stochastic Optimizer: Maximum iterations (200) reached and the optimization hasn't converged yet.\n",
            "  warnings.warn(\n"
          ]
        },
        {
          "name": "stdout",
          "output_type": "stream",
          "text": [
            "[CV 1/5] END activation=tanh, hidden_layer_sizes=(10, 20), solver=sgd;, score=0.980 total time=   2.0s\n"
          ]
        },
        {
          "name": "stderr",
          "output_type": "stream",
          "text": [
            "/Users/danilojanjusevic/opt/anaconda3/lib/python3.9/site-packages/sklearn/neural_network/_multilayer_perceptron.py:614: ConvergenceWarning: Stochastic Optimizer: Maximum iterations (200) reached and the optimization hasn't converged yet.\n",
            "  warnings.warn(\n"
          ]
        },
        {
          "name": "stdout",
          "output_type": "stream",
          "text": [
            "[CV 2/5] END activation=tanh, hidden_layer_sizes=(10, 20), solver=sgd;, score=0.985 total time=   2.0s\n"
          ]
        },
        {
          "name": "stderr",
          "output_type": "stream",
          "text": [
            "/Users/danilojanjusevic/opt/anaconda3/lib/python3.9/site-packages/sklearn/neural_network/_multilayer_perceptron.py:614: ConvergenceWarning: Stochastic Optimizer: Maximum iterations (200) reached and the optimization hasn't converged yet.\n",
            "  warnings.warn(\n"
          ]
        },
        {
          "name": "stdout",
          "output_type": "stream",
          "text": [
            "[CV 3/5] END activation=tanh, hidden_layer_sizes=(10, 20), solver=sgd;, score=0.984 total time=   2.1s\n"
          ]
        },
        {
          "name": "stderr",
          "output_type": "stream",
          "text": [
            "/Users/danilojanjusevic/opt/anaconda3/lib/python3.9/site-packages/sklearn/neural_network/_multilayer_perceptron.py:614: ConvergenceWarning: Stochastic Optimizer: Maximum iterations (200) reached and the optimization hasn't converged yet.\n",
            "  warnings.warn(\n"
          ]
        },
        {
          "name": "stdout",
          "output_type": "stream",
          "text": [
            "[CV 4/5] END activation=tanh, hidden_layer_sizes=(10, 20), solver=sgd;, score=0.985 total time=   2.2s\n"
          ]
        },
        {
          "name": "stderr",
          "output_type": "stream",
          "text": [
            "/Users/danilojanjusevic/opt/anaconda3/lib/python3.9/site-packages/sklearn/neural_network/_multilayer_perceptron.py:614: ConvergenceWarning: Stochastic Optimizer: Maximum iterations (200) reached and the optimization hasn't converged yet.\n",
            "  warnings.warn(\n"
          ]
        },
        {
          "name": "stdout",
          "output_type": "stream",
          "text": [
            "[CV 5/5] END activation=tanh, hidden_layer_sizes=(10, 20), solver=sgd;, score=0.987 total time=   2.1s\n",
            "[CV 1/5] END activation=tanh, hidden_layer_sizes=(10, 20), solver=adam;, score=0.979 total time=   1.2s\n",
            "[CV 2/5] END activation=tanh, hidden_layer_sizes=(10, 20), solver=adam;, score=0.988 total time=   1.2s\n",
            "[CV 3/5] END activation=tanh, hidden_layer_sizes=(10, 20), solver=adam;, score=0.981 total time=   1.7s\n",
            "[CV 4/5] END activation=tanh, hidden_layer_sizes=(10, 20), solver=adam;, score=0.981 total time=   1.5s\n",
            "[CV 5/5] END activation=tanh, hidden_layer_sizes=(10, 20), solver=adam;, score=0.988 total time=   1.5s\n"
          ]
        },
        {
          "name": "stderr",
          "output_type": "stream",
          "text": [
            "/Users/danilojanjusevic/opt/anaconda3/lib/python3.9/site-packages/sklearn/neural_network/_multilayer_perceptron.py:614: ConvergenceWarning: Stochastic Optimizer: Maximum iterations (200) reached and the optimization hasn't converged yet.\n",
            "  warnings.warn(\n"
          ]
        },
        {
          "name": "stdout",
          "output_type": "stream",
          "text": [
            "[CV 1/5] END activation=tanh, hidden_layer_sizes=(10, 10), solver=sgd;, score=0.981 total time=   2.4s\n"
          ]
        },
        {
          "name": "stderr",
          "output_type": "stream",
          "text": [
            "/Users/danilojanjusevic/opt/anaconda3/lib/python3.9/site-packages/sklearn/neural_network/_multilayer_perceptron.py:614: ConvergenceWarning: Stochastic Optimizer: Maximum iterations (200) reached and the optimization hasn't converged yet.\n",
            "  warnings.warn(\n"
          ]
        },
        {
          "name": "stdout",
          "output_type": "stream",
          "text": [
            "[CV 2/5] END activation=tanh, hidden_layer_sizes=(10, 10), solver=sgd;, score=0.983 total time=   2.0s\n"
          ]
        },
        {
          "name": "stderr",
          "output_type": "stream",
          "text": [
            "/Users/danilojanjusevic/opt/anaconda3/lib/python3.9/site-packages/sklearn/neural_network/_multilayer_perceptron.py:614: ConvergenceWarning: Stochastic Optimizer: Maximum iterations (200) reached and the optimization hasn't converged yet.\n",
            "  warnings.warn(\n"
          ]
        },
        {
          "name": "stdout",
          "output_type": "stream",
          "text": [
            "[CV 3/5] END activation=tanh, hidden_layer_sizes=(10, 10), solver=sgd;, score=0.978 total time=   2.4s\n"
          ]
        },
        {
          "name": "stderr",
          "output_type": "stream",
          "text": [
            "/Users/danilojanjusevic/opt/anaconda3/lib/python3.9/site-packages/sklearn/neural_network/_multilayer_perceptron.py:614: ConvergenceWarning: Stochastic Optimizer: Maximum iterations (200) reached and the optimization hasn't converged yet.\n",
            "  warnings.warn(\n"
          ]
        },
        {
          "name": "stdout",
          "output_type": "stream",
          "text": [
            "[CV 4/5] END activation=tanh, hidden_layer_sizes=(10, 10), solver=sgd;, score=0.980 total time=   2.1s\n"
          ]
        },
        {
          "name": "stderr",
          "output_type": "stream",
          "text": [
            "/Users/danilojanjusevic/opt/anaconda3/lib/python3.9/site-packages/sklearn/neural_network/_multilayer_perceptron.py:614: ConvergenceWarning: Stochastic Optimizer: Maximum iterations (200) reached and the optimization hasn't converged yet.\n",
            "  warnings.warn(\n"
          ]
        },
        {
          "name": "stdout",
          "output_type": "stream",
          "text": [
            "[CV 5/5] END activation=tanh, hidden_layer_sizes=(10, 10), solver=sgd;, score=0.989 total time=   2.0s\n",
            "[CV 1/5] END activation=tanh, hidden_layer_sizes=(10, 10), solver=adam;, score=0.982 total time=   1.2s\n",
            "[CV 2/5] END activation=tanh, hidden_layer_sizes=(10, 10), solver=adam;, score=0.987 total time=   1.6s\n",
            "[CV 3/5] END activation=tanh, hidden_layer_sizes=(10, 10), solver=adam;, score=0.981 total time=   1.0s\n",
            "[CV 4/5] END activation=tanh, hidden_layer_sizes=(10, 10), solver=adam;, score=0.982 total time=   1.4s\n",
            "[CV 5/5] END activation=tanh, hidden_layer_sizes=(10, 10), solver=adam;, score=0.988 total time=   1.2s\n"
          ]
        },
        {
          "name": "stderr",
          "output_type": "stream",
          "text": [
            "/Users/danilojanjusevic/opt/anaconda3/lib/python3.9/site-packages/sklearn/neural_network/_multilayer_perceptron.py:614: ConvergenceWarning: Stochastic Optimizer: Maximum iterations (200) reached and the optimization hasn't converged yet.\n",
            "  warnings.warn(\n"
          ]
        },
        {
          "name": "stdout",
          "output_type": "stream",
          "text": [
            "[CV 1/5] END activation=tanh, hidden_layer_sizes=(10,), solver=sgd;, score=0.978 total time=   1.6s\n"
          ]
        },
        {
          "name": "stderr",
          "output_type": "stream",
          "text": [
            "/Users/danilojanjusevic/opt/anaconda3/lib/python3.9/site-packages/sklearn/neural_network/_multilayer_perceptron.py:614: ConvergenceWarning: Stochastic Optimizer: Maximum iterations (200) reached and the optimization hasn't converged yet.\n",
            "  warnings.warn(\n"
          ]
        },
        {
          "name": "stdout",
          "output_type": "stream",
          "text": [
            "[CV 2/5] END activation=tanh, hidden_layer_sizes=(10,), solver=sgd;, score=0.984 total time=   1.7s\n"
          ]
        },
        {
          "name": "stderr",
          "output_type": "stream",
          "text": [
            "/Users/danilojanjusevic/opt/anaconda3/lib/python3.9/site-packages/sklearn/neural_network/_multilayer_perceptron.py:614: ConvergenceWarning: Stochastic Optimizer: Maximum iterations (200) reached and the optimization hasn't converged yet.\n",
            "  warnings.warn(\n"
          ]
        },
        {
          "name": "stdout",
          "output_type": "stream",
          "text": [
            "[CV 3/5] END activation=tanh, hidden_layer_sizes=(10,), solver=sgd;, score=0.981 total time=   1.7s\n"
          ]
        },
        {
          "name": "stderr",
          "output_type": "stream",
          "text": [
            "/Users/danilojanjusevic/opt/anaconda3/lib/python3.9/site-packages/sklearn/neural_network/_multilayer_perceptron.py:614: ConvergenceWarning: Stochastic Optimizer: Maximum iterations (200) reached and the optimization hasn't converged yet.\n",
            "  warnings.warn(\n"
          ]
        },
        {
          "name": "stdout",
          "output_type": "stream",
          "text": [
            "[CV 4/5] END activation=tanh, hidden_layer_sizes=(10,), solver=sgd;, score=0.981 total time=   1.7s\n"
          ]
        },
        {
          "name": "stderr",
          "output_type": "stream",
          "text": [
            "/Users/danilojanjusevic/opt/anaconda3/lib/python3.9/site-packages/sklearn/neural_network/_multilayer_perceptron.py:614: ConvergenceWarning: Stochastic Optimizer: Maximum iterations (200) reached and the optimization hasn't converged yet.\n",
            "  warnings.warn(\n"
          ]
        },
        {
          "name": "stdout",
          "output_type": "stream",
          "text": [
            "[CV 5/5] END activation=tanh, hidden_layer_sizes=(10,), solver=sgd;, score=0.985 total time=   1.6s\n",
            "[CV 1/5] END activation=tanh, hidden_layer_sizes=(10,), solver=adam;, score=0.980 total time=   1.4s\n",
            "[CV 2/5] END activation=tanh, hidden_layer_sizes=(10,), solver=adam;, score=0.989 total time=   1.7s\n",
            "[CV 3/5] END activation=tanh, hidden_layer_sizes=(10,), solver=adam;, score=0.983 total time=   1.5s\n",
            "[CV 4/5] END activation=tanh, hidden_layer_sizes=(10,), solver=adam;, score=0.983 total time=   1.4s\n",
            "[CV 5/5] END activation=tanh, hidden_layer_sizes=(10,), solver=adam;, score=0.989 total time=   1.6s\n"
          ]
        },
        {
          "name": "stderr",
          "output_type": "stream",
          "text": [
            "/Users/danilojanjusevic/opt/anaconda3/lib/python3.9/site-packages/sklearn/neural_network/_multilayer_perceptron.py:614: ConvergenceWarning: Stochastic Optimizer: Maximum iterations (200) reached and the optimization hasn't converged yet.\n",
            "  warnings.warn(\n"
          ]
        },
        {
          "name": "stdout",
          "output_type": "stream",
          "text": [
            "[CV 1/5] END activation=relu, hidden_layer_sizes=(10, 20), solver=sgd;, score=0.978 total time=   2.1s\n"
          ]
        },
        {
          "name": "stderr",
          "output_type": "stream",
          "text": [
            "/Users/danilojanjusevic/opt/anaconda3/lib/python3.9/site-packages/sklearn/neural_network/_multilayer_perceptron.py:614: ConvergenceWarning: Stochastic Optimizer: Maximum iterations (200) reached and the optimization hasn't converged yet.\n",
            "  warnings.warn(\n"
          ]
        },
        {
          "name": "stdout",
          "output_type": "stream",
          "text": [
            "[CV 2/5] END activation=relu, hidden_layer_sizes=(10, 20), solver=sgd;, score=0.988 total time=   2.2s\n"
          ]
        },
        {
          "name": "stderr",
          "output_type": "stream",
          "text": [
            "/Users/danilojanjusevic/opt/anaconda3/lib/python3.9/site-packages/sklearn/neural_network/_multilayer_perceptron.py:614: ConvergenceWarning: Stochastic Optimizer: Maximum iterations (200) reached and the optimization hasn't converged yet.\n",
            "  warnings.warn(\n"
          ]
        },
        {
          "name": "stdout",
          "output_type": "stream",
          "text": [
            "[CV 3/5] END activation=relu, hidden_layer_sizes=(10, 20), solver=sgd;, score=0.980 total time=   2.1s\n"
          ]
        },
        {
          "name": "stderr",
          "output_type": "stream",
          "text": [
            "/Users/danilojanjusevic/opt/anaconda3/lib/python3.9/site-packages/sklearn/neural_network/_multilayer_perceptron.py:614: ConvergenceWarning: Stochastic Optimizer: Maximum iterations (200) reached and the optimization hasn't converged yet.\n",
            "  warnings.warn(\n"
          ]
        },
        {
          "name": "stdout",
          "output_type": "stream",
          "text": [
            "[CV 4/5] END activation=relu, hidden_layer_sizes=(10, 20), solver=sgd;, score=0.983 total time=   2.0s\n"
          ]
        },
        {
          "name": "stderr",
          "output_type": "stream",
          "text": [
            "/Users/danilojanjusevic/opt/anaconda3/lib/python3.9/site-packages/sklearn/neural_network/_multilayer_perceptron.py:614: ConvergenceWarning: Stochastic Optimizer: Maximum iterations (200) reached and the optimization hasn't converged yet.\n",
            "  warnings.warn(\n"
          ]
        },
        {
          "name": "stdout",
          "output_type": "stream",
          "text": [
            "[CV 5/5] END activation=relu, hidden_layer_sizes=(10, 20), solver=sgd;, score=0.987 total time=   2.1s\n",
            "[CV 1/5] END activation=relu, hidden_layer_sizes=(10, 20), solver=adam;, score=0.982 total time=   1.1s\n",
            "[CV 2/5] END activation=relu, hidden_layer_sizes=(10, 20), solver=adam;, score=0.985 total time=   0.9s\n",
            "[CV 3/5] END activation=relu, hidden_layer_sizes=(10, 20), solver=adam;, score=0.982 total time=   1.0s\n",
            "[CV 4/5] END activation=relu, hidden_layer_sizes=(10, 20), solver=adam;, score=0.982 total time=   1.1s\n",
            "[CV 5/5] END activation=relu, hidden_layer_sizes=(10, 20), solver=adam;, score=0.988 total time=   1.2s\n"
          ]
        },
        {
          "name": "stderr",
          "output_type": "stream",
          "text": [
            "/Users/danilojanjusevic/opt/anaconda3/lib/python3.9/site-packages/sklearn/neural_network/_multilayer_perceptron.py:614: ConvergenceWarning: Stochastic Optimizer: Maximum iterations (200) reached and the optimization hasn't converged yet.\n",
            "  warnings.warn(\n"
          ]
        },
        {
          "name": "stdout",
          "output_type": "stream",
          "text": [
            "[CV 1/5] END activation=relu, hidden_layer_sizes=(10, 10), solver=sgd;, score=0.980 total time=   2.0s\n"
          ]
        },
        {
          "name": "stderr",
          "output_type": "stream",
          "text": [
            "/Users/danilojanjusevic/opt/anaconda3/lib/python3.9/site-packages/sklearn/neural_network/_multilayer_perceptron.py:614: ConvergenceWarning: Stochastic Optimizer: Maximum iterations (200) reached and the optimization hasn't converged yet.\n",
            "  warnings.warn(\n"
          ]
        },
        {
          "name": "stdout",
          "output_type": "stream",
          "text": [
            "[CV 2/5] END activation=relu, hidden_layer_sizes=(10, 10), solver=sgd;, score=0.983 total time=   2.0s\n"
          ]
        },
        {
          "name": "stderr",
          "output_type": "stream",
          "text": [
            "/Users/danilojanjusevic/opt/anaconda3/lib/python3.9/site-packages/sklearn/neural_network/_multilayer_perceptron.py:614: ConvergenceWarning: Stochastic Optimizer: Maximum iterations (200) reached and the optimization hasn't converged yet.\n",
            "  warnings.warn(\n"
          ]
        },
        {
          "name": "stdout",
          "output_type": "stream",
          "text": [
            "[CV 3/5] END activation=relu, hidden_layer_sizes=(10, 10), solver=sgd;, score=0.980 total time=   2.0s\n"
          ]
        },
        {
          "name": "stderr",
          "output_type": "stream",
          "text": [
            "/Users/danilojanjusevic/opt/anaconda3/lib/python3.9/site-packages/sklearn/neural_network/_multilayer_perceptron.py:614: ConvergenceWarning: Stochastic Optimizer: Maximum iterations (200) reached and the optimization hasn't converged yet.\n",
            "  warnings.warn(\n"
          ]
        },
        {
          "name": "stdout",
          "output_type": "stream",
          "text": [
            "[CV 4/5] END activation=relu, hidden_layer_sizes=(10, 10), solver=sgd;, score=0.984 total time=   2.0s\n"
          ]
        },
        {
          "name": "stderr",
          "output_type": "stream",
          "text": [
            "/Users/danilojanjusevic/opt/anaconda3/lib/python3.9/site-packages/sklearn/neural_network/_multilayer_perceptron.py:614: ConvergenceWarning: Stochastic Optimizer: Maximum iterations (200) reached and the optimization hasn't converged yet.\n",
            "  warnings.warn(\n"
          ]
        },
        {
          "name": "stdout",
          "output_type": "stream",
          "text": [
            "[CV 5/5] END activation=relu, hidden_layer_sizes=(10, 10), solver=sgd;, score=0.988 total time=   2.1s\n",
            "[CV 1/5] END activation=relu, hidden_layer_sizes=(10, 10), solver=adam;, score=0.978 total time=   1.6s\n",
            "[CV 2/5] END activation=relu, hidden_layer_sizes=(10, 10), solver=adam;, score=0.984 total time=   1.0s\n",
            "[CV 3/5] END activation=relu, hidden_layer_sizes=(10, 10), solver=adam;, score=0.982 total time=   1.0s\n",
            "[CV 4/5] END activation=relu, hidden_layer_sizes=(10, 10), solver=adam;, score=0.980 total time=   1.1s\n",
            "[CV 5/5] END activation=relu, hidden_layer_sizes=(10, 10), solver=adam;, score=0.989 total time=   1.5s\n"
          ]
        },
        {
          "name": "stderr",
          "output_type": "stream",
          "text": [
            "/Users/danilojanjusevic/opt/anaconda3/lib/python3.9/site-packages/sklearn/neural_network/_multilayer_perceptron.py:614: ConvergenceWarning: Stochastic Optimizer: Maximum iterations (200) reached and the optimization hasn't converged yet.\n",
            "  warnings.warn(\n"
          ]
        },
        {
          "name": "stdout",
          "output_type": "stream",
          "text": [
            "[CV 1/5] END activation=relu, hidden_layer_sizes=(10,), solver=sgd;, score=0.978 total time=   1.6s\n"
          ]
        },
        {
          "name": "stderr",
          "output_type": "stream",
          "text": [
            "/Users/danilojanjusevic/opt/anaconda3/lib/python3.9/site-packages/sklearn/neural_network/_multilayer_perceptron.py:614: ConvergenceWarning: Stochastic Optimizer: Maximum iterations (200) reached and the optimization hasn't converged yet.\n",
            "  warnings.warn(\n"
          ]
        },
        {
          "name": "stdout",
          "output_type": "stream",
          "text": [
            "[CV 2/5] END activation=relu, hidden_layer_sizes=(10,), solver=sgd;, score=0.988 total time=   1.7s\n"
          ]
        },
        {
          "name": "stderr",
          "output_type": "stream",
          "text": [
            "/Users/danilojanjusevic/opt/anaconda3/lib/python3.9/site-packages/sklearn/neural_network/_multilayer_perceptron.py:614: ConvergenceWarning: Stochastic Optimizer: Maximum iterations (200) reached and the optimization hasn't converged yet.\n",
            "  warnings.warn(\n"
          ]
        },
        {
          "name": "stdout",
          "output_type": "stream",
          "text": [
            "[CV 3/5] END activation=relu, hidden_layer_sizes=(10,), solver=sgd;, score=0.976 total time=   1.9s\n"
          ]
        },
        {
          "name": "stderr",
          "output_type": "stream",
          "text": [
            "/Users/danilojanjusevic/opt/anaconda3/lib/python3.9/site-packages/sklearn/neural_network/_multilayer_perceptron.py:614: ConvergenceWarning: Stochastic Optimizer: Maximum iterations (200) reached and the optimization hasn't converged yet.\n",
            "  warnings.warn(\n"
          ]
        },
        {
          "name": "stdout",
          "output_type": "stream",
          "text": [
            "[CV 4/5] END activation=relu, hidden_layer_sizes=(10,), solver=sgd;, score=0.985 total time=   2.1s\n"
          ]
        },
        {
          "name": "stderr",
          "output_type": "stream",
          "text": [
            "/Users/danilojanjusevic/opt/anaconda3/lib/python3.9/site-packages/sklearn/neural_network/_multilayer_perceptron.py:614: ConvergenceWarning: Stochastic Optimizer: Maximum iterations (200) reached and the optimization hasn't converged yet.\n",
            "  warnings.warn(\n"
          ]
        },
        {
          "name": "stdout",
          "output_type": "stream",
          "text": [
            "[CV 5/5] END activation=relu, hidden_layer_sizes=(10,), solver=sgd;, score=0.984 total time=   1.9s\n",
            "[CV 1/5] END activation=relu, hidden_layer_sizes=(10,), solver=adam;, score=0.982 total time=   1.2s\n",
            "[CV 2/5] END activation=relu, hidden_layer_sizes=(10,), solver=adam;, score=0.984 total time=   1.7s\n",
            "[CV 3/5] END activation=relu, hidden_layer_sizes=(10,), solver=adam;, score=0.978 total time=   1.4s\n",
            "[CV 4/5] END activation=relu, hidden_layer_sizes=(10,), solver=adam;, score=0.976 total time=   1.5s\n",
            "[CV 5/5] END activation=relu, hidden_layer_sizes=(10,), solver=adam;, score=0.987 total time=   1.7s\n"
          ]
        },
        {
          "data": {
            "text/plain": [
              "GridSearchCV(estimator=MLPClassifier(),\n",
              "             param_grid={'activation': ['tanh', 'relu'],\n",
              "                         'hidden_layer_sizes': [(10, 20), (10, 10), (10,)],\n",
              "                         'solver': ['sgd', 'adam']},\n",
              "             verbose=3)"
            ]
          },
          "execution_count": 98,
          "metadata": {},
          "output_type": "execute_result"
        }
      ],
      "source": [
        "parameter_space = {\n",
        "    'hidden_layer_sizes': [(10,20), (10,10), (10,)],\n",
        "    'activation': ['tanh', 'relu'],\n",
        "    'solver': ['sgd', 'adam'],\n",
        "}\n",
        "grid_mlp_w2v = GridSearchCV(MLPClassifier(), parameter_space, refit = True, verbose = 3)\n",
        "grid_mlp_w2v.fit(X_train_w2v,y_train_w2v)"
      ]
    },
    {
      "cell_type": "code",
      "execution_count": null,
      "id": "bd8f0444",
      "metadata": {
        "id": "bd8f0444",
        "outputId": "5459952e-e05b-4858-e021-a5c5abf0a9f7"
      },
      "outputs": [
        {
          "data": {
            "text/plain": [
              "MLPClassifier(activation='tanh', hidden_layer_sizes=(10,))"
            ]
          },
          "execution_count": 99,
          "metadata": {},
          "output_type": "execute_result"
        }
      ],
      "source": [
        "grid_mlp_w2v.best_estimator_"
      ]
    },
    {
      "cell_type": "code",
      "execution_count": null,
      "id": "771ca285",
      "metadata": {
        "id": "771ca285",
        "outputId": "93346b89-2d5f-4a26-d30d-f3e83a5a006b"
      },
      "outputs": [
        {
          "data": {
            "text/plain": [
              "{'activation': 'tanh', 'hidden_layer_sizes': (10,), 'solver': 'adam'}"
            ]
          },
          "execution_count": 100,
          "metadata": {},
          "output_type": "execute_result"
        }
      ],
      "source": [
        "grid_mlp_w2v.best_params_"
      ]
    },
    {
      "cell_type": "code",
      "execution_count": null,
      "id": "42430e0e",
      "metadata": {
        "id": "42430e0e",
        "outputId": "018a24cf-c7a8-4990-979a-21c757f68570"
      },
      "outputs": [
        {
          "data": {
            "text/html": [
              "<div>\n",
              "<style scoped>\n",
              "    .dataframe tbody tr th:only-of-type {\n",
              "        vertical-align: middle;\n",
              "    }\n",
              "\n",
              "    .dataframe tbody tr th {\n",
              "        vertical-align: top;\n",
              "    }\n",
              "\n",
              "    .dataframe thead th {\n",
              "        text-align: right;\n",
              "    }\n",
              "</style>\n",
              "<table border=\"1\" class=\"dataframe\">\n",
              "  <thead>\n",
              "    <tr style=\"text-align: right;\">\n",
              "      <th></th>\n",
              "      <th>parameters</th>\n",
              "      <th>mean_test_score</th>\n",
              "    </tr>\n",
              "  </thead>\n",
              "  <tbody>\n",
              "    <tr>\n",
              "      <th>5</th>\n",
              "      <td>{'a': 'tanh', 'hls': (10,), 'solver': 'adam'}</td>\n",
              "      <td>0.984743</td>\n",
              "    </tr>\n",
              "    <tr>\n",
              "      <th>0</th>\n",
              "      <td>{'a': 'tanh', 'hls': (10, 20), 'solver': 'sgd'}</td>\n",
              "      <td>0.984295</td>\n",
              "    </tr>\n",
              "    <tr>\n",
              "      <th>7</th>\n",
              "      <td>{'a': 'relu', 'hls': (10, 20), 'solver': 'adam'}</td>\n",
              "      <td>0.983846</td>\n",
              "    </tr>\n",
              "    <tr>\n",
              "      <th>3</th>\n",
              "      <td>{'a': 'tanh', 'hls': (10, 10), 'solver': 'adam'}</td>\n",
              "      <td>0.983845</td>\n",
              "    </tr>\n",
              "    <tr>\n",
              "      <th>1</th>\n",
              "      <td>{'a': 'tanh', 'hls': (10, 20), 'solver': 'adam'}</td>\n",
              "      <td>0.983173</td>\n",
              "    </tr>\n",
              "    <tr>\n",
              "      <th>8</th>\n",
              "      <td>{'a': 'relu', 'hls': (10, 10), 'solver': 'sgd'}</td>\n",
              "      <td>0.982949</td>\n",
              "    </tr>\n",
              "    <tr>\n",
              "      <th>6</th>\n",
              "      <td>{'a': 'relu', 'hls': (10, 20), 'solver': 'sgd'}</td>\n",
              "      <td>0.982948</td>\n",
              "    </tr>\n",
              "    <tr>\n",
              "      <th>9</th>\n",
              "      <td>{'a': 'relu', 'hls': (10, 10), 'solver': 'adam'}</td>\n",
              "      <td>0.982500</td>\n",
              "    </tr>\n",
              "    <tr>\n",
              "      <th>10</th>\n",
              "      <td>{'a': 'relu', 'hls': (10,), 'solver': 'sgd'}</td>\n",
              "      <td>0.982275</td>\n",
              "    </tr>\n",
              "    <tr>\n",
              "      <th>2</th>\n",
              "      <td>{'a': 'tanh', 'hls': (10, 10), 'solver': 'sgd'}</td>\n",
              "      <td>0.982051</td>\n",
              "    </tr>\n",
              "    <tr>\n",
              "      <th>4</th>\n",
              "      <td>{'a': 'tanh', 'hls': (10,), 'solver': 'sgd'}</td>\n",
              "      <td>0.981827</td>\n",
              "    </tr>\n",
              "    <tr>\n",
              "      <th>11</th>\n",
              "      <td>{'a': 'relu', 'hls': (10,), 'solver': 'adam'}</td>\n",
              "      <td>0.981377</td>\n",
              "    </tr>\n",
              "  </tbody>\n",
              "</table>\n",
              "</div>"
            ],
            "text/plain": [
              "                                          parameters  mean_test_score\n",
              "5      {'a': 'tanh', 'hls': (10,), 'solver': 'adam'}         0.984743\n",
              "0    {'a': 'tanh', 'hls': (10, 20), 'solver': 'sgd'}         0.984295\n",
              "7   {'a': 'relu', 'hls': (10, 20), 'solver': 'adam'}         0.983846\n",
              "3   {'a': 'tanh', 'hls': (10, 10), 'solver': 'adam'}         0.983845\n",
              "1   {'a': 'tanh', 'hls': (10, 20), 'solver': 'adam'}         0.983173\n",
              "8    {'a': 'relu', 'hls': (10, 10), 'solver': 'sgd'}         0.982949\n",
              "6    {'a': 'relu', 'hls': (10, 20), 'solver': 'sgd'}         0.982948\n",
              "9   {'a': 'relu', 'hls': (10, 10), 'solver': 'adam'}         0.982500\n",
              "10      {'a': 'relu', 'hls': (10,), 'solver': 'sgd'}         0.982275\n",
              "2    {'a': 'tanh', 'hls': (10, 10), 'solver': 'sgd'}         0.982051\n",
              "4       {'a': 'tanh', 'hls': (10,), 'solver': 'sgd'}         0.981827\n",
              "11     {'a': 'relu', 'hls': (10,), 'solver': 'adam'}         0.981377"
            ]
          },
          "execution_count": 101,
          "metadata": {},
          "output_type": "execute_result"
        }
      ],
      "source": [
        "cv_results_mlp_w2v = pd.DataFrame(grid_mlp_w2v.cv_results_)[['params','mean_test_score']]\n",
        "cv_results_mlp_w2v['parameters'] = cv_results_mlp_w2v['params'].apply(change_field_names)\n",
        "cv_results_mlp_w2v[['parameters','mean_test_score']].sort_values(by='mean_test_score',ascending=False)"
      ]
    },
    {
      "cell_type": "code",
      "execution_count": null,
      "id": "0d91687b",
      "metadata": {
        "id": "0d91687b",
        "outputId": "535e309f-af08-4fe7-e070-d9797c2c9a7a"
      },
      "outputs": [
        {
          "data": {
            "text/html": [
              "<div>\n",
              "<style scoped>\n",
              "    .dataframe tbody tr th:only-of-type {\n",
              "        vertical-align: middle;\n",
              "    }\n",
              "\n",
              "    .dataframe tbody tr th {\n",
              "        vertical-align: top;\n",
              "    }\n",
              "\n",
              "    .dataframe thead th {\n",
              "        text-align: right;\n",
              "    }\n",
              "</style>\n",
              "<table border=\"1\" class=\"dataframe\">\n",
              "  <thead>\n",
              "    <tr style=\"text-align: right;\">\n",
              "      <th></th>\n",
              "      <th>params</th>\n",
              "      <th>mean_test_score</th>\n",
              "      <th>parameters</th>\n",
              "    </tr>\n",
              "  </thead>\n",
              "  <tbody>\n",
              "    <tr>\n",
              "      <th>5</th>\n",
              "      <td>{'activation': 'tanh', 'hidden_layer_sizes': (...</td>\n",
              "      <td>0.984743</td>\n",
              "      <td>{'a': 'tanh', 'hls': (10,), 'solver': 'adam'}</td>\n",
              "    </tr>\n",
              "    <tr>\n",
              "      <th>0</th>\n",
              "      <td>{'activation': 'tanh', 'hidden_layer_sizes': (...</td>\n",
              "      <td>0.984295</td>\n",
              "      <td>{'a': 'tanh', 'hls': (10, 20), 'solver': 'sgd'}</td>\n",
              "    </tr>\n",
              "    <tr>\n",
              "      <th>7</th>\n",
              "      <td>{'activation': 'relu', 'hidden_layer_sizes': (...</td>\n",
              "      <td>0.983846</td>\n",
              "      <td>{'a': 'relu', 'hls': (10, 20), 'solver': 'adam'}</td>\n",
              "    </tr>\n",
              "    <tr>\n",
              "      <th>3</th>\n",
              "      <td>{'activation': 'tanh', 'hidden_layer_sizes': (...</td>\n",
              "      <td>0.983845</td>\n",
              "      <td>{'a': 'tanh', 'hls': (10, 10), 'solver': 'adam'}</td>\n",
              "    </tr>\n",
              "    <tr>\n",
              "      <th>1</th>\n",
              "      <td>{'activation': 'tanh', 'hidden_layer_sizes': (...</td>\n",
              "      <td>0.983173</td>\n",
              "      <td>{'a': 'tanh', 'hls': (10, 20), 'solver': 'adam'}</td>\n",
              "    </tr>\n",
              "    <tr>\n",
              "      <th>8</th>\n",
              "      <td>{'activation': 'relu', 'hidden_layer_sizes': (...</td>\n",
              "      <td>0.982949</td>\n",
              "      <td>{'a': 'relu', 'hls': (10, 10), 'solver': 'sgd'}</td>\n",
              "    </tr>\n",
              "    <tr>\n",
              "      <th>6</th>\n",
              "      <td>{'activation': 'relu', 'hidden_layer_sizes': (...</td>\n",
              "      <td>0.982948</td>\n",
              "      <td>{'a': 'relu', 'hls': (10, 20), 'solver': 'sgd'}</td>\n",
              "    </tr>\n",
              "    <tr>\n",
              "      <th>9</th>\n",
              "      <td>{'activation': 'relu', 'hidden_layer_sizes': (...</td>\n",
              "      <td>0.982500</td>\n",
              "      <td>{'a': 'relu', 'hls': (10, 10), 'solver': 'adam'}</td>\n",
              "    </tr>\n",
              "    <tr>\n",
              "      <th>10</th>\n",
              "      <td>{'activation': 'relu', 'hidden_layer_sizes': (...</td>\n",
              "      <td>0.982275</td>\n",
              "      <td>{'a': 'relu', 'hls': (10,), 'solver': 'sgd'}</td>\n",
              "    </tr>\n",
              "    <tr>\n",
              "      <th>2</th>\n",
              "      <td>{'activation': 'tanh', 'hidden_layer_sizes': (...</td>\n",
              "      <td>0.982051</td>\n",
              "      <td>{'a': 'tanh', 'hls': (10, 10), 'solver': 'sgd'}</td>\n",
              "    </tr>\n",
              "    <tr>\n",
              "      <th>4</th>\n",
              "      <td>{'activation': 'tanh', 'hidden_layer_sizes': (...</td>\n",
              "      <td>0.981827</td>\n",
              "      <td>{'a': 'tanh', 'hls': (10,), 'solver': 'sgd'}</td>\n",
              "    </tr>\n",
              "    <tr>\n",
              "      <th>11</th>\n",
              "      <td>{'activation': 'relu', 'hidden_layer_sizes': (...</td>\n",
              "      <td>0.981377</td>\n",
              "      <td>{'a': 'relu', 'hls': (10,), 'solver': 'adam'}</td>\n",
              "    </tr>\n",
              "  </tbody>\n",
              "</table>\n",
              "</div>"
            ],
            "text/plain": [
              "                                               params  mean_test_score  \\\n",
              "5   {'activation': 'tanh', 'hidden_layer_sizes': (...         0.984743   \n",
              "0   {'activation': 'tanh', 'hidden_layer_sizes': (...         0.984295   \n",
              "7   {'activation': 'relu', 'hidden_layer_sizes': (...         0.983846   \n",
              "3   {'activation': 'tanh', 'hidden_layer_sizes': (...         0.983845   \n",
              "1   {'activation': 'tanh', 'hidden_layer_sizes': (...         0.983173   \n",
              "8   {'activation': 'relu', 'hidden_layer_sizes': (...         0.982949   \n",
              "6   {'activation': 'relu', 'hidden_layer_sizes': (...         0.982948   \n",
              "9   {'activation': 'relu', 'hidden_layer_sizes': (...         0.982500   \n",
              "10  {'activation': 'relu', 'hidden_layer_sizes': (...         0.982275   \n",
              "2   {'activation': 'tanh', 'hidden_layer_sizes': (...         0.982051   \n",
              "4   {'activation': 'tanh', 'hidden_layer_sizes': (...         0.981827   \n",
              "11  {'activation': 'relu', 'hidden_layer_sizes': (...         0.981377   \n",
              "\n",
              "                                          parameters  \n",
              "5      {'a': 'tanh', 'hls': (10,), 'solver': 'adam'}  \n",
              "0    {'a': 'tanh', 'hls': (10, 20), 'solver': 'sgd'}  \n",
              "7   {'a': 'relu', 'hls': (10, 20), 'solver': 'adam'}  \n",
              "3   {'a': 'tanh', 'hls': (10, 10), 'solver': 'adam'}  \n",
              "1   {'a': 'tanh', 'hls': (10, 20), 'solver': 'adam'}  \n",
              "8    {'a': 'relu', 'hls': (10, 10), 'solver': 'sgd'}  \n",
              "6    {'a': 'relu', 'hls': (10, 20), 'solver': 'sgd'}  \n",
              "9   {'a': 'relu', 'hls': (10, 10), 'solver': 'adam'}  \n",
              "10      {'a': 'relu', 'hls': (10,), 'solver': 'sgd'}  \n",
              "2    {'a': 'tanh', 'hls': (10, 10), 'solver': 'sgd'}  \n",
              "4       {'a': 'tanh', 'hls': (10,), 'solver': 'sgd'}  \n",
              "11     {'a': 'relu', 'hls': (10,), 'solver': 'adam'}  "
            ]
          },
          "execution_count": 102,
          "metadata": {},
          "output_type": "execute_result"
        }
      ],
      "source": [
        "\n",
        "cv_results_mlp_w2v.sort_values(by='mean_test_score',ascending=False)"
      ]
    },
    {
      "cell_type": "code",
      "execution_count": null,
      "id": "605f2c25",
      "metadata": {
        "id": "605f2c25"
      },
      "outputs": [],
      "source": [
        "predicted_mlp_w2v = grid_mlp_w2v.predict(X_test_w2v)"
      ]
    },
    {
      "cell_type": "code",
      "execution_count": null,
      "id": "5465119d",
      "metadata": {
        "id": "5465119d",
        "outputId": "59a39694-dff0-486d-9e4e-edae82abdfd6"
      },
      "outputs": [
        {
          "data": {
            "text/plain": [
              "0.9883408071748879"
            ]
          },
          "execution_count": 167,
          "metadata": {},
          "output_type": "execute_result"
        }
      ],
      "source": [
        "accuracy_score(y_test,predicted_mlp_w2v)"
      ]
    },
    {
      "cell_type": "code",
      "execution_count": null,
      "id": "dc90b72e",
      "metadata": {
        "id": "dc90b72e",
        "outputId": "d66e5f9b-beff-4d94-ba6a-310fdc8aa7c2"
      },
      "outputs": [
        {
          "data": {
            "text/plain": [
              "0.9530685920577617"
            ]
          },
          "execution_count": 158,
          "metadata": {},
          "output_type": "execute_result"
        }
      ],
      "source": [
        "f1_score(y_test,predicted_mlp_w2v, pos_label=0)"
      ]
    },
    {
      "cell_type": "code",
      "execution_count": null,
      "id": "76fc1b82",
      "metadata": {
        "id": "76fc1b82",
        "outputId": "2a0d1b64-afea-458c-a237-ad7b1120eec3"
      },
      "outputs": [
        {
          "data": {
            "text/plain": [
              "0.9565217391304348"
            ]
          },
          "execution_count": 159,
          "metadata": {},
          "output_type": "execute_result"
        }
      ],
      "source": [
        "precision_score(y_test,predicted_mlp_w2v, pos_label=0)"
      ]
    },
    {
      "cell_type": "code",
      "execution_count": null,
      "id": "2de5f970",
      "metadata": {
        "id": "2de5f970",
        "outputId": "8c0269e1-2985-4d18-8fb4-bbc200d0a0da"
      },
      "outputs": [
        {
          "data": {
            "text/plain": [
              "0.9496402877697842"
            ]
          },
          "execution_count": 160,
          "metadata": {},
          "output_type": "execute_result"
        }
      ],
      "source": [
        "recall_score(y_test,predicted_mlp_w2v, pos_label=0)"
      ]
    },
    {
      "cell_type": "code",
      "execution_count": null,
      "id": "886ffa3a",
      "metadata": {
        "id": "886ffa3a",
        "outputId": "57673c5e-2ea2-4901-f27b-f191d8ced876"
      },
      "outputs": [
        {
          "data": {
            "text/plain": [
              "<sklearn.metrics._plot.confusion_matrix.ConfusionMatrixDisplay at 0x7fe6699aba30>"
            ]
          },
          "execution_count": 106,
          "metadata": {},
          "output_type": "execute_result"
        },
        {
          "data": {
            "image/png": "[encoded data removed]",
            "text/plain": [
              "<Figure size 432x288 with 2 Axes>"
            ]
          },
          "metadata": {
            "needs_background": "light"
          },
          "output_type": "display_data"
        }
      ],
      "source": [
        "plot_confusion_matrix(grid_mlp_w2v, X_test_w2v, y_test_w2v)"
      ]
    },
    {
      "cell_type": "code",
      "execution_count": null,
      "id": "35ed7b56",
      "metadata": {
        "id": "35ed7b56",
        "outputId": "2d31b36d-053f-4ea7-d9d1-0febbb8c4cd9"
      },
      "outputs": [
        {
          "name": "stdout",
          "output_type": "stream",
          "text": [
            "Fitting 5 folds for each of 14 candidates, totalling 70 fits\n",
            "[CV 1/5] END .....................n_neighbors=3;, score=0.962 total time=   0.1s\n",
            "[CV 2/5] END .....................n_neighbors=3;, score=0.966 total time=   0.1s\n",
            "[CV 3/5] END .....................n_neighbors=3;, score=0.973 total time=   0.1s\n",
            "[CV 4/5] END .....................n_neighbors=3;, score=0.975 total time=   0.1s\n",
            "[CV 5/5] END .....................n_neighbors=3;, score=0.972 total time=   0.1s\n",
            "[CV 1/5] END .....................n_neighbors=5;, score=0.959 total time=   0.1s\n",
            "[CV 2/5] END .....................n_neighbors=5;, score=0.963 total time=   0.1s\n",
            "[CV 3/5] END .....................n_neighbors=5;, score=0.972 total time=   0.1s\n",
            "[CV 4/5] END .....................n_neighbors=5;, score=0.969 total time=   0.1s\n",
            "[CV 5/5] END .....................n_neighbors=5;, score=0.965 total time=   0.1s\n",
            "[CV 1/5] END .....................n_neighbors=7;, score=0.956 total time=   0.1s\n",
            "[CV 2/5] END .....................n_neighbors=7;, score=0.954 total time=   0.1s\n",
            "[CV 3/5] END .....................n_neighbors=7;, score=0.967 total time=   0.1s\n",
            "[CV 4/5] END .....................n_neighbors=7;, score=0.970 total time=   0.1s\n",
            "[CV 5/5] END .....................n_neighbors=7;, score=0.966 total time=   0.1s\n",
            "[CV 1/5] END .....................n_neighbors=9;, score=0.951 total time=   0.1s\n",
            "[CV 2/5] END .....................n_neighbors=9;, score=0.951 total time=   0.1s\n",
            "[CV 3/5] END .....................n_neighbors=9;, score=0.967 total time=   0.1s\n",
            "[CV 4/5] END .....................n_neighbors=9;, score=0.969 total time=   0.1s\n",
            "[CV 5/5] END .....................n_neighbors=9;, score=0.962 total time=   0.1s\n",
            "[CV 1/5] END ....................n_neighbors=11;, score=0.951 total time=   0.1s\n",
            "[CV 2/5] END ....................n_neighbors=11;, score=0.950 total time=   0.1s\n",
            "[CV 3/5] END ....................n_neighbors=11;, score=0.961 total time=   0.1s\n",
            "[CV 4/5] END ....................n_neighbors=11;, score=0.966 total time=   0.1s\n",
            "[CV 5/5] END ....................n_neighbors=11;, score=0.962 total time=   0.1s\n",
            "[CV 1/5] END ....................n_neighbors=13;, score=0.947 total time=   0.1s\n",
            "[CV 2/5] END ....................n_neighbors=13;, score=0.944 total time=   0.1s\n",
            "[CV 3/5] END ....................n_neighbors=13;, score=0.962 total time=   0.1s\n",
            "[CV 4/5] END ....................n_neighbors=13;, score=0.965 total time=   0.1s\n",
            "[CV 5/5] END ....................n_neighbors=13;, score=0.958 total time=   0.1s\n",
            "[CV 1/5] END ....................n_neighbors=15;, score=0.945 total time=   0.1s\n",
            "[CV 2/5] END ....................n_neighbors=15;, score=0.941 total time=   0.1s\n",
            "[CV 3/5] END ....................n_neighbors=15;, score=0.960 total time=   0.1s\n",
            "[CV 4/5] END ....................n_neighbors=15;, score=0.962 total time=   0.1s\n",
            "[CV 5/5] END ....................n_neighbors=15;, score=0.958 total time=   0.1s\n",
            "[CV 1/5] END ....................n_neighbors=17;, score=0.939 total time=   0.1s\n",
            "[CV 2/5] END ....................n_neighbors=17;, score=0.941 total time=   0.1s\n",
            "[CV 3/5] END ....................n_neighbors=17;, score=0.958 total time=   0.1s\n",
            "[CV 4/5] END ....................n_neighbors=17;, score=0.957 total time=   0.1s\n",
            "[CV 5/5] END ....................n_neighbors=17;, score=0.958 total time=   0.1s\n",
            "[CV 1/5] END ....................n_neighbors=19;, score=0.938 total time=   0.1s\n",
            "[CV 2/5] END ....................n_neighbors=19;, score=0.939 total time=   0.1s\n",
            "[CV 3/5] END ....................n_neighbors=19;, score=0.952 total time=   0.1s\n",
            "[CV 4/5] END ....................n_neighbors=19;, score=0.958 total time=   0.1s\n",
            "[CV 5/5] END ....................n_neighbors=19;, score=0.954 total time=   0.1s\n",
            "[CV 1/5] END ....................n_neighbors=21;, score=0.938 total time=   0.1s\n",
            "[CV 2/5] END ....................n_neighbors=21;, score=0.937 total time=   0.1s\n",
            "[CV 3/5] END ....................n_neighbors=21;, score=0.953 total time=   0.1s\n",
            "[CV 4/5] END ....................n_neighbors=21;, score=0.956 total time=   0.1s\n",
            "[CV 5/5] END ....................n_neighbors=21;, score=0.951 total time=   0.1s\n",
            "[CV 1/5] END ....................n_neighbors=23;, score=0.936 total time=   0.1s\n",
            "[CV 2/5] END ....................n_neighbors=23;, score=0.937 total time=   0.1s\n",
            "[CV 3/5] END ....................n_neighbors=23;, score=0.951 total time=   0.1s\n",
            "[CV 4/5] END ....................n_neighbors=23;, score=0.955 total time=   0.1s\n",
            "[CV 5/5] END ....................n_neighbors=23;, score=0.948 total time=   0.1s\n",
            "[CV 1/5] END ....................n_neighbors=25;, score=0.936 total time=   0.1s\n",
            "[CV 2/5] END ....................n_neighbors=25;, score=0.934 total time=   0.1s\n",
            "[CV 3/5] END ....................n_neighbors=25;, score=0.955 total time=   0.1s\n",
            "[CV 4/5] END ....................n_neighbors=25;, score=0.955 total time=   0.1s\n",
            "[CV 5/5] END ....................n_neighbors=25;, score=0.942 total time=   0.1s\n",
            "[CV 1/5] END ....................n_neighbors=27;, score=0.934 total time=   0.1s\n",
            "[CV 2/5] END ....................n_neighbors=27;, score=0.933 total time=   0.1s\n",
            "[CV 3/5] END ....................n_neighbors=27;, score=0.949 total time=   0.1s\n",
            "[CV 4/5] END ....................n_neighbors=27;, score=0.955 total time=   0.1s\n",
            "[CV 5/5] END ....................n_neighbors=27;, score=0.942 total time=   0.1s\n",
            "[CV 1/5] END ....................n_neighbors=29;, score=0.933 total time=   0.1s\n",
            "[CV 2/5] END ....................n_neighbors=29;, score=0.933 total time=   0.3s\n",
            "[CV 3/5] END ....................n_neighbors=29;, score=0.946 total time=   0.1s\n",
            "[CV 4/5] END ....................n_neighbors=29;, score=0.955 total time=   0.1s\n",
            "[CV 5/5] END ....................n_neighbors=29;, score=0.942 total time=   0.1s\n"
          ]
        },
        {
          "data": {
            "text/plain": [
              "GridSearchCV(estimator=KNeighborsClassifier(),\n",
              "             param_grid={'n_neighbors': [3, 5, 7, 9, 11, 13, 15, 17, 19, 21, 23,\n",
              "                                         25, 27, 29]},\n",
              "             verbose=3)"
            ]
          },
          "execution_count": 107,
          "metadata": {},
          "output_type": "execute_result"
        }
      ],
      "source": [
        "k_range = [3, 5, 7, 9, 11, 13, 15, 17, 19, 21, 23, 25, 27, 29]\n",
        "param_grid = dict(n_neighbors=k_range)\n",
        "\n",
        "grid_knn_w2v = GridSearchCV(KNeighborsClassifier(), param_grid, refit = True, verbose = 3)\n",
        "grid_knn_w2v.fit(X_train_w2v,y_train_w2v)"
      ]
    },
    {
      "cell_type": "code",
      "execution_count": null,
      "id": "77f75b4a",
      "metadata": {
        "id": "77f75b4a",
        "outputId": "a0d396b6-5f32-4c58-b3b1-aeb071645b43"
      },
      "outputs": [
        {
          "data": {
            "text/plain": [
              "KNeighborsClassifier(n_neighbors=3)"
            ]
          },
          "execution_count": 108,
          "metadata": {},
          "output_type": "execute_result"
        }
      ],
      "source": [
        "grid_knn_w2v.best_estimator_"
      ]
    },
    {
      "cell_type": "code",
      "execution_count": null,
      "id": "7baf7ff1",
      "metadata": {
        "id": "7baf7ff1",
        "outputId": "c37c09e9-8acc-4460-d66c-8d241a956bed"
      },
      "outputs": [
        {
          "data": {
            "text/plain": [
              "{'n_neighbors': 3}"
            ]
          },
          "execution_count": 109,
          "metadata": {},
          "output_type": "execute_result"
        }
      ],
      "source": [
        "grid_knn_w2v.best_params_"
      ]
    },
    {
      "cell_type": "code",
      "execution_count": null,
      "id": "7c703ec5",
      "metadata": {
        "id": "7c703ec5",
        "outputId": "bbf1010f-af37-4398-9a92-7ba90e41c959"
      },
      "outputs": [
        {
          "data": {
            "text/html": [
              "<div>\n",
              "<style scoped>\n",
              "    .dataframe tbody tr th:only-of-type {\n",
              "        vertical-align: middle;\n",
              "    }\n",
              "\n",
              "    .dataframe tbody tr th {\n",
              "        vertical-align: top;\n",
              "    }\n",
              "\n",
              "    .dataframe thead th {\n",
              "        text-align: right;\n",
              "    }\n",
              "</style>\n",
              "<table border=\"1\" class=\"dataframe\">\n",
              "  <thead>\n",
              "    <tr style=\"text-align: right;\">\n",
              "      <th></th>\n",
              "      <th>params</th>\n",
              "      <th>mean_test_score</th>\n",
              "    </tr>\n",
              "  </thead>\n",
              "  <tbody>\n",
              "    <tr>\n",
              "      <th>0</th>\n",
              "      <td>{'n_neighbors': 3}</td>\n",
              "      <td>0.969713</td>\n",
              "    </tr>\n",
              "    <tr>\n",
              "      <th>1</th>\n",
              "      <td>{'n_neighbors': 5}</td>\n",
              "      <td>0.965450</td>\n",
              "    </tr>\n",
              "    <tr>\n",
              "      <th>2</th>\n",
              "      <td>{'n_neighbors': 7}</td>\n",
              "      <td>0.962759</td>\n",
              "    </tr>\n",
              "    <tr>\n",
              "      <th>3</th>\n",
              "      <td>{'n_neighbors': 9}</td>\n",
              "      <td>0.959843</td>\n",
              "    </tr>\n",
              "    <tr>\n",
              "      <th>4</th>\n",
              "      <td>{'n_neighbors': 11}</td>\n",
              "      <td>0.957823</td>\n",
              "    </tr>\n",
              "    <tr>\n",
              "      <th>5</th>\n",
              "      <td>{'n_neighbors': 13}</td>\n",
              "      <td>0.955355</td>\n",
              "    </tr>\n",
              "    <tr>\n",
              "      <th>6</th>\n",
              "      <td>{'n_neighbors': 15}</td>\n",
              "      <td>0.953112</td>\n",
              "    </tr>\n",
              "    <tr>\n",
              "      <th>7</th>\n",
              "      <td>{'n_neighbors': 17}</td>\n",
              "      <td>0.950869</td>\n",
              "    </tr>\n",
              "    <tr>\n",
              "      <th>8</th>\n",
              "      <td>{'n_neighbors': 19}</td>\n",
              "      <td>0.948400</td>\n",
              "    </tr>\n",
              "    <tr>\n",
              "      <th>9</th>\n",
              "      <td>{'n_neighbors': 21}</td>\n",
              "      <td>0.947054</td>\n",
              "    </tr>\n",
              "    <tr>\n",
              "      <th>10</th>\n",
              "      <td>{'n_neighbors': 23}</td>\n",
              "      <td>0.945483</td>\n",
              "    </tr>\n",
              "    <tr>\n",
              "      <th>11</th>\n",
              "      <td>{'n_neighbors': 25}</td>\n",
              "      <td>0.944361</td>\n",
              "    </tr>\n",
              "    <tr>\n",
              "      <th>12</th>\n",
              "      <td>{'n_neighbors': 27}</td>\n",
              "      <td>0.942566</td>\n",
              "    </tr>\n",
              "    <tr>\n",
              "      <th>13</th>\n",
              "      <td>{'n_neighbors': 29}</td>\n",
              "      <td>0.941669</td>\n",
              "    </tr>\n",
              "  </tbody>\n",
              "</table>\n",
              "</div>"
            ],
            "text/plain": [
              "                 params  mean_test_score\n",
              "0    {'n_neighbors': 3}         0.969713\n",
              "1    {'n_neighbors': 5}         0.965450\n",
              "2    {'n_neighbors': 7}         0.962759\n",
              "3    {'n_neighbors': 9}         0.959843\n",
              "4   {'n_neighbors': 11}         0.957823\n",
              "5   {'n_neighbors': 13}         0.955355\n",
              "6   {'n_neighbors': 15}         0.953112\n",
              "7   {'n_neighbors': 17}         0.950869\n",
              "8   {'n_neighbors': 19}         0.948400\n",
              "9   {'n_neighbors': 21}         0.947054\n",
              "10  {'n_neighbors': 23}         0.945483\n",
              "11  {'n_neighbors': 25}         0.944361\n",
              "12  {'n_neighbors': 27}         0.942566\n",
              "13  {'n_neighbors': 29}         0.941669"
            ]
          },
          "execution_count": 110,
          "metadata": {},
          "output_type": "execute_result"
        }
      ],
      "source": [
        "cv_results_knn_w2v = pd.DataFrame(grid_knn_w2v.cv_results_)[['params','mean_test_score']]\n",
        "cv_results_knn_w2v.sort_values(by='mean_test_score',ascending=False)"
      ]
    },
    {
      "cell_type": "code",
      "execution_count": null,
      "id": "56df54e5",
      "metadata": {
        "id": "56df54e5"
      },
      "outputs": [],
      "source": [
        "predicted_knn_w2v = grid_knn_w2v.predict(X_test_w2v)"
      ]
    },
    {
      "cell_type": "code",
      "execution_count": null,
      "id": "03637639",
      "metadata": {
        "id": "03637639",
        "outputId": "ee37c414-02aa-436f-8183-fdc7e75680ff"
      },
      "outputs": [
        {
          "data": {
            "text/plain": [
              "0.9739910313901345"
            ]
          },
          "execution_count": 112,
          "metadata": {},
          "output_type": "execute_result"
        }
      ],
      "source": [
        "accuracy_score(y_test,predicted_knn_w2v)"
      ]
    },
    {
      "cell_type": "code",
      "execution_count": null,
      "id": "104d6287",
      "metadata": {
        "id": "104d6287",
        "outputId": "8244de88-bf16-47bb-9d3a-926a979b7a72"
      },
      "outputs": [
        {
          "data": {
            "text/plain": [
              "0.88715953307393"
            ]
          },
          "execution_count": 161,
          "metadata": {},
          "output_type": "execute_result"
        }
      ],
      "source": [
        "f1_score(y_test,predicted_knn_w2v, pos_label=0)"
      ]
    },
    {
      "cell_type": "code",
      "execution_count": null,
      "id": "9f497fe0",
      "metadata": {
        "id": "9f497fe0",
        "outputId": "33172e62-d008-4249-e4a3-8501a9c19431"
      },
      "outputs": [
        {
          "data": {
            "text/plain": [
              "0.9661016949152542"
            ]
          },
          "execution_count": 162,
          "metadata": {},
          "output_type": "execute_result"
        }
      ],
      "source": [
        "precision_score(y_test,predicted_knn_w2v, pos_label=0)"
      ]
    },
    {
      "cell_type": "code",
      "execution_count": null,
      "id": "4a1b7a3d",
      "metadata": {
        "id": "4a1b7a3d",
        "outputId": "99760df5-ca9a-419c-b9f9-b92f1d100b64"
      },
      "outputs": [
        {
          "data": {
            "text/plain": [
              "0.8201438848920863"
            ]
          },
          "execution_count": 163,
          "metadata": {},
          "output_type": "execute_result"
        }
      ],
      "source": [
        "recall_score(y_test,predicted_knn_w2v, pos_label=0)"
      ]
    },
    {
      "cell_type": "code",
      "execution_count": null,
      "id": "faebac76",
      "metadata": {
        "id": "faebac76",
        "outputId": "1aa052ce-66e1-41e3-d8bb-386b643dc119"
      },
      "outputs": [
        {
          "data": {
            "text/plain": [
              "<sklearn.metrics._plot.confusion_matrix.ConfusionMatrixDisplay at 0x7fe669a6b2b0>"
            ]
          },
          "execution_count": 114,
          "metadata": {},
          "output_type": "execute_result"
        },
        {
          "data": {
            "image/png": "[encoded data removed]",
            "text/plain": [
              "<Figure size 432x288 with 2 Axes>"
            ]
          },
          "metadata": {
            "needs_background": "light"
          },
          "output_type": "display_data"
        }
      ],
      "source": [
        "plot_confusion_matrix(grid_knn_w2v, X_test_w2v, y_test_w2v)"
      ]
    },
    {
      "cell_type": "code",
      "execution_count": null,
      "id": "41d160bb",
      "metadata": {
        "id": "41d160bb",
        "outputId": "ededb2e7-ba81-4d03-ffa2-174e1b51df75"
      },
      "outputs": [
        {
          "data": {
            "text/plain": [
              "(4457, 5711)"
            ]
          },
          "execution_count": 115,
          "metadata": {},
          "output_type": "execute_result"
        }
      ],
      "source": [
        "X_train_tfidf.shape"
      ]
    },
    {
      "cell_type": "code",
      "execution_count": null,
      "id": "107def9c",
      "metadata": {
        "id": "107def9c",
        "outputId": "ea838782-f21a-4143-82d8-d796bf47681c"
      },
      "outputs": [
        {
          "data": {
            "text/plain": [
              "(4457, 300)"
            ]
          },
          "execution_count": 116,
          "metadata": {},
          "output_type": "execute_result"
        }
      ],
      "source": [
        "X_train_w2v.shape"
      ]
    },
    {
      "cell_type": "code",
      "execution_count": null,
      "id": "ea2a01be",
      "metadata": {
        "id": "ea2a01be",
        "outputId": "1c89c34e-581d-4370-8ec3-28868cadc9b6"
      },
      "outputs": [
        {
          "name": "stdout",
          "output_type": "stream",
          "text": [
            "kNN: ROC AUC=0.989\n"
          ]
        },
        {
          "data": {
            "image/png": "[encoded data removed]",
            "text/plain": [
              "<Figure size 432x288 with 1 Axes>"
            ]
          },
          "metadata": {
            "needs_background": "light"
          },
          "output_type": "display_data"
        }
      ],
      "source": [
        "knn_auc = roc_auc_score(y_test, grid_knn.predict_proba(X_test_tfidf)[:,1])\n",
        "# summarize scores\n",
        "print('kNN: ROC AUC=%.3f' % (knn_auc))\n",
        "# calculate roc curves\n",
        "knn_fpr, knn_tpr, _ = roc_curve(y_test, grid_knn.predict_proba(X_test_tfidf)[:,0], pos_label=0)\n",
        "# plot the roc curve for the model\n",
        "plt.plot(knn_fpr, knn_tpr, marker='.', label='kNN')\n",
        "# axis labels\n",
        "plt.xlabel('False Positive Rate')\n",
        "plt.ylabel('True Positive Rate')\n",
        "# show the legend\n",
        "plt.legend()\n",
        "# show the plot\n",
        "plt.show()"
      ]
    },
    {
      "cell_type": "code",
      "execution_count": null,
      "id": "b934cf6e",
      "metadata": {
        "id": "b934cf6e",
        "outputId": "e186fa82-a7eb-43df-cd6e-6629277d0fe2"
      },
      "outputs": [
        {
          "name": "stdout",
          "output_type": "stream",
          "text": [
            "MLP: ROC AUC=0.990\n"
          ]
        },
        {
          "data": {
            "image/png": "[encoded data removed]",
            "text/plain": [
              "<Figure size 432x288 with 1 Axes>"
            ]
          },
          "metadata": {
            "needs_background": "light"
          },
          "output_type": "display_data"
        }
      ],
      "source": [
        "mlp_auc = roc_auc_score(y_test, grid_mlp.predict_proba(X_test_tfidf)[:,1])\n",
        "# summarize scores\n",
        "print('MLP: ROC AUC=%.3f' % (mlp_auc))\n",
        "# calculate roc curves\n",
        "mlp_fpr, mlp_tpr, _ = roc_curve(y_test, grid_mlp.predict_proba(X_test_tfidf)[:,0], pos_label=0)\n",
        "# plot the roc curve for the model\n",
        "plt.plot(mlp_fpr, mlp_tpr, marker='.', label='MLP')\n",
        "# axis labels\n",
        "plt.xlabel('False Positive Rate')\n",
        "plt.ylabel('True Positive Rate')\n",
        "# show the legend\n",
        "plt.legend()\n",
        "# show the plot\n",
        "plt.show()"
      ]
    },
    {
      "cell_type": "code",
      "execution_count": null,
      "id": "e6936b5b",
      "metadata": {
        "id": "e6936b5b",
        "outputId": "f616f202-7007-4932-c9cf-d367e1183123"
      },
      "outputs": [
        {
          "name": "stdout",
          "output_type": "stream",
          "text": [
            "kNN with W2V: ROC AUC=0.954\n"
          ]
        },
        {
          "data": {
            "image/png": "[encoded data removed]",
            "text/plain": [
              "<Figure size 432x288 with 1 Axes>"
            ]
          },
          "metadata": {
            "needs_background": "light"
          },
          "output_type": "display_data"
        }
      ],
      "source": [
        "knn_w2v_auc = roc_auc_score(y_test, grid_knn_w2v.predict_proba(X_test_w2v)[:,1])\n",
        "# summarize scores\n",
        "print('kNN with W2V: ROC AUC=%.3f' % (knn_w2v_auc))\n",
        "# calculate roc curves\n",
        "knn_fpr_w2v, knn_tpr_w2v, _ = roc_curve(y_test, grid_knn_w2v.predict_proba(X_test_w2v)[:,0], pos_label=0)\n",
        "# plot the roc curve for the model\n",
        "plt.plot(knn_fpr_w2v, knn_tpr_w2v, marker='.', label='kNN with W2V')\n",
        "# axis labels\n",
        "plt.xlabel('False Positive Rate')\n",
        "plt.ylabel('True Positive Rate')\n",
        "# show the legend\n",
        "plt.legend()\n",
        "# show the plot\n",
        "plt.show()"
      ]
    },
    {
      "cell_type": "code",
      "execution_count": null,
      "id": "c1c164e1",
      "metadata": {
        "id": "c1c164e1",
        "outputId": "dc937913-fed0-4c37-bf45-7756ba8eb147"
      },
      "outputs": [
        {
          "name": "stdout",
          "output_type": "stream",
          "text": [
            "MLP with W2V: ROC AUC=0.983\n"
          ]
        },
        {
          "data": {
            "image/png": "[encoded data removed]",
            "text/plain": [
              "<Figure size 432x288 with 1 Axes>"
            ]
          },
          "metadata": {
            "needs_background": "light"
          },
          "output_type": "display_data"
        }
      ],
      "source": [
        "mlp_w2v_auc = roc_auc_score(y_test, grid_mlp_w2v.predict_proba(X_test_w2v)[:,1])\n",
        "# summarize scores\n",
        "print('MLP with W2V: ROC AUC=%.3f' % (mlp_w2v_auc))\n",
        "# calculate roc curves\n",
        "mlp_fpr_w2v, mlp_tpr_w2v, _ = roc_curve(y_test, grid_mlp_w2v.predict_proba(X_test_w2v)[:,0], pos_label=0)\n",
        "# plot the roc curve for the model\n",
        "plt.plot(mlp_fpr_w2v, mlp_tpr_w2v, marker='.', label='MLP with W2V')\n",
        "# axis labels\n",
        "plt.xlabel('False Positive Rate')\n",
        "plt.ylabel('True Positive Rate')\n",
        "# show the legend\n",
        "plt.legend()\n",
        "# show the plot\n",
        "plt.show()"
      ]
    },
    {
      "cell_type": "code",
      "execution_count": null,
      "id": "665e6140",
      "metadata": {
        "id": "665e6140"
      },
      "outputs": [],
      "source": [
        "scores = grid.decision_function(X_test_tfidf)"
      ]
    },
    {
      "cell_type": "code",
      "execution_count": null,
      "id": "c7b02927",
      "metadata": {
        "id": "c7b02927",
        "outputId": "aa5bbaf8-a793-4cd2-a41b-3fbf060f13a1"
      },
      "outputs": [
        {
          "data": {
            "text/plain": [
              "array([1.1092957 , 1.2650822 , 0.80666455, ..., 0.58383483, 1.60027457,\n",
              "       2.04684251])"
            ]
          },
          "execution_count": 257,
          "metadata": {},
          "output_type": "execute_result"
        }
      ],
      "source": [
        "scores"
      ]
    },
    {
      "cell_type": "code",
      "execution_count": null,
      "id": "7495b849",
      "metadata": {
        "id": "7495b849"
      },
      "outputs": [],
      "source": [
        "thresholds = np.linspace(-3,3, 25)"
      ]
    },
    {
      "cell_type": "code",
      "execution_count": null,
      "id": "58dcc6fc",
      "metadata": {
        "id": "58dcc6fc",
        "outputId": "d7e77115-40ad-4c0a-e966-ded74825c010"
      },
      "outputs": [
        {
          "name": "stdout",
          "output_type": "stream",
          "text": [
            "For threshold -3.0 we have TPR of 0.0 and FPR of 0.0\n",
            "For threshold -2.75 we have TPR of 0.0 and FPR of 0.0\n",
            "For threshold -2.5 we have TPR of 0.007194244604316547 and FPR of 0.0\n",
            "For threshold -2.25 we have TPR of 0.06474820143884892 and FPR of 0.0\n",
            "For threshold -2.0 we have TPR of 0.14388489208633093 and FPR of 0.0\n",
            "For threshold -1.75 we have TPR of 0.2733812949640288 and FPR of 0.0\n",
            "For threshold -1.5 we have TPR of 0.381294964028777 and FPR of 0.0\n",
            "For threshold -1.25 we have TPR of 0.5539568345323741 and FPR of 0.0\n",
            "For threshold -1.0 we have TPR of 0.762589928057554 and FPR of 0.0\n",
            "For threshold -0.75 we have TPR of 0.8776978417266187 and FPR of 0.0\n",
            "For threshold -0.5 we have TPR of 0.9064748201438849 and FPR of 0.0\n",
            "For threshold -0.25 we have TPR of 0.935251798561151 and FPR of 0.0020491803278688526\n",
            "For threshold 0.0 we have TPR of 0.9568345323741008 and FPR of 0.004098360655737705\n",
            "For threshold 0.25 we have TPR of 0.9640287769784173 and FPR of 0.010245901639344262\n",
            "For threshold 0.5 we have TPR of 0.9712230215827338 and FPR of 0.0194672131147541\n",
            "For threshold 0.75 we have TPR of 0.9784172661870504 and FPR of 0.05737704918032787\n",
            "For threshold 1.0 we have TPR of 0.9856115107913669 and FPR of 0.15881147540983606\n",
            "For threshold 1.25 we have TPR of 0.9928057553956835 and FPR of 0.31864754098360654\n",
            "For threshold 1.5 we have TPR of 0.9928057553956835 and FPR of 0.5645491803278688\n",
            "For threshold 1.75 we have TPR of 1.0 and FPR of 0.7653688524590164\n",
            "For threshold 2.0 we have TPR of 1.0 and FPR of 0.8862704918032787\n",
            "For threshold 2.25 we have TPR of 1.0 and FPR of 0.9395491803278688\n",
            "For threshold 2.5 we have TPR of 1.0 and FPR of 0.9631147540983607\n",
            "For threshold 2.75 we have TPR of 1.0 and FPR of 0.9887295081967213\n",
            "For threshold 3.0 we have TPR of 1.0 and FPR of 0.9938524590163934\n",
            "SVM: ROC AUC=0.986\n"
          ]
        },
        {
          "data": {
            "image/png": "[encoded data removed]",
            "text/plain": [
              "<Figure size 432x288 with 1 Axes>"
            ]
          },
          "metadata": {
            "needs_background": "light"
          },
          "output_type": "display_data"
        }
      ],
      "source": [
        "svm_tpr = []\n",
        "svm_fpr = []\n",
        "for threshold in thresholds:\n",
        "    y_hat = [0 if score<threshold else 1 for score in scores]\n",
        "    svm_conf = confusion_matrix(y_test, y_hat)\n",
        "    tpr = svm_conf[0,0] / (svm_conf[0,0] + svm_conf[0,1])\n",
        "    fpr = svm_conf[1,0] / (svm_conf[1,0] + svm_conf[1,1])\n",
        "    svm_tpr.append(tpr)\n",
        "    svm_fpr.append(fpr)\n",
        "    print(f'For threshold {threshold} we have TPR of {tpr} and FPR of {fpr}')\n",
        "svm_tpr = np.array(svm_tpr)\n",
        "svm_fpr = np.array(svm_fpr)\n",
        "print('SVM: ROC AUC=%.3f' % (svm_auc))\n",
        "plt.plot(svm_fpr, svm_tpr, marker='.', label='SVM')\n",
        "# axis labels\n",
        "plt.xlabel('False Positive Rate')\n",
        "plt.ylabel('True Positive Rate')\n",
        "# show the legend\n",
        "plt.legend()\n",
        "# show the plot\n",
        "plt.show()"
      ]
    },
    {
      "cell_type": "code",
      "execution_count": null,
      "id": "0fc80773",
      "metadata": {
        "id": "0fc80773",
        "outputId": "9b55cc41-63ce-4154-ec6e-f7c2c7dac721"
      },
      "outputs": [
        {
          "name": "stdout",
          "output_type": "stream",
          "text": [
            "AUC for SVM with TF-IDF: 0.9860427231984903\n"
          ]
        }
      ],
      "source": [
        "svm_auc = auc(svm_fpr, svm_tpr)\n",
        "print(f'AUC for SVM with TF-IDF: {svm_auc}')"
      ]
    },
    {
      "cell_type": "code",
      "execution_count": null,
      "id": "26d61d44",
      "metadata": {
        "id": "26d61d44",
        "outputId": "2eea7cbc-ecf4-4b74-a54c-74749fb8cda2"
      },
      "outputs": [
        {
          "name": "stdout",
          "output_type": "stream",
          "text": [
            "AUC for MLP with TF-IDF: 0.9897835829696898\n"
          ]
        }
      ],
      "source": [
        "mlp_auc = auc(mlp_fpr, mlp_tpr)\n",
        "print(f'AUC for MLP with TF-IDF: {mlp_auc}')"
      ]
    },
    {
      "cell_type": "code",
      "execution_count": null,
      "id": "14c4b315",
      "metadata": {
        "id": "14c4b315",
        "outputId": "c265200c-b084-4f38-dc50-1c6ae0dbc365"
      },
      "outputs": [
        {
          "name": "stdout",
          "output_type": "stream",
          "text": [
            "AUC for KNN with TF-IDF: 0.9887921629909187\n"
          ]
        }
      ],
      "source": [
        "knn_auc = auc(knn_fpr, knn_tpr)\n",
        "print(f'AUC for KNN with TF-IDF: {knn_auc}')"
      ]
    },
    {
      "cell_type": "code",
      "execution_count": null,
      "id": "7221ea83",
      "metadata": {
        "id": "7221ea83",
        "outputId": "35e12ddb-9ee0-49f4-d594-51a6f051fcd0"
      },
      "outputs": [
        {
          "name": "stdout",
          "output_type": "stream",
          "text": [
            "For threshold -3.0 we have TPR of 0.0 and FPR of 0.0\n",
            "For threshold -2.75 we have TPR of 0.0 and FPR of 0.0\n",
            "For threshold -2.5 we have TPR of 0.0 and FPR of 0.0\n",
            "For threshold -2.25 we have TPR of 0.0 and FPR of 0.0\n",
            "For threshold -2.0 we have TPR of 0.007194244604316547 and FPR of 0.0\n",
            "For threshold -1.75 we have TPR of 0.02877697841726619 and FPR of 0.0\n",
            "For threshold -1.5 we have TPR of 0.03597122302158273 and FPR of 0.0\n",
            "For threshold -1.25 we have TPR of 0.20863309352517986 and FPR of 0.0\n",
            "For threshold -1.0 we have TPR of 0.5179856115107914 and FPR of 0.0\n",
            "For threshold -0.75 we have TPR of 0.7410071942446043 and FPR of 0.0010245901639344263\n",
            "For threshold -0.5 we have TPR of 0.7841726618705036 and FPR of 0.0010245901639344263\n",
            "For threshold -0.25 we have TPR of 0.8848920863309353 and FPR of 0.0010245901639344263\n",
            "For threshold 0.0 we have TPR of 0.935251798561151 and FPR of 0.0030737704918032786\n",
            "For threshold 0.25 we have TPR of 0.9496402877697842 and FPR of 0.005122950819672131\n",
            "For threshold 0.5 we have TPR of 0.9640287769784173 and FPR of 0.015368852459016393\n",
            "For threshold 0.75 we have TPR of 0.9856115107913669 and FPR of 0.07479508196721311\n",
            "For threshold 1.0 we have TPR of 0.9928057553956835 and FPR of 0.1875\n",
            "For threshold 1.25 we have TPR of 0.9928057553956835 and FPR of 0.3473360655737705\n",
            "For threshold 1.5 we have TPR of 1.0 and FPR of 0.4989754098360656\n",
            "For threshold 1.75 we have TPR of 1.0 and FPR of 0.6413934426229508\n",
            "For threshold 2.0 we have TPR of 1.0 and FPR of 0.7561475409836066\n",
            "For threshold 2.25 we have TPR of 1.0 and FPR of 0.8668032786885246\n",
            "For threshold 2.5 we have TPR of 1.0 and FPR of 0.9436475409836066\n",
            "For threshold 2.75 we have TPR of 1.0 and FPR of 0.9784836065573771\n",
            "For threshold 3.0 we have TPR of 1.0 and FPR of 0.9938524590163934\n",
            "SVM with W2V: ROC AUC=0.988\n"
          ]
        },
        {
          "data": {
            "image/png": "[encoded data removed]",
            "text/plain": [
              "<Figure size 432x288 with 1 Axes>"
            ]
          },
          "metadata": {
            "needs_background": "light"
          },
          "output_type": "display_data"
        }
      ],
      "source": [
        "svm_tpr_w2v = []\n",
        "svm_fpr_w2v = []\n",
        "scores_w2v = grid_svm_w2v.decision_function(X_test_w2v)\n",
        "for threshold in thresholds:\n",
        "    y_hat = [0 if score<threshold else 1 for score in scores_w2v]\n",
        "    svm_conf = confusion_matrix(y_test, y_hat)\n",
        "    tpr = svm_conf[0,0] / (svm_conf[0,0] + svm_conf[0,1])\n",
        "    fpr = svm_conf[1,0] / (svm_conf[1,0] + svm_conf[1,1])\n",
        "    svm_tpr_w2v.append(tpr)\n",
        "    svm_fpr_w2v.append(fpr)\n",
        "    print(f'For threshold {threshold} we have TPR of {tpr} and FPR of {fpr}')\n",
        "svm_tpr_w2v = np.array(svm_tpr_w2v)\n",
        "svm_fpr_w2v = np.array(svm_fpr_w2v)\n",
        "print('SVM with W2V: ROC AUC=%.3f' % (svm_w2v_auc))\n",
        "plt.plot(svm_fpr_w2v, svm_tpr_w2v, marker='.', label='SVM with W2V')\n",
        "# axis labels\n",
        "plt.xlabel('False Positive Rate')\n",
        "plt.ylabel('True Positive Rate')\n",
        "# show the legend\n",
        "plt.legend()\n",
        "# show the plot\n",
        "plt.show()"
      ]
    },
    {
      "cell_type": "code",
      "execution_count": null,
      "id": "d21e6984",
      "metadata": {
        "id": "d21e6984",
        "outputId": "e09c325a-bdd7-4d32-8fb5-1e5e573a3026"
      },
      "outputs": [
        {
          "name": "stdout",
          "output_type": "stream",
          "text": [
            "AUC for SVM with Word2Vec: 0.9883204092463734\n"
          ]
        }
      ],
      "source": [
        "svm_w2v_auc = auc(svm_fpr_w2v, svm_tpr_w2v)\n",
        "print(f'AUC for SVM with Word2Vec: {svm_w2v_auc}')"
      ]
    },
    {
      "cell_type": "code",
      "execution_count": null,
      "id": "114c1418",
      "metadata": {
        "id": "114c1418",
        "outputId": "73ea66f8-da1b-4b49-e90b-53e75391351b"
      },
      "outputs": [
        {
          "name": "stdout",
          "output_type": "stream",
          "text": [
            "AUC for MLP with Word2Vec: 0.9832011440028305\n"
          ]
        }
      ],
      "source": [
        "mlp_w2v_auc = auc(mlp_fpr_w2v, mlp_tpr_w2v)\n",
        "print(f'AUC for MLP with Word2Vec: {mlp_w2v_auc}')"
      ]
    },
    {
      "cell_type": "code",
      "execution_count": null,
      "id": "b45518f9",
      "metadata": {
        "id": "b45518f9",
        "outputId": "775703a3-c3b5-41e8-ceef-4fe06f241729"
      },
      "outputs": [
        {
          "name": "stdout",
          "output_type": "stream",
          "text": [
            "AUC for KNN with Word2Vec: 0.9541072060384479\n"
          ]
        }
      ],
      "source": [
        "knn_w2v_auc = auc(knn_fpr_w2v, knn_tpr_w2v)\n",
        "print(f'AUC for KNN with Word2Vec: {knn_w2v_auc}')"
      ]
    }
  ],
  "metadata": {
    "kernelspec": {
      "display_name": "Python 3 (ipykernel)",
      "language": "python",
      "name": "python3"
    },
    "language_info": {
      "codemirror_mode": {
        "name": "ipython",
        "version": 3
      },
      "file_extension": ".py",
      "mimetype": "text/x-python",
      "name": "python",
      "nbconvert_exporter": "python",
      "pygments_lexer": "ipython3",
      "version": "3.9.7"
    },
    "colab": {
      "provenance": [],
      "include_colab_link": true
    }
  },
  "nbformat": 4,
  "nbformat_minor": 5
}